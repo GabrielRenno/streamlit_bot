{
 "cells": [
  {
   "cell_type": "code",
   "execution_count": 4,
   "metadata": {},
   "outputs": [
    {
     "name": "stdout",
     "output_type": "stream",
     "text": [
      "Document 1: <langchain.document_loaders.pdf.PyPDFLoader object at 0x117cc42e0>\n",
      "Document 2: <langchain.document_loaders.pdf.PyPDFLoader object at 0x117c82a70>\n",
      "Document 3: <langchain.document_loaders.pdf.PyPDFLoader object at 0x117c818a0>\n",
      "Document 4: <langchain.document_loaders.pdf.PyPDFLoader object at 0x124ccc400>\n"
     ]
    }
   ],
   "source": [
    "import os\n",
    "from langchain.document_loaders import UnstructuredPDFLoader, OnlinePDFLoader, PyPDFLoader\n",
    "\n",
    "import os\n",
    "\n",
    "# Directory containing PDF files\n",
    "pdf_directory = \".\"  # Assuming the PDF files are in the same directory as your .py file\n",
    "\n",
    "# Initialize a list to store the PDFs\n",
    "docs = []\n",
    "\n",
    "# Iterate through all PDF files in the directory\n",
    "for filename in os.listdir(pdf_directory):\n",
    "    if filename.endswith(\".pdf\"):\n",
    "        # Create a loader for each PDF file\n",
    "        loader = PyPDFLoader(os.path.join(pdf_directory, filename))\n",
    "        docs.append(loader)  # Add the loaded PDF to the list\n",
    "\n",
    "# Print the loaded PDFs\n",
    "for idx, doc in enumerate(docs):\n",
    "    print(f\"Document {idx + 1}: {doc}\")\n",
    "\n",
    "\n"
   ]
  },
  {
   "cell_type": "code",
   "execution_count": 3,
   "metadata": {},
   "outputs": [
    {
     "data": {
      "text/plain": [
       "<langchain.document_loaders.pdf.PyPDFLoader at 0x105c9bd00>"
      ]
     },
     "execution_count": 3,
     "metadata": {},
     "output_type": "execute_result"
    }
   ],
   "source": []
  },
  {
   "cell_type": "code",
   "execution_count": null,
   "metadata": {},
   "outputs": [],
   "source": []
  }
 ],
 "metadata": {
  "kernelspec": {
   "display_name": "base",
   "language": "python",
   "name": "python3"
  },
  "language_info": {
   "codemirror_mode": {
    "name": "ipython",
    "version": 3
   },
   "file_extension": ".py",
   "mimetype": "text/x-python",
   "name": "python",
   "nbconvert_exporter": "python",
   "pygments_lexer": "ipython3",
   "version": "3.10.9"
  },
  "orig_nbformat": 4
 },
 "nbformat": 4,
 "nbformat_minor": 2
}
