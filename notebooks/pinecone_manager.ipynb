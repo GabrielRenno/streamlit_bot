{
 "cells": [
  {
   "cell_type": "markdown",
   "source": [
    "# Pinecone Manager"
   ],
   "metadata": {
    "collapsed": false
   },
   "id": "a11fa2464d1343c5"
  },
  {
   "cell_type": "markdown",
   "source": [
    "## Uploading and Querying Documents"
   ],
   "metadata": {
    "collapsed": false
   },
   "id": "e13292bb5c6946a"
  },
  {
   "cell_type": "code",
   "execution_count": 1,
   "id": "initial_id",
   "metadata": {
    "collapsed": true,
    "ExecuteTime": {
     "end_time": "2023-10-27T21:54:30.377085Z",
     "start_time": "2023-10-27T21:54:27.607585Z"
    }
   },
   "outputs": [
    {
     "name": "stderr",
     "output_type": "stream",
     "text": [
      "/Users/nilsjennissen/CompanyProjects/streamlit_bot/venv/lib/python3.9/site-packages/urllib3/__init__.py:34: NotOpenSSLWarning: urllib3 v2.0 only supports OpenSSL 1.1.1+, currently the 'ssl' module is compiled with 'LibreSSL 2.8.3'. See: https://github.com/urllib3/urllib3/issues/3020\n",
      "  warnings.warn(\n",
      "/Users/nilsjennissen/CompanyProjects/streamlit_bot/venv/lib/python3.9/site-packages/pinecone/index.py:4: TqdmExperimentalWarning: Using `tqdm.autonotebook.tqdm` in notebook mode. Use `tqdm.tqdm` instead to force console mode (e.g. in jupyter console)\n",
      "  from tqdm.autonotebook import tqdm\n"
     ]
    }
   ],
   "source": [
    "from langchain.document_loaders import PyPDFLoader\n",
    "from langchain.text_splitter import RecursiveCharacterTextSplitter\n",
    "from langchain.callbacks.manager import CallbackManager\n",
    "from langchain.llms import Ollama\n",
    "from langchain.callbacks.manager import CallbackManager\n",
    "from langchain.callbacks.streaming_stdout import StreamingStdOutCallbackHandler\n",
    "from langchain.embeddings import OllamaEmbeddings\n",
    "\n",
    "from langchain.vectorstores import Pinecone\n",
    "from langchain.embeddings.openai import OpenAIEmbeddings\n",
    "from langchain.llms import OpenAI\n",
    "from langchain.chains.question_answering import load_qa_chain\n",
    "import pinecone\n",
    "import random\n",
    "import itertools\n",
    "\n",
    "from credentials import OPENAI_API_KEY, PINECONE_API_KEY, PINECONE_API_ENV"
   ]
  },
  {
   "cell_type": "code",
   "execution_count": 6,
   "outputs": [],
   "source": [
    "prompt = \"What is the name of the school?\""
   ],
   "metadata": {
    "collapsed": false,
    "ExecuteTime": {
     "end_time": "2023-10-27T22:01:40.901243Z",
     "start_time": "2023-10-27T22:01:40.891706Z"
    }
   },
   "id": "f324d84cb56b2437"
  },
  {
   "cell_type": "code",
   "execution_count": 7,
   "outputs": [
    {
     "data": {
      "text/plain": "[Document(page_content='NORMES\\nD’ORGANITZACIÓ\\nI\\nFUNCIONAMENT\\nDE\\nCENTRE \\n(NOFC)\\nCOL·LEGI\\nSANT\\nMIQUEL\\n[Aprovat\\npel\\nConsell\\nEscolar\\ndel\\nCentre\\nel\\ndia\\n14\\nde\\nsetembre\\nde\\n2023.]\\n', metadata={'source': '../docs/DM_Dir_NOF_CSM_14_set_2023.pdf', 'page': 0}),\n Document(page_content='.\\n2', metadata={'source': '../docs/DM_Dir_NOF_CSM_14_set_2023.pdf', 'page': 1}),\n Document(page_content=\"ÍNDEX\\nI\\nPART:\\nREGLAMENT\\nDE\\nRÈGIM\\nINTERN\\n...........................................................................................\\n6\\nPREÀMBUL\\n.......................................................................................................................................\\n6\\nTítol\\npreliminar \\nNATURALESA\\nI\\nFINALITAT\\nDEL\\nCOL·LEGI\\n.........................................................................................\\n7\\nCapítol\\n1r:\\nDEFINICIÓ\\nDEL\\nCOL·LEGI\\n.............................................................................................\\n8\\nCapítol\\n2n:\\nEL\\nMODEL\\nEDUCATIU\\nDE\\nL’ESCOLA\\n..........................................................................\\n8\\nCapítol\\n3r:\\nLA\\nCOMUNITAT\\nEDUCATIVA\\nDE\\nL’ESCOLA\\n.................................................................\\n9\\nTítol\\nprimer \\nÒRGANS\\nDE\\nGOVERN\\nI\\nGESTIÓ\\nDEL\\nCOL·LEGI\\n..............................................................................\\n11\\nCapítol\\n1r:\\nL’ENTITAT\\nTITULAR\\nDEL\\nCENTRE\\n..............................................................................\\n12\\nCapítol\\n2n:\\nÒRGANS\\nDE\\nGOVERN\\nI\\nDE\\nDIRECCIÓ\\nUNIPERSONALS\\n........................................\\n12\\n1.\\nEl\\ntitular\\ndel\\ncentre\\n................................................................................................................\\n13\\n2.\\nEl\\ndirector\\ndel\\ncentre\\n.............................................................................................................\\n14\\n3.\\nEl\\ncap\\nd’estudis\\n.....................................................................................................................\\n16\\n4.\\nEl\\ncoordinador\\nde\\npastoral\\neducativa\\n...................................................................................\\n17\\nCapítol\\n3r:\\nÒRGANS\\nDE\\nGOVERN\\nCOL·LEGIATS\\n........................................................................\\n18\\n1.\\nEl\\nconsell\\nescolar\\n..................................................................................................................\\n18\\n2.\\nL’equip\\ndirectiu\\ndel\\ncentre\\n.....................................................................................................\\n21\\nCapítol\\n4t:\\nÒRGANS\\nDE\\nCOORDINACIÓ\\nI\\nDE\\nGESTIÓ\\n................................................................\\n23\\n1.\\nEquips\\ni\\ncàrrecs\\nde\\ncoordinació\\neducativa\\n...........................................................................\\n23\\n1.1.\\nEl\\nclaustre\\nde\\nprofessors\\n.............................................................................................\\n23\\n1.2.\\nL’equip\\npedagògic\\nd’infantil\\ni\\nprimària\\n.........................................................................\\n24\\n1.3.\\nL’equip\\npedagògic\\nde\\nsecundària\\n................................................................................\\n26\\n1.4.\\nEl\\ncoordinador\\ndigital\\nde\\ncentre\\n...................................................................................\\n27\\n1.5.\\nLa\\ncomissió\\nd'estratègia\\ndigital\\nde\\ncentre.\\n..................................................................\\n28\\n1.6.\\nEl\\ncoordinador\\nde\\ncicle\\no\\nd’etapa\\n................................................................................\\n29\\n1.7.\\nEl\\ncap\\nde\\ndepartament\\n................................................................................................\\n30\\n1.8.\\nEl\\ncoordinador\\nd’orientació\\n..........................................................................................\\n31\\n1.9.\\nEl\\ncoordinador\\nde\\ncoeducació,\\nconvivència\\ni\\nbenestar\\nde\\nl'alumnat\\n...........................\\n31\\n1.10.\\nEl\\ncoordinador\\nlingüístic\\n............................................................................................\\n32\\n2.\\nCàrrecs\\nde\\ngestió\\nadministrativa\\n..........................................................................................\\n33\\n2.1.\\nL’administrador\\n............................................................................................................\\n34\\n2.2.\\nEl\\nsecretari\\n..................................................................................................................\\n35\\n2.3.\\nEl\\ncap\\nde\\nserveis\\ni\\nactivitats\\nextraescolars\\n..................................................................\\n35\\nTítol\\nsegon \\nORGANITZACIÓ\\nDE\\nL’ACCIÓ\\nEDUCATIVA\\nESCOLAR\\n.....................................................................\\n37\\nCapítol\\n1r:\\nPROGRAMACIÓ,\\nREALITZACIÓ\\nI\\nAVALUACIÓ\\nDE\\nLA\\nTASCA\\nEDUCATIVA\\n.............\\n38\\n1.1.\\nEl\\npla\\nanual\\nde\\ncentre\\n(PAC)\\ni\\nla\\nmemòria\\nanual\\nde\\ncentre\\n(MAC)\\n....................................\\n38\\n1.2.\\nEl\\ntutor\\n...............................................................................................................................\\n39\\n1.3.\\nL’equip\\nde\\ntutors\\n................................................................................................................\\n40\\n1.4.\\nL’avaluació\\ndel\\ncentre\\n........................................................................................................\\n40\\n1.5.\\nLa\\ncomissió\\nd’atenció\\na\\nla\\ndiversitat\\n..................................................................................\\n40\\nCapítol\\n2n:\\nL’ACCIÓ\\nDOCENT\\nDELS\\nPROFESSORS\\n...................................................................\\n41\\n2.1.\\nEls\\nequips\\nde\\nprofessors\\nde\\ncicle\\no\\ncurs\\n...........................................................................\\n41\\n3\", metadata={'source': '../docs/DM_Dir_NOF_CSM_14_set_2023.pdf', 'page': 2}),\n Document(page_content='2.2.\\nEls\\ndepartaments\\ndidàctics\\nde\\nsecundària\\n........................................................................\\n42\\n2.3.\\nLes\\ncomissions\\nde\\ntreball\\n..................................................................................................\\n43\\nCapítol\\n3r:\\nEL\\nDEPARTAMENT\\nD’ORIENTACIÓ\\nPSICOPEDAGÒGICA\\n........................................\\n43\\nCapítol\\n4t:\\nLA\\nPASTORAL\\nEDUCATIVA\\nDEL\\nCOL·LEGI\\n................................................................\\n45\\nCapítol\\n6è:\\nLES\\nACTIVITATS\\nEDUCATIVES\\nCOMPLEMENTÀRIES,\\nLES\\nACTIVITATS \\nEXTRAESCOLARS\\nI\\nELS\\nSERVEIS\\n..............................................................................................\\n47\\nTítol\\ntercer \\nCOMPONENTS\\nDE\\nLA\\nCOMUNITAT\\nEDUCATIVA\\n..............................................................................\\n50\\nCapítol\\n1r:\\nL’ALUMNAT\\n...................................................................................................................\\n50\\nCapítol\\n2n:\\nEL\\nPROFESSORAT\\n......................................................................................................\\n60\\nCapítol\\n3r:\\nEL\\nPERSONAL\\nD’ATENCIÓ\\nEDUCATIVA\\n.....................................................................\\n63\\nCapítol\\n4t:\\nELS\\nPARES\\nI\\nMARES\\nD’ALUMNES\\n..............................................................................\\n64\\nCapítol\\n5è:\\nEL\\nPERSONAL\\nD’ADMINISTRACIÓ\\nI\\nSERVEIS\\n.........................................................\\n65\\nDISPOSICIÓ\\nDEROGATÒRIA\\n........................................................................................................\\n66\\nDISPOSICIONS\\nFINALS\\n.................................................................................................................\\n67\\nII\\nPART:\\nORGANITZACIÓ\\nDE\\nL’ACCIÓ\\nEDUCATIVA\\nESCOLAR\\n.......................................................\\n68\\n1.\\nINTRODUCCIÓ\\n...........................................................................................................................\\n68\\n2.\\nCRITERIS\\nD’ORGANITZACIÓ\\nDELS\\nGRUPS\\nD’ALUMNES\\n......................................................\\n68\\nInfantil\\ni\\nPrimària\\n.......................................................................................................................\\n68\\nSecundària\\n................................................................................................................................\\n69\\n3.\\nCRITERIS\\nDE\\nFORMACIÓ\\nD’EQUIPS\\nDOCENTS\\nI\\nLA\\nSEVA\\nCOORDINACIÓ\\n........................\\n69\\nInfantil\\ni\\nPrimària\\n.......................................................................................................................\\n69\\nSecundària\\n................................................................................................................................\\n70\\n4.\\nCRITERIS\\nD’ATENCIÓ\\nA\\nLA\\nDIVERSITAT\\nI\\nD’ATENCIÓ\\nALS\\nALUMNES\\nAMB\\nNEE\\n...............\\n72\\n5.\\nMECANISMES\\nD’ACCIÓ\\nI\\nCOORDINACIÓ\\nTUTORIAL\\n.............................................................\\n73\\nInfantil\\ni\\nPrimària\\n.......................................................................................................................\\n73\\nSecundària\\n................................................................................................................................\\n73\\n6.\\nMECANISMES\\nPER\\nAFAVORIR\\nI\\nFACILITAR\\nEL\\nTREBALL\\nEN\\nEQUIP\\n...................................\\n73\\nInfantil\\ni\\nPrimària\\n.......................................................................................................................\\n73\\nSecundària\\n................................................................................................................................\\n74\\n7.\\nMECANISMES\\nPER\\nGARANTIR\\nLA\\nGLOBALITAT\\nDE\\nL’ACCIÓ\\nEDUCATIVA\\n..........................\\n74\\n8.\\nL’ORIENTACIÓ\\nACADÈMICA\\nI\\nPROFESSIONAL\\n......................................................................\\n75\\n9.\\nPARTICIPACIÓ\\nI\\nINTERCANVI\\nD’INFORMACIÓ\\nENTRE\\nEL\\nCENTRE\\nI\\nLES\\nFAMÍLIES\\n..........\\n76\\n10.\\nPROCEDIMENT\\nD’APROVACIÓ,\\nREVISIÓ\\nI\\nACTUALITZACIÓ\\nDEL\\nPROJECTE\\nEDUCATIU\\n... \\n76\\nTítol\\nquart \\nESTRATÈGIA\\nDIGITAL\\nDE\\nCENTRE\\n...................................................................................................\\n78\\nCapítol\\n1r:\\nIntroducció.\\n....................................................................................................................\\n78\\nCapítol\\n2n:\\nÚs\\ndels\\ndispositius:\\nordinadors,\\nmòbils\\ni\\ntauletes.\\n........................................................\\n78\\n2.1.\\nDispositius\\nde\\nl’alumnat\\n.....................................................................................................\\n78\\n2.1.1.\\nChromebooks\\na\\nl’ESO\\n..............................................................................................\\n78\\n2.1.2.\\nDispositius\\nal\\nBatxillerat\\n(Chromebooks,\\nportàtils\\no\\ntauletes).\\n.................................\\n81\\n2.1.3.\\nMòbils\\n.......................................................................................................................\\n81\\n2.2.\\nDispositius\\npropietat\\ndel\\nCol·legi\\n.......................................................................................\\n82\\nCapítol\\n3r:\\nComptes\\ncorporatius.\\n.....................................................................................................\\n82\\n3.1.\\nComptes\\nper\\na\\nl’alumnat.\\n...................................................................................................\\n82\\n3.2.\\nComptes\\nper\\nal\\nprofessorat\\ni\\npels\\nmembres\\ndel\\nPAS\\n........................................................\\n83\\nCapítol\\n4t:\\nPlataforma\\nde\\ngestió\\ni\\nserveis\\ndigitals.\\n..........................................................................\\n84\\n4', metadata={'source': '../docs/DM_Dir_NOF_CSM_14_set_2023.pdf', 'page': 3}),\n Document(page_content='4.1\\nClickedu\\n..............................................................................................................................\\n84\\n4.2\\nMoodle\\n................................................................................................................................\\n86\\n4.3.\\nClassroom\\n..........................................................................................................................\\n87\\n4.4.\\nOffice\\n365\\n..........................................................................................................................\\n87\\nCapítol\\n5è:\\nAccés\\na\\nInternet\\ni\\na\\nles\\nxarxes\\nsocials.\\n.........................................................................\\n87\\n5', metadata={'source': '../docs/DM_Dir_NOF_CSM_14_set_2023.pdf', 'page': 4}),\n Document(page_content=\"IP A R T :R E G L A M E N TD ER È G I MI N T E R N\\nPREÀMBUL\\nLa\\ninteracció\\ndels\\ndiferents\\ncomponents\\nde\\nla\\ncomunitat\\ni\\nla\\nnaturalesa\\ndel\\nservei\\nque\\nes \\ndesenvolupa\\na\\nl’escola,\\nfan\\nimprescindible\\nunes\\nnormes\\nque\\nregulin\\nel\\nseu\\nfuncionament,\\nun \\nreglament\\nque\\nestableixi\\ndrets,\\nmaneres\\nde\\nfer,\\nd’organitzar-se\\ni\\ntambé\\nd’abordar\\nels\\npossibles \\nconflictes\\nque\\nsorgeixin.\\nÉs\\nen\\naquest\\ncontext\\nen\\nquè\\nse\\nsitua\\nel\\npresent\\nreglament.\\nD’altra\\nbanda,\\nla\\nrenovació\\nconstant\\nde\\nl'escola\\nfa\\nque\\nles\\nestructures\\ninternes\\ni\\nels\\ncriteris\\nque \\nregeixen\\nel\\nseu\\nfuncionament\\nordinari\\ns’hagin\\nd’actualitzar\\nperiòdicament.\\nAquest\\nreglament\\nha\\nestat\\nelaborat\\nen\\nfidelitat\\nal\\ncaràcter\\npropi\\ndel\\nCentre\\ni\\na\\nles\\ndisposicions \\nlegals\\nbàsiques\\nque\\nincideixen\\ndirectament\\nen\\nla\\ngestió\\norganitzativa\\nde\\nCentres\\nEscolars, \\nconcretament:\\nla\\nLlei\\nOrgànica\\n8/1985\\nreguladora\\ndel\\nDret\\na\\nl’Educació\\n(LODE),\\nla\\nLlei\\nOrgànica \\n2/2006,\\nde\\n3\\nde\\nmaig,\\nd’Educació\\n(LOE),\\nla\\nLlei\\nd’Educació\\n12/2009\\n(LEC),\\nla\\nLlei\\norgànica\\n3/2020,\\nde \\n29\\nde\\ndesembre,\\nd’educació\\n–\\n(LOMLOE)\\ni\\ntambé\\nels\\ndecrets\\ndel\\nGovern\\nde\\nla\\nGeneralitat\\nrelatius\\na \\nl’educació\\nescolar,\\nen\\nparticular\\nel\\nDecret\\n110/1997\\nque\\nregula\\nels\\nòrgans\\nde\\ngovern\\ni\\nde\\ncoordinació \\ndels\\ncentres\\ndocents\\nprivats\\nacollits\\nal\\nrègim\\nde\\nconcerts\\neducatius\\ni\\nel\\nDecret\\nd’Autonomia\\nde\\ncentres \\neducatius\\n102/2010.\\nTenint\\nen\\ncompte\\ntot\\naixò,\\nheus\\naquí\\nles\\nparts\\nde\\nquè\\nconsta\\nel\\nreglament\\ndel\\nnostre\\ncentre.\\n—\\nEl\\nTítol\\npreliminar\\npresenta\\nla\\ndefinició\\nde\\nl’escola,\\nrecull\\nmolt\\nesquemàticament\\nels\\nelements \\nbàsics\\ndel\\nseu\\nmodel\\neducatiu\\ni\\ndefineix\\nla\\ncomunitat\\neducativa.\\nAixí\\ns’introdueix\\nel\\ncontingut\\ndels\\ntítols \\nsegüents.\\n—\\nL’organització\\ndel\\ncentre,\\npel\\nque\\nfa\\nals\\nòrgans\\nde\\ngovern\\ni\\ngestió,\\nestà\\ndescrita\\namb\\ndetall\\nen\\nel \\nTítol\\nprimer\\n.\\nS’hi\\nconcreta\\nel\\ncamp\\nd’acció\\nde\\ncada\\nun\\ndels\\nòrgans\\nde\\ngovern\\nunipersonals\\ni\\ndels \\nòrgans\\ncol·legiats.\\n—\\nL’organització\\nde\\nl’acció\\neducativa\\nocupa\\nels\\nquatre\\ncapítols\\ndel\\nTítol\\nsegon\\n.\\nS’hi\\ndescriu\\ncom\\nel \\ncol·legi\\ns’organitza\\nper\\na\\nelaborar,\\naplicar\\ni\\navaluar\\nun\\nprojecte\\neducatiu\\nque\\nasseguri\\nl’oferta\\nd’una \\neducació\\nintegral\\ndes\\nd’una\\nvisió\\ncristiana\\nde\\nla\\nvida,\\nla\\npersona\\ni\\nel\\nmón.\\n—\\nEn\\nel\\nTítol\\ntercer\\ndediquem\\nun\\ncapítol\\na\\ncada\\nun\\ndels\\nsectors\\nde\\nla\\ncomunitat\\neducativa,\\nfent\\nveure \\nque\\ntots\\ninsereixen\\nla\\nseva\\nacció\\nen\\nel\\nconjunt\\ndel\\ntreball\\nescolar\\nper\\ntal\\nde\\nfer\\nefectiu\\nel\\nmodel \\neducatiu\\ndel\\ncentre.\\n—\\nEn\\nel\\nTítol\\nquart\\ndediquem\\nun\\ncapítol\\na\\nl’estratègia\\ndigital\\nde\\ncentre.\\nL’elaboració\\nd’aquest\\nreglament\\nha\\nestat\\nimpulsada\\ni\\ncoordinada\\npel\\ntitular\\nde\\nl’escola\\ni\\nl’equip \\ndirectiu,\\ni\\nhi\\nhan\\nintervingut\\nels\\nòrgans\\nde\\nparticipació\\nde\\nla\\ncomunitat\\neducativa\\nsegons\\nles \\nrespectives\\ncompetències.\\nLa\\nredacció\\nfinal\\nha\\nestat\\naprovada\\npel\\nconsell\\nescolar\\nen\\nla\\nreunió\\ncelebrada\\nel\\ndia\\n14\\nde \\nsetembre\\nde\\n2023.\\n6\", metadata={'source': '../docs/DM_Dir_NOF_CSM_14_set_2023.pdf', 'page': 5}),\n Document(page_content='Títol\\npreliminar\\nNATURALESA\\nI\\nFINALIT AT\\nDEL\\nCOL·LEGI\\n7', metadata={'source': '../docs/DM_Dir_NOF_CSM_14_set_2023.pdf', 'page': 6}),\n Document(page_content='T í t o lp r e l i m i n a rN A T U R A L E S AIF I N A L I T A TD E LC O L · L E G I\\nCapítol\\n1r:\\nDEFINICIÓ\\nDEL\\nCOL·LEGI\\nArtícle\\n1\\nEl\\ncentre\\ndocent\\nCol.legi\\nSant\\nMiquel,\\nsituat\\na\\nBarcelona,\\ncarrer\\nRosselló\\n175,\\nés\\nuna\\nescola \\nprivada,\\ncreada\\nd’acord\\namb\\nel\\ndret\\nreconegut\\nen\\nl’article\\n27.6\\nde\\nla\\nConstitució\\nespanyola\\ni\\nexplicitat \\nen\\nl’article\\n21\\nde\\nla\\nLlei\\nOrgànica\\n8/1985,\\nde\\n3\\nde\\njuny,\\nreguladora\\ndel\\nDret\\na\\nl’Educació\\n(LODE).\\nArtícle\\n2\\n1.\\nEl\\nnostre\\ncol·legi\\nimparteix\\nels\\ncicles\\ni\\nles\\netapes\\neducatives\\nsegüents:\\neducació\\nInfantil, \\neducació\\nprimària,\\neducació\\nsecundària\\nobligatòria\\ni\\nbatxillerat.\\nEl\\nnostre\\ncol·legi\\nha\\nestat\\ndegudament \\nautoritzat\\nper\\nimpartir\\naquests\\nensenyaments\\n(DOGC\\ndel\\n12-III-97),\\nté\\nel\\nNúmero\\nde\\ncodi\\n08009636 \\nen\\nel\\nregistre\\ndel\\nDepartament\\nd’Educació\\nde\\nla\\nGeneralitat\\ni\\ngaudeix\\nde\\nla\\npersonalitat\\njurídica\\nque\\nli \\natorguen\\nles\\nlleis.\\n2.\\nAmb\\ndata\\n1\\nde\\nsetembre\\nde\\n1996\\nel\\ncentre\\nva\\naccedir\\nal\\nrègim\\nde\\nconcerts\\nestablert\\nper\\nla \\nLODE.\\nArtícle\\n3\\nEls\\nensenyaments\\nimpartits\\nen\\nel\\ncentre\\ns’ajusten\\na\\nla\\nlegislació\\nvigent\\ni\\na\\nles\\ndisposicions \\nreglamentàries\\npublicades\\npel\\nGovern\\nde\\nla\\nGeneralitat,\\nen\\nparticular\\nals\\ndecrets\\nque\\nestableixen\\nels \\ncurrículums\\nde\\nles\\netapes\\neducatives\\nque\\nl’escola\\nimparteix.\\nArtícle\\n4\\nEl\\ncaràcter\\npropi\\ndel\\ncentre\\nreuneix\\nels\\nrequisits\\nestablerts\\nen\\nl’article\\n115\\nde\\nla\\nLOE,\\ni\\ntots\\nels \\nmembres\\nde\\nla\\ncomunitat\\neducativa\\nel\\nconeixen\\ni\\nl’accepten\\ncom\\na\\ndescripció\\ndel\\nmodel\\neducatiu\\nque \\nel\\ncol·legi\\nofereix\\na\\nla\\nsocietat\\nen\\nel\\nmarc\\nde\\nla\\nllibertat\\nd’ensenyament.\\nArtícle\\n5\\n1.\\nAquest\\nreglament\\nde\\nrègim\\nintern\\nha\\nestat\\nelaborat\\nen\\nfidelitat\\nal\\ncaràcter\\npropi\\ndel\\ncentre,\\nles \\nlleis\\norgàniques\\nvigents\\n(LODE,\\nLOE,\\nLOMLOE)\\ni\\nles\\ndisposicions\\nque\\nles\\ndesenvolupen.\\nAixí\\nmateix, \\ntambé\\nha\\nrespectat\\nen\\ntot\\nmoment\\nla\\nnormativa\\nestablerta\\npel\\nParlament\\nde\\nCatalunya\\nmitjançant\\nla \\nLlei\\n12/2009,\\nde\\n10\\nde\\njuliol,\\nd’educació\\n(LEC),\\nen\\nl’àmbit\\nde\\nla\\nseva\\ncompetència.\\n2.\\nAmb\\naquests\\ncriteris\\nel\\npresent\\nreglament\\nrecull\\nel\\nconjunt\\nde\\nnormes\\ni\\norientacions\\nque \\nregulen\\nel\\nfuncionament\\nordinari\\ndel\\ncentre\\nen\\nels\\naspectes\\nmés\\nimportants\\ni,\\nde\\nmanera\\nespecial,\\nel \\nseu\\nmodel\\nde\\ngestió.\\n8', metadata={'source': '../docs/DM_Dir_NOF_CSM_14_set_2023.pdf', 'page': 7}),\n Document(page_content='Capítol\\n2n:\\nEL\\nMODEL\\nEDUCATIU\\nDE\\nL’ESCOLA\\nArtícle\\n6\\n1.\\nEl\\nCol·legi\\nSant\\nMiquel\\nés\\nuna\\nescola\\ncristiana,\\nsegons\\nel\\nque\\nestableix\\nel\\nCodi\\nde\\nDret \\nCanònic\\nen\\nel\\ncànon\\n803,\\ni\\nté\\nla\\nfinalitat\\nde\\npromoure\\nel\\nple\\ndesenvolupament\\nde\\nla\\npersonalitat\\nde \\nl’alumnat,\\nés\\na\\ndir,\\nl’educació\\nintegral.\\n2.\\nAquest\\nmodel\\nd’educació\\nintegral\\nestà\\ndescrit\\nen\\nel\\ndocument\\nque\\nexpressa\\nel\\ncaràcter\\npropi \\ndel\\ncentre,\\nen\\nel\\nprojecte\\neducatiu\\nde\\ncentre\\ni\\nen\\nels\\nprojectes\\ncurriculars\\nde\\nles\\ndiferents\\netapes \\neducatives,\\nrespectant\\nel\\nque\\npreveuen\\nels\\ncurrículums\\nestablerts\\npel\\nGovern\\nde\\nla\\nGeneralitat\\nper\\na \\ncadascuna\\nd’elles.\\nArtícle\\n7\\nLa\\nproposta\\nreligiosa\\ndel\\ncol·legi\\nés\\nla\\npròpia\\nde\\nl’Església\\ncatòlica\\ni\\ntindrà\\nsempre\\nel\\ncaràcter \\nd’un\\noferiment\\nrespectuós\\nenvers\\nla\\nllibertat\\nde\\ntots\\nels\\nalumnes,\\nels\\nmestres\\ni\\nles\\nfamílies.\\nArtícle\\n8\\nL’assumpció\\nde\\nla\\nrealitat\\nsociocultural\\nde\\nCatalunya\\ni\\nel\\ncompromís\\nde\\nservei\\nal\\npoble\\nsón, \\ntambé,\\nexpressió\\nconcreta\\nde\\nla\\nidentitat\\ncristiana\\ni\\nde\\nla\\nvocació\\nevangelitzadora\\ndel\\ncol·legi.\\nArtícle\\n9\\n1.\\nEl\\ncol·legi\\nés\\nobert\\na\\ntothom\\nqui\\ndesitja\\nl’educació\\nque\\ns’hi\\nimparteix,\\ndefuig\\nqualsevol \\ndiscriminació\\ni\\ns’ofereix\\na\\nla\\nsocietat\\ncom\\nuna\\ncomunitat\\nen\\nla\\nqual\\ntothom\\nés\\nacceptat\\ni\\ntothom \\npot\\ndialogar,\\nescoltar\\ni\\nser\\nescoltat,\\ni\\ntots\\nels\\nqui\\nhi\\nparticipen\\nse’n\\nsenten\\ncorresponsables.\\n2.\\nEn\\nel\\nmarc\\nde\\nla\\nllibertat\\nd’elecció\\nde\\ncentre,\\nels\\npares\\nque\\nsol·liciten\\nplaça\\nper\\na\\nllurs\\nfills \\nexpressen\\nla\\nseva\\nconformitat\\namb\\nl’oferta\\nde\\nformació\\npròpia\\nde\\nl’escola\\ncristiana\\ntal\\ncom\\nestà \\ndefinida\\nen\\nel\\ncaràcter\\npropi\\ndel\\ncentre\\ni,\\nen\\nconcret,\\ndemanen\\nels\\nensenyaments\\nde\\ncaràcter \\nreligiós\\ndes\\nde\\nla\\nperspectiva\\nde\\nl’Església\\ncatòlica,\\nen\\nel\\nrespecte\\na\\nles\\ndiverses\\ncreences\\ni \\nopcions\\nreligioses\\nde\\nles\\nfamílies.\\n9', metadata={'source': '../docs/DM_Dir_NOF_CSM_14_set_2023.pdf', 'page': 8}),\n Document(page_content='Capítol\\n3r:\\nLA\\nCOMUNITAT\\nEDUCATIVA\\nDE\\nL’ESCOLA\\nArtícle\\n10\\nLa\\ncomunitat\\neducativa\\nés\\nfruit\\nde\\nla\\nintegració\\nharmònica\\nde\\ntots\\nels\\nestaments\\nque\\nintervenen \\nen\\nel\\ncol·legi:\\ntitularitat,\\nalumnes,\\nmestres\\ni\\nprofessors,\\npares\\nd’alumnes\\n,\\npersonal\\nd’administració\\ni \\nserveis\\ni\\nmonitors\\nd’activitats\\ni\\nserveis\\nescolars\\ni\\nextraescolars.\\nLa\\nconfiguració\\ndel\\ncol·legi\\ncom\\na\\ncomunitat\\neducativa\\nes\\nmanifesta\\nsobretot\\nen\\nla\\ncomunió\\nde \\ncriteris\\nen\\nel\\ntreball\\nconjunt\\ni\\nen\\nla\\nparticipació\\ncoresponsable\\nde\\ntots\\nels\\nestaments\\nen\\nla\\ntasca \\neducativa\\ni\\nen\\nla\\ngestió\\ndel\\ncentre.\\nArtícle\\n11\\nL’entitat\\ntitular\\nés\\nresponsable\\nd’expressar\\ni\\ndonar\\ncontinuïtat\\nals\\nprincipis\\nque\\ndefineixen \\nl’educació\\nque\\nel\\ncol·legi\\nimparteix\\n(caràcter\\npropi),\\ni\\nvetlla\\nper\\nla\\ncohesió\\nde\\ntots\\nels\\nqui\\ncol·laboren\\nen \\nla\\nmarxa\\ndel\\ncentre.\\nArtícle\\n12\\nEls\\nalumnes\\nsón\\nels\\nprincipals\\nprotagonistes\\ndel\\nseu\\npropi\\ncreixement,\\nintervenen\\nactivament\\nen \\nla\\nvida\\ndel\\ncol·legi\\nsegons\\nles\\nexigències\\nde\\nl’edat,\\ni\\nhi\\nassumeixen\\nresponsabilitats\\nproporcionades\\na \\nllur\\ncapacitat.\\nArtícle\\n13\\nEls\\nmestres\\ni\\nprofessors\\nconstitueixen\\nun\\nsector\\nfonamental\\nde\\nla\\ncomunitat\\neducativa,\\ni\\njuguen \\nun\\npaper\\ndecisiu\\nen\\nla\\nvida\\ndel\\ncol·legi.\\nElls\\norienten\\ni\\najuden\\nels\\nalumnes\\nen\\nel\\nprocés\\neducatiu\\ni \\ncomplementen\\naixí\\nl’acció\\nformativa\\ndels\\npares.\\nArtícle\\n14\\nEl\\npersonal\\nd’administració\\ni\\nserveis\\ndu\\na\\nterme\\ntasques\\ni\\nassumeix\\nresponsabilitats\\nmolt \\ndiverses,\\ntotes\\nal\\nservei\\nde\\nla\\ncomunitat\\neducativa\\ni\\nen\\ncol·laboració\\namb\\nl’entitat\\ntitular,\\nla\\ndirecció\\ndel \\ncentre,\\nels\\nprofessors,\\nels\\nalumnes\\ni\\nles\\nfamílies.\\nArtícle\\n15\\nEls\\npares\\nd’alumnes\\nhan\\nexercit\\nel\\ndret\\na\\ndecidir\\nl’educació\\nque\\ndesitgen\\nper\\nals\\nseus\\nfills\\nquan \\nhan\\nescollit\\nl’escola\\ncristiana\\ni\\nhan\\nvolgut\\nesdevenir\\nmembres\\nde\\nla\\ncomunitat\\neducativa.\\nLlur \\ncol·laboració\\nactiva\\nen\\nla\\ntasca\\nformativa\\ndel\\ncentre\\nes\\nrealitza,\\nsobretot,\\na\\ntravés\\nde\\nl’associació\\nde \\npares\\ni\\nmares.\\nArtícle\\n16\\nEl\\nconsell\\nescolar\\nés\\nl’òrgan\\nde\\nparticipació\\nrepresentatiu\\nde\\nla\\ncomunitat\\neducativa,\\ni\\nla\\nseva \\ncomposició\\ngaranteix\\nque\\nla\\ntitularitat,\\nla\\ndirecció,\\nels\\nmestres\\ni\\nprofessors,\\nels\\npares\\nd’alumnes,\\nels \\nalumnes\\ni\\nel\\npersonal\\nd’administració\\ni\\nserveis\\ntinguin\\nocasió\\nde\\ncoresponsabilitzar-se\\nde\\nla\\ngestió \\nglobal\\ndel\\ncentre.\\n10', metadata={'source': '../docs/DM_Dir_NOF_CSM_14_set_2023.pdf', 'page': 9})]"
     },
     "execution_count": 7,
     "metadata": {},
     "output_type": "execute_result"
    }
   ],
   "source": [
    "# Load the PDF data\n",
    "loader = PyPDFLoader(\"../docs/DM_Dir_NOF_CSM_14_set_2023.pdf\")\n",
    "docs = loader.load()\n",
    "docs[:10]"
   ],
   "metadata": {
    "collapsed": false,
    "ExecuteTime": {
     "end_time": "2023-10-27T22:01:46.732500Z",
     "start_time": "2023-10-27T22:01:41.222264Z"
    }
   },
   "id": "229a60f0a088c198"
  },
  {
   "cell_type": "code",
   "execution_count": 8,
   "outputs": [
    {
     "data": {
      "text/plain": "[Document(page_content='NORMES\\nD’ORGANITZACIÓ\\nI\\nFUNCIONAMENT\\nDE\\nCENTRE \\n(NOFC)\\nCOL·LEGI\\nSANT\\nMIQUEL\\n[Aprovat\\npel\\nConsell\\nEscolar\\ndel\\nCentre\\nel\\ndia\\n14\\nde\\nsetembre\\nde\\n2023.]', metadata={'source': '../docs/DM_Dir_NOF_CSM_14_set_2023.pdf', 'page': 0}),\n Document(page_content='.\\n2', metadata={'source': '../docs/DM_Dir_NOF_CSM_14_set_2023.pdf', 'page': 1}),\n Document(page_content='ÍNDEX\\nI\\nPART:\\nREGLAMENT\\nDE\\nRÈGIM\\nINTERN\\n...........................................................................................\\n6\\nPREÀMBUL\\n.......................................................................................................................................\\n6\\nTítol\\npreliminar \\nNATURALESA\\nI\\nFINALITAT\\nDEL\\nCOL·LEGI\\n.........................................................................................\\n7\\nCapítol\\n1r:\\nDEFINICIÓ\\nDEL\\nCOL·LEGI\\n.............................................................................................\\n8\\nCapítol\\n2n:\\nEL\\nMODEL\\nEDUCATIU\\nDE\\nL’ESCOLA\\n..........................................................................\\n8\\nCapítol\\n3r:\\nLA\\nCOMUNITAT\\nEDUCATIVA\\nDE\\nL’ESCOLA\\n.................................................................\\n9\\nTítol', metadata={'source': '../docs/DM_Dir_NOF_CSM_14_set_2023.pdf', 'page': 2}),\n Document(page_content='.................................................................\\n9\\nTítol\\nprimer \\nÒRGANS\\nDE\\nGOVERN\\nI\\nGESTIÓ\\nDEL\\nCOL·LEGI\\n..............................................................................\\n11\\nCapítol\\n1r:\\nL’ENTITAT\\nTITULAR\\nDEL\\nCENTRE\\n..............................................................................\\n12\\nCapítol\\n2n:\\nÒRGANS\\nDE\\nGOVERN\\nI\\nDE\\nDIRECCIÓ\\nUNIPERSONALS\\n........................................\\n12\\n1.\\nEl\\ntitular\\ndel\\ncentre\\n................................................................................................................\\n13\\n2.\\nEl\\ndirector\\ndel\\ncentre\\n.............................................................................................................\\n14\\n3.\\nEl\\ncap\\nd’estudis', metadata={'source': '../docs/DM_Dir_NOF_CSM_14_set_2023.pdf', 'page': 2}),\n Document(page_content='14\\n3.\\nEl\\ncap\\nd’estudis\\n.....................................................................................................................\\n16\\n4.\\nEl\\ncoordinador\\nde\\npastoral\\neducativa\\n...................................................................................\\n17\\nCapítol\\n3r:\\nÒRGANS\\nDE\\nGOVERN\\nCOL·LEGIATS\\n........................................................................\\n18\\n1.\\nEl\\nconsell\\nescolar\\n..................................................................................................................\\n18\\n2.\\nL’equip\\ndirectiu\\ndel\\ncentre\\n.....................................................................................................\\n21\\nCapítol\\n4t:\\nÒRGANS\\nDE\\nCOORDINACIÓ\\nI\\nDE\\nGESTIÓ\\n................................................................\\n23\\n1.\\nEquips\\ni\\ncàrrecs', metadata={'source': '../docs/DM_Dir_NOF_CSM_14_set_2023.pdf', 'page': 2}),\n Document(page_content=\"23\\n1.\\nEquips\\ni\\ncàrrecs\\nde\\ncoordinació\\neducativa\\n...........................................................................\\n23\\n1.1.\\nEl\\nclaustre\\nde\\nprofessors\\n.............................................................................................\\n23\\n1.2.\\nL’equip\\npedagògic\\nd’infantil\\ni\\nprimària\\n.........................................................................\\n24\\n1.3.\\nL’equip\\npedagògic\\nde\\nsecundària\\n................................................................................\\n26\\n1.4.\\nEl\\ncoordinador\\ndigital\\nde\\ncentre\\n...................................................................................\\n27\\n1.5.\\nLa\\ncomissió\\nd'estratègia\\ndigital\\nde\\ncentre.\\n..................................................................\\n28\\n1.6.\\nEl\\ncoordinador\\nde\\ncicle\\no\\nd’etapa\", metadata={'source': '../docs/DM_Dir_NOF_CSM_14_set_2023.pdf', 'page': 2}),\n Document(page_content=\"28\\n1.6.\\nEl\\ncoordinador\\nde\\ncicle\\no\\nd’etapa\\n................................................................................\\n29\\n1.7.\\nEl\\ncap\\nde\\ndepartament\\n................................................................................................\\n30\\n1.8.\\nEl\\ncoordinador\\nd’orientació\\n..........................................................................................\\n31\\n1.9.\\nEl\\ncoordinador\\nde\\ncoeducació,\\nconvivència\\ni\\nbenestar\\nde\\nl'alumnat\\n...........................\\n31\\n1.10.\\nEl\\ncoordinador\\nlingüístic\\n............................................................................................\\n32\\n2.\\nCàrrecs\\nde\\ngestió\\nadministrativa\\n..........................................................................................\\n33\\n2.1.\\nL’administrador\", metadata={'source': '../docs/DM_Dir_NOF_CSM_14_set_2023.pdf', 'page': 2}),\n Document(page_content='33\\n2.1.\\nL’administrador\\n............................................................................................................\\n34\\n2.2.\\nEl\\nsecretari\\n..................................................................................................................\\n35\\n2.3.\\nEl\\ncap\\nde\\nserveis\\ni\\nactivitats\\nextraescolars\\n..................................................................\\n35\\nTítol\\nsegon \\nORGANITZACIÓ\\nDE\\nL’ACCIÓ\\nEDUCATIVA\\nESCOLAR\\n.....................................................................\\n37\\nCapítol\\n1r:\\nPROGRAMACIÓ,\\nREALITZACIÓ\\nI\\nAVALUACIÓ\\nDE\\nLA\\nTASCA\\nEDUCATIVA\\n.............\\n38\\n1.1.\\nEl\\npla\\nanual\\nde\\ncentre\\n(PAC)\\ni\\nla\\nmemòria\\nanual\\nde\\ncentre\\n(MAC)\\n....................................\\n38\\n1.2.\\nEl\\ntutor', metadata={'source': '../docs/DM_Dir_NOF_CSM_14_set_2023.pdf', 'page': 2}),\n Document(page_content='anual\\nde\\ncentre\\n(MAC)\\n....................................\\n38\\n1.2.\\nEl\\ntutor\\n...............................................................................................................................\\n39\\n1.3.\\nL’equip\\nde\\ntutors\\n................................................................................................................\\n40\\n1.4.\\nL’avaluació\\ndel\\ncentre\\n........................................................................................................\\n40\\n1.5.\\nLa\\ncomissió\\nd’atenció\\na\\nla\\ndiversitat\\n..................................................................................\\n40\\nCapítol\\n2n:\\nL’ACCIÓ\\nDOCENT\\nDELS\\nPROFESSORS\\n...................................................................\\n41\\n2.1.\\nEls\\nequips\\nde\\nprofessors\\nde\\ncicle\\no\\ncurs', metadata={'source': '../docs/DM_Dir_NOF_CSM_14_set_2023.pdf', 'page': 2}),\n Document(page_content='41\\n2.1.\\nEls\\nequips\\nde\\nprofessors\\nde\\ncicle\\no\\ncurs\\n...........................................................................\\n41\\n3', metadata={'source': '../docs/DM_Dir_NOF_CSM_14_set_2023.pdf', 'page': 2})]"
     },
     "execution_count": 8,
     "metadata": {},
     "output_type": "execute_result"
    }
   ],
   "source": [
    "# Split the data into smaller documents\n",
    "text_splitter = RecursiveCharacterTextSplitter(chunk_size=800, chunk_overlap=80)\n",
    "chunks = text_splitter.split_documents(docs)\n",
    "chunks[:10]"
   ],
   "metadata": {
    "collapsed": false,
    "ExecuteTime": {
     "end_time": "2023-10-27T22:01:46.813334Z",
     "start_time": "2023-10-27T22:01:46.763444Z"
    }
   },
   "id": "d0557064d840de5f"
  },
  {
   "cell_type": "markdown",
   "source": [
    "## Embeddings and Upload"
   ],
   "metadata": {
    "collapsed": false
   },
   "id": "6fa62ee37767925"
  },
  {
   "cell_type": "code",
   "execution_count": 9,
   "outputs": [],
   "source": [
    "# Create embeddings\n",
    "embeddings = OpenAIEmbeddings(openai_api_key=OPENAI_API_KEY)\n",
    "\n",
    "# Create a Pinecone index and add the documents to it\n",
    "#pinecone.create_index(\"python-index\", dimension=1536, metric=\"cosine\")\n",
    "pinecone.init(api_key=PINECONE_API_KEY, environment=PINECONE_API_ENV)\n",
    "index_name = \"python-index\"\n",
    "docsearch = Pinecone.from_texts([t.page_content for t in chunks], embeddings, index_name=index_name)"
   ],
   "metadata": {
    "collapsed": false,
    "ExecuteTime": {
     "end_time": "2023-10-27T22:03:15.943866Z",
     "start_time": "2023-10-27T22:02:59.560794Z"
    }
   },
   "id": "70b7787782d91071"
  },
  {
   "cell_type": "markdown",
   "source": [
    "## Docsearch with Pinecone"
   ],
   "metadata": {
    "collapsed": false
   },
   "id": "514b88b27e06439c"
  },
  {
   "cell_type": "code",
   "execution_count": 10,
   "outputs": [
    {
     "name": "stdout",
     "output_type": "stream",
     "text": [
      "\n",
      "The name of the school is \"El Col·legi Sant Miquel\""
     ]
    },
    {
     "data": {
      "text/plain": "'\\nThe name of the school is \"El Col·legi Sant Miquel\"'"
     },
     "execution_count": 10,
     "metadata": {},
     "output_type": "execute_result"
    }
   ],
   "source": [
    "# Perform similarity search\n",
    "docs = docsearch.similarity_search(prompt)\n",
    "\n",
    "# Load the question answering chain\n",
    "llm = Ollama(model=\"mistral\", callback_manager=CallbackManager([StreamingStdOutCallbackHandler()]))\n",
    "chain = load_qa_chain(llm, chain_type=\"stuff\")\n",
    "\n",
    "# Query the documents and get the answer\n",
    "answer = chain.run(input_documents=docs, question=prompt)\n",
    "answer"
   ],
   "metadata": {
    "collapsed": false,
    "ExecuteTime": {
     "end_time": "2023-10-27T22:09:09.323816Z",
     "start_time": "2023-10-27T22:09:02.682451Z"
    }
   },
   "id": "605a135a5a96e54"
  },
  {
   "cell_type": "markdown",
   "source": [
    "## Connecting to Pinecone directly"
   ],
   "metadata": {
    "collapsed": false
   },
   "id": "b9e7a7e114e59686"
  },
  {
   "cell_type": "code",
   "execution_count": 11,
   "outputs": [
    {
     "data": {
      "text/plain": "['python-index']"
     },
     "execution_count": 11,
     "metadata": {},
     "output_type": "execute_result"
    }
   ],
   "source": [
    "# Listing the existing indexes\n",
    "pinecone.list_indexes()"
   ],
   "metadata": {
    "collapsed": false,
    "ExecuteTime": {
     "end_time": "2023-10-27T22:10:19.691725Z",
     "start_time": "2023-10-27T22:10:17.397496Z"
    }
   },
   "id": "6e095d6645a9b93a"
  },
  {
   "cell_type": "code",
   "execution_count": 12,
   "outputs": [],
   "source": [
    "# Connecting to an existing index\n",
    "index = pinecone.Index(\"python-index\")"
   ],
   "metadata": {
    "collapsed": false,
    "ExecuteTime": {
     "end_time": "2023-10-27T22:10:22.099280Z",
     "start_time": "2023-10-27T22:10:22.091924Z"
    }
   },
   "id": "2990f31d66adfbe6"
  },
  {
   "cell_type": "code",
   "execution_count": 13,
   "outputs": [
    {
     "data": {
      "text/plain": "IndexDescription(name='python-index', metric='cosine', replicas=1, dimension=1536.0, shards=1, pods=1, pod_type='p1', status={'ready': True, 'state': 'Ready'}, metadata_config=None, source_collection='')"
     },
     "execution_count": 13,
     "metadata": {},
     "output_type": "execute_result"
    }
   ],
   "source": [
    "# Get information about the index\n",
    "pinecone.describe_index(\"python-index\")"
   ],
   "metadata": {
    "collapsed": false,
    "ExecuteTime": {
     "end_time": "2023-10-27T22:10:31.631848Z",
     "start_time": "2023-10-27T22:10:30.999330Z"
    }
   },
   "id": "b4a54f683f137dfd"
  },
  {
   "cell_type": "markdown",
   "source": [
    "## Upserting documents"
   ],
   "metadata": {
    "collapsed": false
   },
   "id": "63ea55ece7643536"
  },
  {
   "cell_type": "code",
   "execution_count": 39,
   "outputs": [
    {
     "data": {
      "text/plain": "[Document(page_content='  \\n Col·legi Sant Miquel  \\nUna institució centenària que mira al futur  \\n \\n \\n \\nEL COR DEL NOSTRE PROJECTE EDUCATIU  \\n \\nCOL·LEGI SANT MIQUEL \\n \\n \\nUna institució centenària que mira al futur  \\n \\nMés de cent anys d’història  \\n \\nL’any 1898 els Missioners del Sagrat Cor van crear el  Col·legi Sant \\nMiquel amb la finalitat de realitzar la seva missió e vangelitzadora \\nmitjançant l’acció educativa al servei dels habitants de Barcelona i els seus voltants.  \\nDes de llavors i de manera ininterrompuda, milers d’alumnes han passat per les nostres aules i és a ells justament que hem tractat de \\nservir , tot oferint -los una educació de qualitat que, més enllà de la \\nsimple instrucció acadèmica, els ha inculcat  uns valors  humans i \\ncristians  que els han ajudat  a ser, a més de bons professionals, \\nhomes i dones per als altres, ciutadans honrats  i transmissors dels \\nvalors evangèlics.  \\nL’any 1998 vam celebrar el Centenari i vam aprofitar per recordar les nostres senyes d’identitat, en coherència amb les quals pretenem continuar servint totes les persones que decideixin apostar pel nostre \\nestil educatiu, que continua essent l’ estil MSC , encarnat avui  \\nmajoritàriament en un equip de seglars  compromesos.  \\n \\n \\nQui som  \\n \\n• El Col·legi Sant Miquel, situat al carrer Rosselló, 175, a l’Eixample de Barcelona, és un centre edu catiu catòlic, que té com a titular  la \\ncongregació  dels Missioners d el Sagrat Cor de Jesús. ', metadata={'source': '../docs/DM_DIR_PEC_JUNY_23.pdf', 'page': 0}),\n Document(page_content='• Som un centre educatiu privat d’iniciativa social i concertat pel \\nDepartament d’Educació de la Generalitat des de I 3 d’educació \\ninfantil fins el final de l’educació  secundària obligatòria.  \\n• El nostre batxillerat ofere ix les modalitats de Tecnologia i  Ciències \\nde la Salut, Humanitats i Ciències Socials.  \\n• Entre els serveis, disposem de mitja pensió amb cuina pròpia, de \\nbiblioteca, piscina,  departament d’ orientació,  guarderia de matí i \\nde tarda , i casal d’estiu . \\n• Oferim, juntament amb l’ APMA, moltes activitats extraescolars i \\ncomplementàries.  \\n• Disposem de la certificació de qualitat ISO 9001:20 15 i apostem \\ndecididament per la potenciació de l’ensenyament dels idiomes i la innovació pedagògica constant . \\n ', metadata={'source': '../docs/DM_DIR_PEC_JUNY_23.pdf', 'page': 1})]"
     },
     "execution_count": 39,
     "metadata": {},
     "output_type": "execute_result"
    }
   ],
   "source": [
    "# Test docs\n",
    "test_docs = docs[:2]\n",
    "test_docs"
   ],
   "metadata": {
    "collapsed": false,
    "ExecuteTime": {
     "end_time": "2023-10-26T15:26:23.436105Z",
     "start_time": "2023-10-26T15:26:23.426576Z"
    }
   },
   "id": "cd92fea9137773d7"
  },
  {
   "cell_type": "code",
   "execution_count": 44,
   "outputs": [
    {
     "data": {
      "text/plain": "['  \\n Col·legi Sant Miquel  \\nUna institució centenària que mira al futur  \\n \\n \\n \\nEL COR DEL NOSTRE PROJECTE EDUCATIU  \\n \\nCOL·LEGI SANT MIQUEL \\n \\n \\nUna institució centenària que mira al futur  \\n \\nMés de cent anys d’història  \\n \\nL’any 1898 els Missioners del Sagrat Cor van crear el  Col·legi Sant \\nMiquel amb la finalitat de realitzar la seva missió e vangelitzadora \\nmitjançant l’acció educativa al servei dels habitants de Barcelona i els seus voltants.  \\nDes de llavors i de manera ininterrompuda, milers d’alumnes han passat per les nostres aules i és a ells justament que hem tractat de \\nservir , tot oferint -los una educació de qualitat que, més enllà de la \\nsimple instrucció acadèmica, els ha inculcat  uns valors  humans i \\ncristians  que els han ajudat  a ser, a més de bons professionals, \\nhomes i dones per als altres, ciutadans honrats  i transmissors dels \\nvalors evangèlics.  \\nL’any 1998 vam celebrar el Centenari i vam aprofitar per recordar les nostres senyes d’identitat, en coherència amb les quals pretenem continuar servint totes les persones que decideixin apostar pel nostre \\nestil educatiu, que continua essent l’ estil MSC , encarnat avui  \\nmajoritàriament en un equip de seglars  compromesos.  \\n \\n \\nQui som  \\n \\n• El Col·legi Sant Miquel, situat al carrer Rosselló, 175, a l’Eixample de Barcelona, és un centre edu catiu catòlic, que té com a titular  la \\ncongregació  dels Missioners d el Sagrat Cor de Jesús. ',\n '• Som un centre educatiu privat d’iniciativa social i concertat pel \\nDepartament d’Educació de la Generalitat des de I 3 d’educació \\ninfantil fins el final de l’educació  secundària obligatòria.  \\n• El nostre batxillerat ofere ix les modalitats de Tecnologia i  Ciències \\nde la Salut, Humanitats i Ciències Socials.  \\n• Entre els serveis, disposem de mitja pensió amb cuina pròpia, de \\nbiblioteca, piscina,  departament d’ orientació,  guarderia de matí i \\nde tarda , i casal d’estiu . \\n• Oferim, juntament amb l’ APMA, moltes activitats extraescolars i \\ncomplementàries.  \\n• Disposem de la certificació de qualitat ISO 9001:20 15 i apostem \\ndecididament per la potenciació de l’ensenyament dels idiomes i la innovació pedagògica constant . \\n ']"
     },
     "execution_count": 44,
     "metadata": {},
     "output_type": "execute_result"
    }
   ],
   "source": [
    "# Extract chunks\n",
    "chunks = [t.page_content for t in test_docs]\n",
    "chunks"
   ],
   "metadata": {
    "collapsed": false,
    "ExecuteTime": {
     "end_time": "2023-10-26T15:35:34.065983Z",
     "start_time": "2023-10-26T15:35:34.054912Z"
    }
   },
   "id": "7b6765072bea56c5"
  },
  {
   "cell_type": "code",
   "execution_count": null,
   "outputs": [],
   "source": [],
   "metadata": {
    "collapsed": false
   },
   "id": "e8578a36c7e18235"
  }
 ],
 "metadata": {
  "kernelspec": {
   "display_name": "Python 3",
   "language": "python",
   "name": "python3"
  },
  "language_info": {
   "codemirror_mode": {
    "name": "ipython",
    "version": 2
   },
   "file_extension": ".py",
   "mimetype": "text/x-python",
   "name": "python",
   "nbconvert_exporter": "python",
   "pygments_lexer": "ipython2",
   "version": "2.7.6"
  }
 },
 "nbformat": 4,
 "nbformat_minor": 5
}
