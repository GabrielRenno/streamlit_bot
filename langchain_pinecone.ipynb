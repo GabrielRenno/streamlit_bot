{
 "cells": [
  {
   "cell_type": "markdown",
   "source": [
    "# Pinecone + Langchain Demo\n",
    "\n",
    "In this notebook i will show you how to easily create a semantic search engine for your documents using Pinecone and Langchain. The goal is to be able to search through your documents and find the most relevant ones to your query. We will also be able to ask questions about the documents and get answers back.\n",
    "\n",
    "[Pinecone signup](https://www.pinecone.io/)\n",
    "After logging in you can see your porjects, indexes and collections\n",
    "\n",
    "\n",
    "[Pinecone documentation](https://docs.pinecone.io/docs/python-client)\n",
    "\n",
    "[Pinecone Langchain documentation](https://www.pinecone.io/learn/series/langchain/langchain-intro/)\n",
    "\n",
    "[Langchain documentation](https://python.langchain.com/docs/get_started/introduction.html)\n"
   ],
   "metadata": {
    "collapsed": false
   },
   "id": "45a8053baf528836"
  },
  {
   "cell_type": "markdown",
   "source": [
    "### Install the packages"
   ],
   "metadata": {
    "collapsed": false
   },
   "id": "bf32b1d972e0e1c2"
  },
  {
   "cell_type": "code",
   "execution_count": 1,
   "outputs": [
    {
     "name": "stdout",
     "output_type": "stream",
     "text": [
      "Collecting langchain\r\n",
      "  Obtaining dependency information for langchain from https://files.pythonhosted.org/packages/1f/46/d82192ebc8d1f0e42b03b5c8a078737fba9fe8ec416722f5865ed9424d49/langchain-0.0.311-py3-none-any.whl.metadata\r\n",
      "  Using cached langchain-0.0.311-py3-none-any.whl.metadata (15 kB)\r\n",
      "Requirement already satisfied: PyYAML>=5.3 in /Users/erictak/PycharmProjects/Spotify_2/langchain/lib/python3.10/site-packages (from langchain) (6.0.1)\r\n",
      "Collecting SQLAlchemy<3,>=1.4 (from langchain)\r\n",
      "  Obtaining dependency information for SQLAlchemy<3,>=1.4 from https://files.pythonhosted.org/packages/6e/b4/cbb4548208e4295d97b6ce08c249444f99a3f31a19eeb33e147d3a5136fd/SQLAlchemy-2.0.21-cp310-cp310-macosx_11_0_arm64.whl.metadata\r\n",
      "  Using cached SQLAlchemy-2.0.21-cp310-cp310-macosx_11_0_arm64.whl.metadata (9.4 kB)\r\n",
      "Collecting aiohttp<4.0.0,>=3.8.3 (from langchain)\r\n",
      "  Obtaining dependency information for aiohttp<4.0.0,>=3.8.3 from https://files.pythonhosted.org/packages/94/a9/61f60723b20f9accdf4c9dc812ad4a61c1c63bdc732bc4e81fde9e6c40a9/aiohttp-3.8.6-cp310-cp310-macosx_11_0_arm64.whl.metadata\r\n",
      "  Using cached aiohttp-3.8.6-cp310-cp310-macosx_11_0_arm64.whl.metadata (7.7 kB)\r\n",
      "Collecting anyio<4.0 (from langchain)\r\n",
      "  Obtaining dependency information for anyio<4.0 from https://files.pythonhosted.org/packages/19/24/44299477fe7dcc9cb58d0a57d5a7588d6af2ff403fdd2d47a246c91a3246/anyio-3.7.1-py3-none-any.whl.metadata\r\n",
      "  Using cached anyio-3.7.1-py3-none-any.whl.metadata (4.7 kB)\r\n",
      "Collecting async-timeout<5.0.0,>=4.0.0 (from langchain)\r\n",
      "  Obtaining dependency information for async-timeout<5.0.0,>=4.0.0 from https://files.pythonhosted.org/packages/a7/fa/e01228c2938de91d47b307831c62ab9e4001e747789d0b05baf779a6488c/async_timeout-4.0.3-py3-none-any.whl.metadata\r\n",
      "  Using cached async_timeout-4.0.3-py3-none-any.whl.metadata (4.2 kB)\r\n",
      "Collecting dataclasses-json<0.7,>=0.5.7 (from langchain)\r\n",
      "  Obtaining dependency information for dataclasses-json<0.7,>=0.5.7 from https://files.pythonhosted.org/packages/21/1f/1cff009cff64420572b9f75b70e4a054095719179a172297dfdd65843162/dataclasses_json-0.6.1-py3-none-any.whl.metadata\r\n",
      "  Using cached dataclasses_json-0.6.1-py3-none-any.whl.metadata (24 kB)\r\n",
      "Collecting jsonpatch<2.0,>=1.33 (from langchain)\r\n",
      "  Obtaining dependency information for jsonpatch<2.0,>=1.33 from https://files.pythonhosted.org/packages/73/07/02e16ed01e04a374e644b575638ec7987ae846d25ad97bcc9945a3ee4b0e/jsonpatch-1.33-py2.py3-none-any.whl.metadata\r\n",
      "  Using cached jsonpatch-1.33-py2.py3-none-any.whl.metadata (3.0 kB)\r\n",
      "Collecting langsmith<0.1.0,>=0.0.43 (from langchain)\r\n",
      "  Obtaining dependency information for langsmith<0.1.0,>=0.0.43 from https://files.pythonhosted.org/packages/9b/6c/fd466f647634ef4a668ea109bf0892d7f78882ffe09500429081ed6dae4a/langsmith-0.0.43-py3-none-any.whl.metadata\r\n",
      "  Using cached langsmith-0.0.43-py3-none-any.whl.metadata (10 kB)\r\n",
      "Collecting numpy<2,>=1 (from langchain)\r\n",
      "  Obtaining dependency information for numpy<2,>=1 from https://files.pythonhosted.org/packages/5c/ff/0e1f31c70495df6a1afbe98fa237f36e6fb7c5443fcb9a53f43170e5814c/numpy-1.26.0-cp310-cp310-macosx_11_0_arm64.whl.metadata\r\n",
      "  Using cached numpy-1.26.0-cp310-cp310-macosx_11_0_arm64.whl.metadata (53 kB)\r\n",
      "Collecting pydantic<3,>=1 (from langchain)\r\n",
      "  Obtaining dependency information for pydantic<3,>=1 from https://files.pythonhosted.org/packages/73/66/0a72c9fcde42e5650c8d8d5c5c1873b9a3893018020c77ca8eb62708b923/pydantic-2.4.2-py3-none-any.whl.metadata\r\n",
      "  Using cached pydantic-2.4.2-py3-none-any.whl.metadata (158 kB)\r\n",
      "Requirement already satisfied: requests<3,>=2 in /Users/erictak/PycharmProjects/Spotify_2/langchain/lib/python3.10/site-packages (from langchain) (2.31.0)\r\n",
      "Collecting tenacity<9.0.0,>=8.1.0 (from langchain)\r\n",
      "  Obtaining dependency information for tenacity<9.0.0,>=8.1.0 from https://files.pythonhosted.org/packages/f4/f1/990741d5bb2487d529d20a433210ffa136a367751e454214013b441c4575/tenacity-8.2.3-py3-none-any.whl.metadata\r\n",
      "  Using cached tenacity-8.2.3-py3-none-any.whl.metadata (1.0 kB)\r\n",
      "Requirement already satisfied: attrs>=17.3.0 in /Users/erictak/PycharmProjects/Spotify_2/langchain/lib/python3.10/site-packages (from aiohttp<4.0.0,>=3.8.3->langchain) (23.1.0)\r\n",
      "Requirement already satisfied: charset-normalizer<4.0,>=2.0 in /Users/erictak/PycharmProjects/Spotify_2/langchain/lib/python3.10/site-packages (from aiohttp<4.0.0,>=3.8.3->langchain) (3.3.0)\r\n",
      "Collecting multidict<7.0,>=4.5 (from aiohttp<4.0.0,>=3.8.3->langchain)\r\n",
      "  Using cached multidict-6.0.4-cp310-cp310-macosx_11_0_arm64.whl (29 kB)\r\n",
      "Collecting yarl<2.0,>=1.0 (from aiohttp<4.0.0,>=3.8.3->langchain)\r\n",
      "  Using cached yarl-1.9.2-cp310-cp310-macosx_11_0_arm64.whl (62 kB)\r\n",
      "Collecting frozenlist>=1.1.1 (from aiohttp<4.0.0,>=3.8.3->langchain)\r\n",
      "  Obtaining dependency information for frozenlist>=1.1.1 from https://files.pythonhosted.org/packages/67/6a/55a49da0fa373ac9aa49ccd5b6393ecc183e2a0904d9449ea3ee1163e0b1/frozenlist-1.4.0-cp310-cp310-macosx_11_0_arm64.whl.metadata\r\n",
      "  Using cached frozenlist-1.4.0-cp310-cp310-macosx_11_0_arm64.whl.metadata (5.2 kB)\r\n",
      "Collecting aiosignal>=1.1.2 (from aiohttp<4.0.0,>=3.8.3->langchain)\r\n",
      "  Using cached aiosignal-1.3.1-py3-none-any.whl (7.6 kB)\r\n",
      "Requirement already satisfied: idna>=2.8 in /Users/erictak/PycharmProjects/Spotify_2/langchain/lib/python3.10/site-packages (from anyio<4.0->langchain) (3.4)\r\n",
      "Requirement already satisfied: sniffio>=1.1 in /Users/erictak/PycharmProjects/Spotify_2/langchain/lib/python3.10/site-packages (from anyio<4.0->langchain) (1.3.0)\r\n",
      "Requirement already satisfied: exceptiongroup in /Users/erictak/PycharmProjects/Spotify_2/langchain/lib/python3.10/site-packages (from anyio<4.0->langchain) (1.1.3)\r\n",
      "Collecting marshmallow<4.0.0,>=3.18.0 (from dataclasses-json<0.7,>=0.5.7->langchain)\r\n",
      "  Obtaining dependency information for marshmallow<4.0.0,>=3.18.0 from https://files.pythonhosted.org/packages/ed/3c/cebfdcad015240014ff08b883d1c0c427f2ba45ae8c6572851b6ef136cad/marshmallow-3.20.1-py3-none-any.whl.metadata\r\n",
      "  Using cached marshmallow-3.20.1-py3-none-any.whl.metadata (7.8 kB)\r\n",
      "Collecting typing-inspect<1,>=0.4.0 (from dataclasses-json<0.7,>=0.5.7->langchain)\r\n",
      "  Obtaining dependency information for typing-inspect<1,>=0.4.0 from https://files.pythonhosted.org/packages/65/f3/107a22063bf27bdccf2024833d3445f4eea42b2e598abfbd46f6a63b6cb0/typing_inspect-0.9.0-py3-none-any.whl.metadata\r\n",
      "  Using cached typing_inspect-0.9.0-py3-none-any.whl.metadata (1.5 kB)\r\n",
      "Requirement already satisfied: jsonpointer>=1.9 in /Users/erictak/PycharmProjects/Spotify_2/langchain/lib/python3.10/site-packages (from jsonpatch<2.0,>=1.33->langchain) (2.4)\r\n",
      "Collecting annotated-types>=0.4.0 (from pydantic<3,>=1->langchain)\r\n",
      "  Obtaining dependency information for annotated-types>=0.4.0 from https://files.pythonhosted.org/packages/28/78/d31230046e58c207284c6b2c4e8d96e6d3cb4e52354721b944d3e1ee4aa5/annotated_types-0.6.0-py3-none-any.whl.metadata\r\n",
      "  Using cached annotated_types-0.6.0-py3-none-any.whl.metadata (12 kB)\r\n",
      "Collecting pydantic-core==2.10.1 (from pydantic<3,>=1->langchain)\r\n",
      "  Obtaining dependency information for pydantic-core==2.10.1 from https://files.pythonhosted.org/packages/e0/ac/699f0d88ac642a6ce87fa412940e95b020c12188819bedff465ec2ba7aff/pydantic_core-2.10.1-cp310-cp310-macosx_11_0_arm64.whl.metadata\r\n",
      "  Using cached pydantic_core-2.10.1-cp310-cp310-macosx_11_0_arm64.whl.metadata (6.5 kB)\r\n",
      "Requirement already satisfied: typing-extensions>=4.6.1 in /Users/erictak/PycharmProjects/Spotify_2/langchain/lib/python3.10/site-packages (from pydantic<3,>=1->langchain) (4.8.0)\r\n",
      "Requirement already satisfied: urllib3<3,>=1.21.1 in /Users/erictak/PycharmProjects/Spotify_2/langchain/lib/python3.10/site-packages (from requests<3,>=2->langchain) (2.0.6)\r\n",
      "Requirement already satisfied: certifi>=2017.4.17 in /Users/erictak/PycharmProjects/Spotify_2/langchain/lib/python3.10/site-packages (from requests<3,>=2->langchain) (2023.7.22)\r\n",
      "Requirement already satisfied: packaging>=17.0 in /Users/erictak/PycharmProjects/Spotify_2/langchain/lib/python3.10/site-packages (from marshmallow<4.0.0,>=3.18.0->dataclasses-json<0.7,>=0.5.7->langchain) (23.2)\r\n",
      "Collecting mypy-extensions>=0.3.0 (from typing-inspect<1,>=0.4.0->dataclasses-json<0.7,>=0.5.7->langchain)\r\n",
      "  Using cached mypy_extensions-1.0.0-py3-none-any.whl (4.7 kB)\r\n",
      "Using cached langchain-0.0.311-py3-none-any.whl (1.8 MB)\r\n",
      "Using cached aiohttp-3.8.6-cp310-cp310-macosx_11_0_arm64.whl (347 kB)\r\n",
      "Using cached anyio-3.7.1-py3-none-any.whl (80 kB)\r\n",
      "Using cached async_timeout-4.0.3-py3-none-any.whl (5.7 kB)\r\n",
      "Using cached dataclasses_json-0.6.1-py3-none-any.whl (27 kB)\r\n",
      "Using cached jsonpatch-1.33-py2.py3-none-any.whl (12 kB)\r\n",
      "Using cached langsmith-0.0.43-py3-none-any.whl (40 kB)\r\n",
      "Using cached numpy-1.26.0-cp310-cp310-macosx_11_0_arm64.whl (14.0 MB)\r\n",
      "Using cached pydantic-2.4.2-py3-none-any.whl (395 kB)\r\n",
      "Using cached pydantic_core-2.10.1-cp310-cp310-macosx_11_0_arm64.whl (1.7 MB)\r\n",
      "Using cached SQLAlchemy-2.0.21-cp310-cp310-macosx_11_0_arm64.whl (2.0 MB)\r\n",
      "Using cached tenacity-8.2.3-py3-none-any.whl (24 kB)\r\n",
      "Using cached annotated_types-0.6.0-py3-none-any.whl (12 kB)\r\n",
      "Using cached frozenlist-1.4.0-cp310-cp310-macosx_11_0_arm64.whl (46 kB)\r\n",
      "Using cached marshmallow-3.20.1-py3-none-any.whl (49 kB)\r\n",
      "Using cached typing_inspect-0.9.0-py3-none-any.whl (8.8 kB)\r\n",
      "Installing collected packages: tenacity, SQLAlchemy, pydantic-core, numpy, mypy-extensions, multidict, marshmallow, jsonpatch, frozenlist, async-timeout, anyio, annotated-types, yarl, typing-inspect, pydantic, aiosignal, langsmith, dataclasses-json, aiohttp, langchain\r\n",
      "  Attempting uninstall: anyio\r\n",
      "    Found existing installation: anyio 4.0.0\r\n",
      "    Uninstalling anyio-4.0.0:\r\n",
      "      Successfully uninstalled anyio-4.0.0\r\n",
      "Successfully installed SQLAlchemy-2.0.21 aiohttp-3.8.6 aiosignal-1.3.1 annotated-types-0.6.0 anyio-3.7.1 async-timeout-4.0.3 dataclasses-json-0.6.1 frozenlist-1.4.0 jsonpatch-1.33 langchain-0.0.311 langsmith-0.0.43 marshmallow-3.20.1 multidict-6.0.4 mypy-extensions-1.0.0 numpy-1.26.0 pydantic-2.4.2 pydantic-core-2.10.1 tenacity-8.2.3 typing-inspect-0.9.0 yarl-1.9.2\r\n",
      "Collecting pypdf\r\n",
      "  Obtaining dependency information for pypdf from https://files.pythonhosted.org/packages/f4/6d/112e138a3097641f30acc2cb802325ad94e1825495bfae3e1fe3f1d9001d/pypdf-3.16.3-py3-none-any.whl.metadata\r\n",
      "  Downloading pypdf-3.16.3-py3-none-any.whl.metadata (7.4 kB)\r\n",
      "Downloading pypdf-3.16.3-py3-none-any.whl (276 kB)\r\n",
      "\u001B[2K   \u001B[90m━━━━━━━━━━━━━━━━━━━━━━━━━━━━━━━━━━━━━━━━\u001B[0m \u001B[32m276.5/276.5 kB\u001B[0m \u001B[31m1.5 MB/s\u001B[0m eta \u001B[36m0:00:00\u001B[0ma \u001B[36m0:00:01\u001B[0m\r\n",
      "\u001B[?25hInstalling collected packages: pypdf\r\n",
      "Successfully installed pypdf-3.16.3\r\n"
     ]
    }
   ],
   "source": [
    "!pip install langchain --upgrade\n",
    "!pip install pypdf"
   ],
   "metadata": {
    "collapsed": false,
    "ExecuteTime": {
     "end_time": "2023-10-10T18:41:59.787691Z",
     "start_time": "2023-10-10T18:41:51.524964Z"
    }
   },
   "id": "af8adc668081983d"
  },
  {
   "cell_type": "code",
   "execution_count": 2,
   "id": "2d3e92ed",
   "metadata": {
    "ExecuteTime": {
     "end_time": "2023-10-10T18:42:50.880305Z",
     "start_time": "2023-10-10T18:42:45.687972Z"
    }
   },
   "outputs": [],
   "source": [
    "# PDF Loaders. If unstructured gives you a hard time, try PyPDFLoader\n",
    "from langchain.document_loaders import UnstructuredPDFLoader, OnlinePDFLoader, PyPDFLoader\n",
    "from langchain.text_splitter import RecursiveCharacterTextSplitter\n",
    "import os"
   ]
  },
  {
   "cell_type": "markdown",
   "id": "5166d759",
   "metadata": {
    "ExecuteTime": {
     "end_time": "2023-07-11T20:38:08.852519Z",
     "start_time": "2023-07-11T20:38:08.848491Z"
    }
   },
   "source": [
    "### Load your data\n",
    "\n",
    "The PDF file that I will use is a summary of one of my courses on strategy that i had in my bacholar.\n",
    "\n",
    "The PDF discusses various perspectives in the field of strategy, including the ideas of Clausewitz, Jomini, Marx, Tolstoy, Weber, Taylor, Follett, Rockefeller, Sloan, Ansoff, and game theory. It highlights the relevance of these perspectives in today's business environment and their impact on strategic thinking. The passage also mentions the different schools of thought in strategy, including the prescriptive and descriptive schools, and raises questions about their relationship to each other in the strategic process. Overall, it provides a comprehensive overview of different strategic perspectives and their implications."
   ]
  },
  {
   "cell_type": "code",
   "execution_count": 76,
   "outputs": [],
   "source": [
    "# create a loader\n",
    "loader = PyPDFLoader(\"../data/summary_strategy.pdf\")"
   ],
   "metadata": {
    "collapsed": false,
    "ExecuteTime": {
     "end_time": "2023-07-15T14:37:33.051666Z",
     "start_time": "2023-07-15T14:37:33.046956Z"
    }
   },
   "id": "469312a1bc1a12fa"
  },
  {
   "cell_type": "markdown",
   "source": [
    "### Other options for loaders"
   ],
   "metadata": {
    "collapsed": false
   },
   "id": "361fd031fd4eda62"
  },
  {
   "cell_type": "code",
   "execution_count": 77,
   "outputs": [],
   "source": [
    "# loader = UnstructuredPDFLoader(\"../data/summary_strategy.pdf\")\n",
    "# loader = OnlinePDFLoader(\"...\")"
   ],
   "metadata": {
    "collapsed": false,
    "ExecuteTime": {
     "end_time": "2023-07-15T14:37:33.655630Z",
     "start_time": "2023-07-15T14:37:33.652399Z"
    }
   },
   "id": "9dc975356d7006be"
  },
  {
   "cell_type": "code",
   "execution_count": 78,
   "id": "bcdac23c",
   "metadata": {
    "ExecuteTime": {
     "end_time": "2023-07-15T14:37:34.295917Z",
     "start_time": "2023-07-15T14:37:34.040125Z"
    }
   },
   "outputs": [],
   "source": [
    "# load your data\n",
    "data = loader.load()"
   ]
  },
  {
   "cell_type": "markdown",
   "source": [
    "Note: If you're using PyPDFLoader, the text will be split by page for you already"
   ],
   "metadata": {
    "collapsed": false
   },
   "id": "32d7658fb742c073"
  },
  {
   "cell_type": "code",
   "execution_count": 79,
   "id": "b4fd7c9e",
   "metadata": {
    "ExecuteTime": {
     "end_time": "2023-07-15T14:37:34.987030Z",
     "start_time": "2023-07-15T14:37:34.981646Z"
    }
   },
   "outputs": [
    {
     "name": "stdout",
     "output_type": "stream",
     "text": [
      "You have 18 document(s) in your data\n",
      "There are 3659 characters in your document\n"
     ]
    }
   ],
   "source": [
    "print (f'You have {len(data)} document(s) in your data')\n",
    "print (f'There are {len(data[0].page_content)} characters in your document')"
   ]
  },
  {
   "cell_type": "markdown",
   "id": "8af9b604",
   "metadata": {
    "ExecuteTime": {
     "end_time": "2023-07-11T20:38:12.194260Z",
     "start_time": "2023-07-11T20:38:12.191771Z"
    }
   },
   "source": [
    "### Split your data up into smaller documents with Chunks\n",
    "\n",
    "The chunksize should be chosen according to the length of your documents. If you have very long documents, you should choose a smaller chunksize. If you have very short documents, you should choose a smaller chunksize.\n",
    "\n",
    "The chunk overlap is the number of characters that will be shared between each chunk. This is useful if you want to make sure that your chunks are not too small.\n",
    "\n",
    "Play around with these parameters to see what works best for your data.\n",
    "\n",
    "Note: If you're using PyPDFLoader then we'll be splitting for the 2nd time."
   ]
  },
  {
   "cell_type": "code",
   "execution_count": 80,
   "id": "fb3c6f02",
   "metadata": {
    "ExecuteTime": {
     "end_time": "2023-07-15T14:37:35.803893Z",
     "start_time": "2023-07-15T14:37:35.801136Z"
    }
   },
   "outputs": [],
   "source": [
    "text_splitter = RecursiveCharacterTextSplitter(chunk_size=1000, chunk_overlap=0)\n",
    "texts = text_splitter.split_documents(data)"
   ]
  },
  {
   "cell_type": "code",
   "execution_count": 81,
   "id": "879873a4",
   "metadata": {
    "ExecuteTime": {
     "end_time": "2023-07-15T14:37:36.304731Z",
     "start_time": "2023-07-15T14:37:36.295954Z"
    }
   },
   "outputs": [
    {
     "name": "stdout",
     "output_type": "stream",
     "text": [
      "Now you have 41 documents\n"
     ]
    }
   ],
   "source": [
    "print (f'Now you have {len(texts)} documents')"
   ]
  },
  {
   "cell_type": "markdown",
   "id": "838b2843",
   "metadata": {
    "ExecuteTime": {
     "end_time": "2023-07-11T20:38:19.825374Z",
     "start_time": "2023-07-11T20:38:19.820981Z"
    }
   },
   "source": [
    "### Create embeddings of your documents\n",
    "\n",
    "Here we import the LangChain and Pinecone libraries. We will use the OpenAIEmbeddings class to create embeddings of our documents. We will then use the Pinecone library to create a Pinecone index and add our documents to it. Finally, we will use the Pinecone library to query our index and get back the most similar documents to our query."
   ]
  },
  {
   "cell_type": "code",
   "execution_count": 121,
   "outputs": [],
   "source": [
    "# import libraries\n",
    "from langchain.vectorstores import  Pinecone\n",
    "from langchain.embeddings.openai import OpenAIEmbeddings\n",
    "import pinecone"
   ],
   "metadata": {
    "collapsed": false,
    "ExecuteTime": {
     "end_time": "2023-07-16T21:39:05.951908Z",
     "start_time": "2023-07-16T21:39:05.949818Z"
    }
   },
   "id": "7e0c8c0a0cdb94"
  },
  {
   "cell_type": "markdown",
   "source": [
    "I chose to store my api keys in a file called credentials.py. You can also store them in your environment variables. You can find your api keys in the pinecone console."
   ],
   "metadata": {
    "collapsed": false
   },
   "id": "3e2ed8751279bb2d"
  },
  {
   "cell_type": "code",
   "execution_count": 122,
   "outputs": [],
   "source": [
    "# import your API keys from a file called credentials.py\n",
    "from credentials import OPENAI_API_KEY, PINECONE_API_KEY, PINECONE_API_ENV"
   ],
   "metadata": {
    "collapsed": false,
    "ExecuteTime": {
     "end_time": "2023-07-16T21:39:09.408778Z",
     "start_time": "2023-07-16T21:39:09.405108Z"
    }
   },
   "id": "5fd0fc5a10960ab9"
  },
  {
   "cell_type": "code",
   "execution_count": 123,
   "id": "0e093ef3",
   "metadata": {
    "hide_input": false,
    "ExecuteTime": {
     "end_time": "2023-07-16T21:39:11.479373Z",
     "start_time": "2023-07-16T21:39:11.475703Z"
    }
   },
   "outputs": [],
   "source": [
    "# you can also store the keys in your environment variables\n",
    "# OPENAI_API_KEY = os.environ.get('OPENAI_API_KEY', 'sk-...')\n",
    "#\n",
    "# PINECONE_API_KEY = os.environ.get('PINECONE_API_KEY', '...')\n",
    "# PINECONE_API_ENV = os.environ.get('PINECONE_API_ENV', '...')"
   ]
  },
  {
   "cell_type": "markdown",
   "source": [
    "I will use the OpenAI embeddings model to create embeddings of my documents. You can use any of the models that are available in the OpenAIEmbeddings class. You can also use any of the other embeddings models that are available in the langchain library."
   ],
   "metadata": {
    "collapsed": false
   },
   "id": "42239b867b9ed4f7"
  },
  {
   "cell_type": "code",
   "execution_count": 85,
   "id": "4e0d1c6a",
   "metadata": {
    "ExecuteTime": {
     "end_time": "2023-07-15T14:37:46.360383Z",
     "start_time": "2023-07-15T14:37:46.357915Z"
    }
   },
   "outputs": [],
   "source": [
    "# create embeddings\n",
    "embeddings = OpenAIEmbeddings(openai_api_key=OPENAI_API_KEY)"
   ]
  },
  {
   "cell_type": "markdown",
   "source": [
    "## Create a Pinecone index and add your documents to it\n",
    "\n",
    "Here we create a Pinecone index and add our documents to it. We will then use the Pinecone library to query our index and get back the most similar documents to our query. I chose a dimension of 1536 and a metric of cosine. You can play around with these parameters to see what works best for your data.\n",
    "\n",
    "For the OpenAI text-embedding-ada-002 embeddings, the output dimension is 1536, hence the dimension parameter.\n",
    "\n",
    "\n",
    "The metric can be cosine, euclidean, or l2, depending on the type of data you have.\n",
    "\n",
    "#### Cosine Distance\n",
    "Description: Measures the cosine of the angle between two vectors, often used when working with normalized or convex sets.\n",
    "Use Cases: Document classification, semantic search, recommendation systems, and any other task involving high-dimensional and normalized data.\n",
    "\n",
    "#### Euclidean Distance (L2)\n",
    "Description: Calculates the straight-line distance between two vectors in a multidimensional space.\n",
    "Use Cases: Image recognition, speech recognition, handwriting analysis.\n",
    "\n",
    "#### Inner Product (Dot Product)\n",
    "Description: Computes the sum of the products of the vectors' corresponding components.\n",
    "Use Cases: Recommendation systems, collaborative filtering, matrix factorization.\n",
    "\n",
    "[source](https://www.imaurer.com/which-vector-similarity-metric-should-i-use/)\n",
    "\n",
    "In the free trial of pinecone you van only create one index. If you want to create more, you can upgrade to a paid plan."
   ],
   "metadata": {
    "collapsed": false
   },
   "id": "fbf7f613063b114b"
  },
  {
   "cell_type": "code",
   "execution_count": null,
   "outputs": [],
   "source": [
    "# create a pinecone index\n",
    "pinecone.create_index(\"python-index\", dimension=1536, metric=\"cosine\")"
   ],
   "metadata": {
    "collapsed": false
   },
   "id": "a416ab938d53caa"
  },
  {
   "cell_type": "code",
   "execution_count": 86,
   "id": "0deb2f6a",
   "metadata": {
    "ExecuteTime": {
     "end_time": "2023-07-15T14:37:53.481093Z",
     "start_time": "2023-07-15T14:37:52.637558Z"
    }
   },
   "outputs": [],
   "source": [
    "# initialize pinecone\n",
    "pinecone.init(\n",
    "    api_key=PINECONE_API_KEY,  # find at app.pinecone.io\n",
    "    environment=PINECONE_API_ENV  # next to API key in console\n",
    ")\n",
    "\n",
    "index_name = \"python-index\" # put in the name of your pinecone index here"
   ]
  },
  {
   "cell_type": "code",
   "execution_count": null,
   "outputs": [],
   "source": [
    "docsearch = Pinecone.from_texts([t.page_content for t in texts], embeddings, index_name=index_name)"
   ],
   "metadata": {
    "collapsed": false
   },
   "id": "1d5fe7bfef4edb7f"
  },
  {
   "cell_type": "code",
   "execution_count": null,
   "outputs": [],
   "source": [
    "# if you already have an index, you can load it like this\n",
    "#docsearch = Pinecone.from_existing_index(index_name, embeddings)"
   ],
   "metadata": {
    "collapsed": false
   },
   "id": "4b390bf8ee6b513b"
  },
  {
   "cell_type": "code",
   "execution_count": 115,
   "id": "34929595",
   "metadata": {
    "ExecuteTime": {
     "end_time": "2023-07-15T15:32:31.030766Z",
     "start_time": "2023-07-15T15:32:29.390088Z"
    }
   },
   "outputs": [],
   "source": [
    "query = \"Who was Von Clausewitz?\"\n",
    "docs = docsearch.similarity_search(query)"
   ]
  },
  {
   "cell_type": "markdown",
   "source": [
    "the function of similarity_search is defined as follows:\n",
    "\n",
    "\n",
    "def similarity_search(\n",
    "    self,\n",
    "    query: str,\n",
    "    k: int = 4,\n",
    "    filter: dict | None = None,\n",
    "    namespace: str | None = None,\n",
    "    **kwargs: Any) -> list[Document]\n",
    "\n",
    "\n",
    "The Query is the text that you want to search for. The k is the number of documents that you want to return. The filter is a dictionary of filters that you can use to filter your results. The namespace is the namespace of your index. The **kwargs are any other arguments that you want to pass to the pinecone library.\n",
    "\n",
    "By default, it will return the top 4 documents that are most similar to your query. You can change this by changing the k parameter.\n"
   ],
   "metadata": {
    "collapsed": false
   },
   "id": "5937579e86312da5"
  },
  {
   "cell_type": "code",
   "execution_count": 89,
   "outputs": [
    {
     "data": {
      "text/plain": "[Document(page_content='9RQ\\x03&ODXVHZLW]  Historic perspectives can still be seen in business perspective today. Clausewitz his perspective seems timeless. He is in the same timeframe as Jomini. French was in a revolution; Eu was ruled by royal houses and the Napoleonic war was going on. When was 12 he joined the army and when he turned 21 he joined the military academy as a scholar. There he met Gerhard von Scharnhorst (lecturer) and Marie von Bruhl (married Clausewitz). The was a grave and was Clausewitz his ticket to the higher circles in Prussia. She played an important role in Clausewitz his career progress and development of perspective in strategy. Von Clausewitz served in an old-fashioned army, Clausewitz was captured by the French and Prussia was conquered. After the release Clausewitz joined the Russian army and fought Napoleon. They defeated Napoleon. Clausewitz tried to finish a book but died of Cholera. 7KH\\x03ERRN\\x03KDV\\x03WKH\\x03WLWOH\\x03µ¶RQ\\x03ZDU¶¶\\x11\\x03', metadata={}),\n Document(page_content='9RQ\\x03&ODXVHZLW]  Historic perspectives can still be seen in business perspective today. Clausewitz his perspective seems timeless. He is in the same timeframe as Jomini. French was in a revolution; Eu was ruled by royal houses and the Napoleonic war was going on. When was 12 he joined the army and when he turned 21 he joined the military academy as a scholar. There he met Gerhard von Scharnhorst (lecturer) and Marie von Bruhl (married Clausewitz). The was a grave and was Clausewitz his ticket to the higher circles in Prussia. She played an important role in Clausewitz his career progress and development of perspective in strategy. Von Clausewitz served in an old-fashioned army, Clausewitz was captured by the French and Prussia was conquered. After the release Clausewitz joined the Russian army and fought Napoleon. They defeated Napoleon. Clausewitz tried to finish a book but died of Cholera. 7KH\\x03ERRN\\x03KDV\\x03WKH\\x03WLWOH\\x03µ¶RQ\\x03ZDU¶¶\\x11\\x03', metadata={}),\n Document(page_content='9RQ\\x03&ODXVHZLW]  Historic perspectives can still be seen in business perspective today. Clausewitz his perspective seems timeless. He is in the same timeframe as Jomini. French was in a revolution; Eu was ruled by royal houses and the Napoleonic war was going on. When was 12 he joined the army and when he turned 21 he joined the military academy as a scholar. There he met Gerhard von Scharnhorst (lecturer) and Marie von Bruhl (married Clausewitz). The was a grave and was Clausewitz his ticket to the higher circles in Prussia. She played an important role in Clausewitz his career progress and development of perspective in strategy. Von Clausewitz served in an old-fashioned army, Clausewitz was captured by the French and Prussia was conquered. After the release Clausewitz joined the Russian army and fought Napoleon. They defeated Napoleon. Clausewitz tried to finish a book but died of Cholera. 7KH\\x03ERRN\\x03KDV\\x03WKH\\x03WLWOH\\x03µ¶RQ\\x03ZDU¶¶\\x11\\x03 &ODXVHZLW]\\x03GHILQHV\\x03VWUDWHJ\\\\\\x03DV\\x03µ¶7KH\\x03XVH\\x03RI\\x03FRPEDW\\x0f\\x03RU\\x03WKH\\x03threat of combat, for the purpose of the ZDU\\x03LQ\\x03ZKLFK\\x03PDNHV\\x03LW\\x03WDNHV\\x03SODFH¶¶\\x11\\x03)ULFWLRQ\\x03\\x0bSDJH\\x03\\x1b\\x1a\\x0c\\x03is a concept of his perspective. Clausewitz states it as that everything in war is simple, but the simplest thing ios difficult. The difficulties in war are cumulate and in in producing a kind of friction. You can only experience friction unless you experienced a war. He describes friction as countless minor incidents which can lower the general level of performance. An example: You have a plan to attack something, but then you experience friction: little things go wrong and suddenly the roads are of terrible quality, they are worse then expected, or a supply that comes in late so soldiers are out of food and ammunition. Things that cant be foresee. This calls Clausewitz friction. If this is what you believe, what is the role of theory? Clausewitz thought that Theory should never be leading. Practice will always be turned out different,', metadata={}),\n Document(page_content='9RQ\\x03&ODXVHZLW]  Historic perspectives can still be seen in business perspective today. Clausewitz his perspective seems timeless. He is in the same timeframe as Jomini. French was in a revolution; Eu was ruled by royal houses and the Napoleonic war was going on. When was 12 he joined the army and when he turned 21 he joined the military academy as a scholar. There he met Gerhard von Scharnhorst (lecturer) and Marie von Bruhl (married Clausewitz). The was a grave and was Clausewitz his ticket to the higher circles in Prussia. She played an important role in Clausewitz his career progress and development of perspective in strategy. Von Clausewitz served in an old-fashioned army, Clausewitz was captured by the French and Prussia was conquered. After the release Clausewitz joined the Russian army and fought Napoleon. They defeated Napoleon. Clausewitz tried to finish a book but died of Cholera. 7KH\\x03ERRN\\x03KDV\\x03WKH\\x03WLWOH\\x03µ¶RQ\\x03ZDU¶¶\\x11\\x03 &ODXVHZLW]\\x03GHILQHV\\x03VWUDWHJ\\\\\\x03DV\\x03µ¶7KH\\x03XVH\\x03RI\\x03FRPEDW\\x0f\\x03RU\\x03WKH\\x03threat of combat, for the purpose of the ZDU\\x03LQ\\x03ZKLFK\\x03PDNHV\\x03LW\\x03WDNHV\\x03SODFH¶¶\\x11\\x03)ULFWLRQ\\x03\\x0bSDJH\\x03\\x1b\\x1a\\x0c\\x03is a concept of his perspective. Clausewitz states it as that everything in war is simple, but the simplest thing ios difficult. The difficulties in war are cumulate and in in producing a kind of friction. You can only experience friction unless you experienced a war. He describes friction as countless minor incidents which can lower the general level of performance. An example: You have a plan to attack something, but then you experience friction: little things go wrong and suddenly the roads are of terrible quality, they are worse then expected, or a supply that comes in late so soldiers are out of food and ammunition. Things that cant be foresee. This calls Clausewitz friction. If this is what you believe, what is the role of theory? Clausewitz thought that Theory should never be leading. Practice will always be turned out different,', metadata={})]"
     },
     "execution_count": 89,
     "metadata": {},
     "output_type": "execute_result"
    }
   ],
   "source": [
    "docs"
   ],
   "metadata": {
    "collapsed": false,
    "ExecuteTime": {
     "end_time": "2023-07-15T14:38:06.258476Z",
     "start_time": "2023-07-15T14:38:06.252699Z"
    }
   },
   "id": "a1da57485da1ea47"
  },
  {
   "cell_type": "code",
   "execution_count": 90,
   "id": "4e0f5b45",
   "metadata": {
    "ExecuteTime": {
     "end_time": "2023-07-15T14:38:08.005124Z",
     "start_time": "2023-07-15T14:38:07.993020Z"
    }
   },
   "outputs": [
    {
     "name": "stdout",
     "output_type": "stream",
     "text": [
      "9RQ\u0003&ODXVHZLW]  Historic perspectives can still be seen in business perspective today. Clausewitz his perspective seems timeless. He is in the same timeframe as Jomini. French was in a revolution; Eu was ruled by royal houses and the Napoleonic war was going on. When was 12 he joined the army and when he turned 21 he joined the military academy as a scholar. There he met Gerhard von Scharnhorst (lecturer) and Marie von Bruhl (married Clausewitz).\n"
     ]
    }
   ],
   "source": [
    "# Here's an example of the first document that was returned\n",
    "print(docs[0].page_content[:450])"
   ]
  },
  {
   "cell_type": "markdown",
   "id": "3c35dcd9",
   "metadata": {
    "ExecuteTime": {
     "end_time": "2023-07-11T20:23:44.812819Z",
     "start_time": "2023-07-11T20:23:44.807162Z"
    }
   },
   "source": [
    "### Query those docs to get your answer back\n",
    "\n",
    "Here we will use the langchain library to create a question answering chain. We will then use the chain to query our documents and get back the answer to our question.\n",
    "\n",
    "If you want to know more about how to use the question answering chain, I wrote a Medium article about it here: https://medium.com/@rubentak/langchain-using-different-langchain-chains-to-write-a-new-episode-for-the-office-us-7c45d869d895"
   ]
  },
  {
   "cell_type": "code",
   "execution_count": 117,
   "id": "f051337b",
   "metadata": {
    "ExecuteTime": {
     "end_time": "2023-07-15T15:49:47.786253Z",
     "start_time": "2023-07-15T15:49:47.782357Z"
    }
   },
   "outputs": [],
   "source": [
    "from langchain.chains.question_answering import load_qa_chain\n",
    "from langchain.llms import OpenAI\n",
    "from langchain.chat_models import ChatOpenAI"
   ]
  },
  {
   "cell_type": "markdown",
   "source": [
    "Use GPT-4 model to answer questions"
   ],
   "metadata": {
    "collapsed": false
   },
   "id": "2294c263e88fe5a7"
  },
  {
   "cell_type": "code",
   "execution_count": 118,
   "id": "6b9b1c03",
   "metadata": {
    "ExecuteTime": {
     "end_time": "2023-07-15T15:49:48.484598Z",
     "start_time": "2023-07-15T15:49:48.481346Z"
    }
   },
   "outputs": [],
   "source": [
    "llm = OpenAI(temperature=0, openai_api_key=OPENAI_API_KEY, model_name='gpt-4')\n",
    "chain = load_qa_chain(llm, chain_type=\"stuff\")"
   ]
  },
  {
   "cell_type": "code",
   "execution_count": 119,
   "id": "f67ea7c2",
   "metadata": {
    "ExecuteTime": {
     "end_time": "2023-07-15T15:49:51.947489Z",
     "start_time": "2023-07-15T15:49:50.105431Z"
    }
   },
   "outputs": [],
   "source": [
    "query = \"Who was Von Clausewitz?\"\n",
    "docs = docsearch.similarity_search(query)"
   ]
  },
  {
   "cell_type": "code",
   "execution_count": 120,
   "id": "3dfd2b7d",
   "metadata": {
    "ExecuteTime": {
     "end_time": "2023-07-15T15:50:03.469398Z",
     "start_time": "2023-07-15T15:49:53.052399Z"
    }
   },
   "outputs": [
    {
     "data": {
      "text/plain": "'Von Clausewitz was a military theorist who served in the Prussian and Russian armies. He joined the army at the age of 12 and later attended a military academy where he met influential figures such as Gerhard von Scharnhorst and Marie von Bruhl, the latter of whom he married. His wife played a significant role in his career progress and development of perspective in strategy. He was captured by the French during the Napoleonic war, and after his release, he joined the Russian army and fought against Napoleon. He attempted to finish a book titled \"On War\" but died of Cholera before he could complete it. His perspectives on war and strategy are still influential today.'"
     },
     "execution_count": 120,
     "metadata": {},
     "output_type": "execute_result"
    }
   ],
   "source": [
    "chain.run(input_documents=docs, question=query)"
   ]
  },
  {
   "cell_type": "code",
   "execution_count": 95,
   "outputs": [
    {
     "data": {
      "text/plain": "[Document(page_content='9RQ\\x03&ODXVHZLW]  Historic perspectives can still be seen in business perspective today. Clausewitz his perspective seems timeless. He is in the same timeframe as Jomini. French was in a revolution; Eu was ruled by royal houses and the Napoleonic war was going on. When was 12 he joined the army and when he turned 21 he joined the military academy as a scholar. There he met Gerhard von Scharnhorst (lecturer) and Marie von Bruhl (married Clausewitz). The was a grave and was Clausewitz his ticket to the higher circles in Prussia. She played an important role in Clausewitz his career progress and development of perspective in strategy. Von Clausewitz served in an old-fashioned army, Clausewitz was captured by the French and Prussia was conquered. After the release Clausewitz joined the Russian army and fought Napoleon. They defeated Napoleon. Clausewitz tried to finish a book but died of Cholera. 7KH\\x03ERRN\\x03KDV\\x03WKH\\x03WLWOH\\x03µ¶RQ\\x03ZDU¶¶\\x11\\x03', metadata={}),\n Document(page_content='9RQ\\x03&ODXVHZLW]  Historic perspectives can still be seen in business perspective today. Clausewitz his perspective seems timeless. He is in the same timeframe as Jomini. French was in a revolution; Eu was ruled by royal houses and the Napoleonic war was going on. When was 12 he joined the army and when he turned 21 he joined the military academy as a scholar. There he met Gerhard von Scharnhorst (lecturer) and Marie von Bruhl (married Clausewitz). The was a grave and was Clausewitz his ticket to the higher circles in Prussia. She played an important role in Clausewitz his career progress and development of perspective in strategy. Von Clausewitz served in an old-fashioned army, Clausewitz was captured by the French and Prussia was conquered. After the release Clausewitz joined the Russian army and fought Napoleon. They defeated Napoleon. Clausewitz tried to finish a book but died of Cholera. 7KH\\x03ERRN\\x03KDV\\x03WKH\\x03WLWOH\\x03µ¶RQ\\x03ZDU¶¶\\x11\\x03', metadata={}),\n Document(page_content='9RQ\\x03&ODXVHZLW]  Historic perspectives can still be seen in business perspective today. Clausewitz his perspective seems timeless. He is in the same timeframe as Jomini. French was in a revolution; Eu was ruled by royal houses and the Napoleonic war was going on. When was 12 he joined the army and when he turned 21 he joined the military academy as a scholar. There he met Gerhard von Scharnhorst (lecturer) and Marie von Bruhl (married Clausewitz). The was a grave and was Clausewitz his ticket to the higher circles in Prussia. She played an important role in Clausewitz his career progress and development of perspective in strategy. Von Clausewitz served in an old-fashioned army, Clausewitz was captured by the French and Prussia was conquered. After the release Clausewitz joined the Russian army and fought Napoleon. They defeated Napoleon. Clausewitz tried to finish a book but died of Cholera. 7KH\\x03ERRN\\x03KDV\\x03WKH\\x03WLWOH\\x03µ¶RQ\\x03ZDU¶¶\\x11\\x03 &ODXVHZLW]\\x03GHILQHV\\x03VWUDWHJ\\\\\\x03DV\\x03µ¶7KH\\x03XVH\\x03RI\\x03FRPEDW\\x0f\\x03RU\\x03WKH\\x03threat of combat, for the purpose of the ZDU\\x03LQ\\x03ZKLFK\\x03PDNHV\\x03LW\\x03WDNHV\\x03SODFH¶¶\\x11\\x03)ULFWLRQ\\x03\\x0bSDJH\\x03\\x1b\\x1a\\x0c\\x03is a concept of his perspective. Clausewitz states it as that everything in war is simple, but the simplest thing ios difficult. The difficulties in war are cumulate and in in producing a kind of friction. You can only experience friction unless you experienced a war. He describes friction as countless minor incidents which can lower the general level of performance. An example: You have a plan to attack something, but then you experience friction: little things go wrong and suddenly the roads are of terrible quality, they are worse then expected, or a supply that comes in late so soldiers are out of food and ammunition. Things that cant be foresee. This calls Clausewitz friction. If this is what you believe, what is the role of theory? Clausewitz thought that Theory should never be leading. Practice will always be turned out different,', metadata={}),\n Document(page_content='9RQ\\x03&ODXVHZLW]  Historic perspectives can still be seen in business perspective today. Clausewitz his perspective seems timeless. He is in the same timeframe as Jomini. French was in a revolution; Eu was ruled by royal houses and the Napoleonic war was going on. When was 12 he joined the army and when he turned 21 he joined the military academy as a scholar. There he met Gerhard von Scharnhorst (lecturer) and Marie von Bruhl (married Clausewitz). The was a grave and was Clausewitz his ticket to the higher circles in Prussia. She played an important role in Clausewitz his career progress and development of perspective in strategy. Von Clausewitz served in an old-fashioned army, Clausewitz was captured by the French and Prussia was conquered. After the release Clausewitz joined the Russian army and fought Napoleon. They defeated Napoleon. Clausewitz tried to finish a book but died of Cholera. 7KH\\x03ERRN\\x03KDV\\x03WKH\\x03WLWOH\\x03µ¶RQ\\x03ZDU¶¶\\x11\\x03 &ODXVHZLW]\\x03GHILQHV\\x03VWUDWHJ\\\\\\x03DV\\x03µ¶7KH\\x03XVH\\x03RI\\x03FRPEDW\\x0f\\x03RU\\x03WKH\\x03threat of combat, for the purpose of the ZDU\\x03LQ\\x03ZKLFK\\x03PDNHV\\x03LW\\x03WDNHV\\x03SODFH¶¶\\x11\\x03)ULFWLRQ\\x03\\x0bSDJH\\x03\\x1b\\x1a\\x0c\\x03is a concept of his perspective. Clausewitz states it as that everything in war is simple, but the simplest thing ios difficult. The difficulties in war are cumulate and in in producing a kind of friction. You can only experience friction unless you experienced a war. He describes friction as countless minor incidents which can lower the general level of performance. An example: You have a plan to attack something, but then you experience friction: little things go wrong and suddenly the roads are of terrible quality, they are worse then expected, or a supply that comes in late so soldiers are out of food and ammunition. Things that cant be foresee. This calls Clausewitz friction. If this is what you believe, what is the role of theory? Clausewitz thought that Theory should never be leading. Practice will always be turned out different,', metadata={})]"
     },
     "execution_count": 95,
     "metadata": {},
     "output_type": "execute_result"
    }
   ],
   "source": [
    "docs"
   ],
   "metadata": {
    "collapsed": false,
    "ExecuteTime": {
     "end_time": "2023-07-15T14:38:21.290333Z",
     "start_time": "2023-07-15T14:38:21.283490Z"
    }
   },
   "id": "d54af84b9de76ac7"
  },
  {
   "cell_type": "code",
   "execution_count": null,
   "outputs": [],
   "source": [
    "from langchain.document_loaders import PyPDFLoader\n",
    "from langchain.text_splitter import RecursiveCharacterTextSplitter\n",
    "from langchain.vectorstores import Pinecone\n",
    "from langchain.embeddings.openai import OpenAIEmbeddings\n",
    "from langchain.llms import OpenAI\n",
    "from langchain.chains.question_answering import load_qa_chain\n",
    "import pinecone\n",
    "from credentials import OPENAI_API_KEY, PINECONE_API_KEY, PINECONE_API_ENV"
   ],
   "metadata": {
    "collapsed": false
   },
   "id": "3f6bf8351492f151"
  },
  {
   "cell_type": "code",
   "execution_count": 113,
   "outputs": [],
   "source": [
    "def create_qa_bot(prompt):\n",
    "    # Load the PDF data\n",
    "    loader = PyPDFLoader(\"../data/summary_strategy.pdf\")\n",
    "    data = loader.load()\n",
    "\n",
    "    # Split the data into smaller documents\n",
    "    text_splitter = RecursiveCharacterTextSplitter(chunk_size=1000, chunk_overlap=0)\n",
    "    texts = text_splitter.split_documents(data)\n",
    "\n",
    "    # Create embeddings\n",
    "    embeddings = OpenAIEmbeddings(openai_api_key=OPENAI_API_KEY)\n",
    "\n",
    "    # Create a Pinecone index and add the documents to it\n",
    "    #pinecone.create_index(\"python-index\", dimension=1536, metric=\"cosine\")\n",
    "    pinecone.init(api_key=PINECONE_API_KEY, environment=PINECONE_API_ENV)\n",
    "    index_name = \"python-index\"\n",
    "    docsearch = Pinecone.from_texts([t.page_content for t in texts], embeddings, index_name=index_name)\n",
    "\n",
    "    # Perform similarity search\n",
    "    docs = docsearch.similarity_search(prompt)\n",
    "\n",
    "    # Load the question answering chain\n",
    "    llm = OpenAI(temperature=0, openai_api_key=OPENAI_API_KEY)\n",
    "    chain = load_qa_chain(llm, chain_type=\"stuff\")\n",
    "\n",
    "    # Query the documents and get the answer\n",
    "    answer = chain.run(input_documents=docs, question=prompt)\n",
    "\n",
    "    return answer"
   ],
   "metadata": {
    "collapsed": false,
    "ExecuteTime": {
     "end_time": "2023-07-15T14:47:52.895033Z",
     "start_time": "2023-07-15T14:47:52.891904Z"
    }
   },
   "id": "ea04193821b023bc"
  },
  {
   "cell_type": "code",
   "execution_count": 114,
   "outputs": [
    {
     "name": "stdout",
     "output_type": "stream",
     "text": [
      " Von Clausewitz was a Prussian military theorist and soldier who served in the Prussian army and the Russian army during the Napoleonic Wars. He is best known for his book On War, which is still studied today for its insights into military strategy and tactics.\n"
     ]
    }
   ],
   "source": [
    "# Usage example\n",
    "prompt = \"Who was Von Clausewitz?\"\n",
    "answer = create_qa_bot(prompt)\n",
    "print(answer)"
   ],
   "metadata": {
    "collapsed": false,
    "ExecuteTime": {
     "end_time": "2023-07-15T14:48:03.232732Z",
     "start_time": "2023-07-15T14:47:53.439422Z"
    }
   },
   "id": "1c5ee52ea45343bf"
  },
  {
   "cell_type": "code",
   "execution_count": null,
   "outputs": [],
   "source": [],
   "metadata": {
    "collapsed": false
   },
   "id": "8e710cde61d98230"
  }
 ],
 "metadata": {
  "kernelspec": {
   "display_name": "Python 3 (ipykernel)",
   "language": "python",
   "name": "python3"
  },
  "language_info": {
   "codemirror_mode": {
    "name": "ipython",
    "version": 3
   },
   "file_extension": ".py",
   "mimetype": "text/x-python",
   "name": "python",
   "nbconvert_exporter": "python",
   "pygments_lexer": "ipython3",
   "version": "3.9.13"
  }
 },
 "nbformat": 4,
 "nbformat_minor": 5
}
