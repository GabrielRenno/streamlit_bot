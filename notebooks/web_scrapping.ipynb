{
 "cells": [
  {
   "cell_type": "code",
   "execution_count": 70,
   "metadata": {},
   "outputs": [],
   "source": [
    "# Import libraries\n",
    "from bs4 import BeautifulSoup\n",
    "import requests\n",
    "import re"
   ]
  },
  {
   "cell_type": "code",
   "execution_count": 71,
   "metadata": {},
   "outputs": [],
   "source": [
    "# Function for getting the text data from a website url\n",
    "def get_data(url):\n",
    "\tr = requests.get(url)\n",
    "\treturn r.text\n",
    "\n",
    "#get_data('https://www.csm.cat/')"
   ]
  },
  {
   "cell_type": "code",
   "execution_count": 72,
   "metadata": {},
   "outputs": [
    {
     "data": {
      "text/plain": [
       "149"
      ]
     },
     "execution_count": 72,
     "metadata": {},
     "output_type": "execute_result"
    }
   ],
   "source": [
    "# get links of website\n",
    "def get_links(website_link):\n",
    "    html_data = get_data(website_link)\n",
    "    soup = BeautifulSoup(html_data, \"html.parser\")\n",
    "    list_links = []\n",
    "    for link in soup.find_all(\"a\", href=True):\n",
    "        list_links.append(link[\"href\"])\n",
    "    return list_links\n",
    "\n",
    "sub_links = get_links('https://www.csm.cat/')\n",
    "len(sub_links)"
   ]
  },
  {
   "cell_type": "code",
   "execution_count": 73,
   "metadata": {},
   "outputs": [],
   "source": [
    "# Filter only the links with \"www.csm.cat\"\n",
    "\n",
    "def filter_links(list_links):\n",
    "    list_links_filtered = []\n",
    "    for link in list_links:\n",
    "        if \"www.csm.cat\" in link:\n",
    "            list_links_filtered.append(link)\n",
    "    return list_links_filtered"
   ]
  },
  {
   "cell_type": "code",
   "execution_count": 74,
   "metadata": {},
   "outputs": [],
   "source": [
    "# Run the function\n",
    "sub_links_filtered = filter_links(sub_links)"
   ]
  },
  {
   "cell_type": "code",
   "execution_count": 75,
   "metadata": {},
   "outputs": [
    {
     "name": "stdout",
     "output_type": "stream",
     "text": [
      "['https://www.csm.cat/projectes/biblioteca/', 'https://www.csm.cat/agenda/', 'https://www.csm.cat/correu/', 'https://www.csm.cat', 'https://www.csm.cat/on-som/', 'https://www.csm.cat/on-som/', 'https://www.csm.cat/qui-som/', 'https://www.csm.cat/on-som/', 'https://www.csm.cat/com-treballem/', 'https://www.csm.cat/historia-2/', 'https://www.csm.cat/installacions/', 'https://www.csm.cat/infantil/', 'https://www.csm.cat/primaria/', 'https://www.csm.cat/eso/', 'https://www.csm.cat/batxillerat-2/', 'https://www.csm.cat/dorientacio/', 'https://www.csm.cat/serveis/', 'https://www.csm.cat/resultats/', 'https://www.csm.cat/projecte-creixem/', 'https://www.csm.cat/projectes/escolessostenibles/', 'https://www.csm.cat/projectes/biblioteca/', 'https://www.csm.cat/projectes/escola-multilingue/', 'https://www.csm.cat/batxillerat-internacional-dual/', 'https://www.csm.cat/blog/', 'https://www.csm.cat/reconeixements/', 'https://www.csm.cat/llibres2024/', 'https://www.csm.cat/pastoral/', 'https://www.csm.cat/pastoral/campanya-quilo/', 'https://www.csm.cat/pastoral/noticies/', 'https://www.csm.cat/pastoral/lema/', 'https://www.csm.cat/pastoral/objectiu/', 'https://www.csm.cat/pastoral/vocalies/', 'https://www.csm.cat/pastoral/activitats/', 'https://www.csm.cat/pastoral/catequesi/', 'https://www.csm.cat/catequesi-de-confirmacio/', 'https://www.csm.cat/sae/', 'https://www.csm.cat/aulateatrecsm-2-2/', 'https://www.csm.cat/afa/', 'https://www.csm.cat/author/csm/', 'https://www.csm.cat/preinscripcions_2023-24/', 'https://www.csm.cat/infantil/', 'https://www.csm.cat/primaria/', 'https://www.csm.cat/eso/', 'https://www.csm.cat/batxillerat-2/', 'https://www.csm.cat/dorientacio/', 'https://www.csm.cat/resultats/', 'https://www.csm.cat/4t-deso-sortida-a-la-colonia-guell/', 'https://www.csm.cat/author/lvinals/', 'https://www.csm.cat/4t-deso-sortida-a-la-colonia-guell/', 'https://www.csm.cat/author/lvinals/', 'https://www.csm.cat/category/eso/', 'https://www.csm.cat/celebracio-de-la-castanyada-6/', 'https://www.csm.cat/author/lvinals/', 'https://www.csm.cat/celebracio-de-la-castanyada-6/', 'https://www.csm.cat/author/lvinals/', 'https://www.csm.cat/category/infantil/', 'https://www.csm.cat/category/primaria/', 'https://www.csm.cat/3r-deso-sortida-a-sant-pere-de-ribes/', 'https://www.csm.cat/author/lvinals/', 'https://www.csm.cat/3r-deso-sortida-a-sant-pere-de-ribes/', 'https://www.csm.cat/author/lvinals/', 'https://www.csm.cat/category/eso/', 'https://www.csm.cat/festa-del-p-chevalier-5/', 'https://www.csm.cat/author/lvinals/', 'https://www.csm.cat/festa-del-p-chevalier-5/', 'https://www.csm.cat/author/lvinals/', 'https://www.csm.cat/category/pastoral/', 'https://www.csm.cat/i3-deducacio-infantil-inici-del-projecte-mans/', 'https://www.csm.cat/author/lvinals/', 'https://www.csm.cat/i3-deducacio-infantil-inici-del-projecte-mans/', 'https://www.csm.cat/author/lvinals/', 'https://www.csm.cat/category/infantil/', 'https://www.csm.cat/3r-de-primaria-sortida-al-riu-tordera/', 'https://www.csm.cat/author/lvinals/', 'https://www.csm.cat/3r-de-primaria-sortida-al-riu-tordera/', 'https://www.csm.cat/author/lvinals/', 'https://www.csm.cat/category/primaria/', 'https://www.csm.cat/page/2/', 'https://www.csm.cat/page/2/', 'https://www.csm.cat/ote/', 'https://www.csm.cat/ote/', 'https://www.csm.cat/ote/', 'https://www.csm.cat/wp-content/uploads/2021/12/Galeria-inicio_0009_Fondo.jpg', 'https://www.csm.cat/wp-content/uploads/2021/12/Galeria-inicio_0001_Capa-7.jpg', 'https://www.csm.cat/wp-content/uploads/2022/09/Menjador-scaled-e1663840135493.jpg', 'https://www.csm.cat/wp-content/uploads/2022/09/20220916P3_Adaptació_17-copia.jpg', 'https://www.csm.cat/wp-content/uploads/2022/10/Taula-iPad-scaled-e1664879933360.jpg', 'https://www.csm.cat/wp-content/uploads/2021/12/Galeria-inicio_0005_Capa-3.jpg', 'https://www.csm.cat/wp-content/uploads/2022/09/DSC_0120-scaled-e1664360821429.jpg', 'https://www.csm.cat/wp-content/uploads/2021/12/Galeria-inicio_0006_Capa-2.jpg', 'https://www.csm.cat/2n-premi-en-el-concurs-de-dibuix-descobreix-el-riu/', 'https://www.csm.cat/author/lvinals/', 'https://www.csm.cat/2n-premi-en-el-concurs-de-dibuix-descobreix-el-riu/', 'https://www.csm.cat/author/lvinals/', 'https://www.csm.cat/category/reconeixement/', 'https://www.csm.cat/1r-bat-1r-premi-en-el-concurs-de-cristallitzacio-a-lescola/', 'https://www.csm.cat/author/lvinals/', 'https://www.csm.cat/1r-bat-1r-premi-en-el-concurs-de-cristallitzacio-a-lescola/', 'https://www.csm.cat/author/lvinals/', 'https://www.csm.cat/category/batxillerat/', 'https://www.csm.cat/category/reconeixement/', 'https://www.csm.cat/6e-de-primaria-premi-b-en-les-prova-cangur/', 'https://www.csm.cat/author/lvinals/', 'https://www.csm.cat/6e-de-primaria-premi-b-en-les-prova-cangur/', 'https://www.csm.cat/author/lvinals/', 'https://www.csm.cat/category/reconeixement/', 'https://www.csm.cat/page/2/', 'https://www.csm.cat/page/2/', 'https://www.csm.cat/on-som/', 'https://www.csm.cat/?page_id=777', 'https://www.csm.cat/?page_id=4794']\n"
     ]
    }
   ],
   "source": [
    "# Print\n",
    "print(sub_links_filtered)   "
   ]
  },
  {
   "cell_type": "code",
   "execution_count": 76,
   "metadata": {},
   "outputs": [],
   "source": [
    "def save_content(link_list):\n",
    "    for i, link in enumerate(link_list):\n",
    "        html_data = get_data(link)\n",
    "        soup = BeautifulSoup(html_data, \"html.parser\")\n",
    "        text = soup.get_text()\n",
    "\n",
    "       # Remove empty lines and empty double lines\n",
    "        text = re.sub(r\"\\n\\s*\\n\", \"\\n\", text)\n",
    "\n",
    "        # Remove the last 16 lines\n",
    "        text = \"\\n\".join(text.split(\"\\n\")[:-16])\n",
    "\n",
    "        # Get the first 3 words in the cleaned text\n",
    "        words = text.split()[:3]\n",
    "        file_name_prefix = \"_\".join(words)\n",
    "\n",
    "        # Replace special characters and spaces with an underscore\n",
    "        file_name_prefix = re.sub(r\"[^a-zA-Z0-9]+\", \"_\", file_name_prefix)\n",
    "\n",
    "        # Get the current working directory\n",
    "        current_dir = os.getcwd()\n",
    "\n",
    "        # Move up one level to the parent directory\n",
    "        parent_dir = os.path.dirname(current_dir)\n",
    "\n",
    "        # Set the path to the data folder\n",
    "        data_folder = os.path.join(parent_dir, \"data/website_content\")\n",
    "\n",
    "        # Create the data folder if it doesn't exist\n",
    "        if not os.path.exists(data_folder):\n",
    "            os.makedirs(data_folder)\n",
    "\n",
    "        # Set the path to the output file\n",
    "        output_file = os.path.join(data_folder, f\"{i}_{file_name_prefix}.txt\")\n",
    "\n",
    "        # Save the cleaned content to the output file\n",
    "        with open(output_file, \"w\") as f:\n",
    "            f.write(text)"
   ]
  },
  {
   "cell_type": "code",
   "execution_count": 77,
   "metadata": {},
   "outputs": [],
   "source": [
    "# Run the function\n",
    "save_content(sub_links_filtered)"
   ]
  },
  {
   "cell_type": "code",
   "execution_count": null,
   "metadata": {},
   "outputs": [],
   "source": []
  }
 ],
 "metadata": {
  "kernelspec": {
   "display_name": "base",
   "language": "python",
   "name": "python3"
  },
  "language_info": {
   "codemirror_mode": {
    "name": "ipython",
    "version": 3
   },
   "file_extension": ".py",
   "mimetype": "text/x-python",
   "name": "python",
   "nbconvert_exporter": "python",
   "pygments_lexer": "ipython3",
   "version": "3.10.9"
  },
  "orig_nbformat": 4
 },
 "nbformat": 4,
 "nbformat_minor": 2
}
