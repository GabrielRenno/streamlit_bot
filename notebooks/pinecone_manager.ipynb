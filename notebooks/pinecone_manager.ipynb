{
 "cells": [
  {
   "cell_type": "markdown",
   "source": [
    "# Pinecone Manager"
   ],
   "metadata": {
    "collapsed": false
   },
   "id": "a11fa2464d1343c5"
  },
  {
   "cell_type": "markdown",
   "source": [
    "## Uploading and Querying Documents"
   ],
   "metadata": {
    "collapsed": false
   },
   "id": "e13292bb5c6946a"
  },
  {
   "cell_type": "code",
   "execution_count": 1,
   "id": "initial_id",
   "metadata": {
    "collapsed": true,
    "ExecuteTime": {
     "end_time": "2023-10-29T15:22:10.613455Z",
     "start_time": "2023-10-29T15:22:06.622108Z"
    }
   },
   "outputs": [
    {
     "name": "stderr",
     "output_type": "stream",
     "text": [
      "/Users/nilsjennissen/CompanyProjects/streamlit_bot/venv/lib/python3.9/site-packages/urllib3/__init__.py:34: NotOpenSSLWarning: urllib3 v2.0 only supports OpenSSL 1.1.1+, currently the 'ssl' module is compiled with 'LibreSSL 2.8.3'. See: https://github.com/urllib3/urllib3/issues/3020\n",
      "  warnings.warn(\n",
      "/Users/nilsjennissen/CompanyProjects/streamlit_bot/venv/lib/python3.9/site-packages/pinecone/index.py:4: TqdmExperimentalWarning: Using `tqdm.autonotebook.tqdm` in notebook mode. Use `tqdm.tqdm` instead to force console mode (e.g. in jupyter console)\n",
      "  from tqdm.autonotebook import tqdm\n"
     ]
    }
   ],
   "source": [
    "from langchain.document_loaders import PyPDFLoader\n",
    "from langchain.text_splitter import RecursiveCharacterTextSplitter\n",
    "from langchain.callbacks.manager import CallbackManager\n",
    "from langchain.llms import Ollama\n",
    "from langchain.callbacks.manager import CallbackManager\n",
    "from langchain.callbacks.streaming_stdout import StreamingStdOutCallbackHandler\n",
    "from langchain.embeddings import OllamaEmbeddings\n",
    "\n",
    "from langchain.vectorstores import Pinecone\n",
    "from langchain.embeddings.openai import OpenAIEmbeddings\n",
    "from langchain.llms import OpenAI\n",
    "from langchain.chains.question_answering import load_qa_chain\n",
    "import pinecone\n",
    "import random\n",
    "import itertools\n",
    "\n",
    "from credentials import OPENAI_API_KEY, PINECONE_API_KEY, PINECONE_API_ENV"
   ]
  },
  {
   "cell_type": "code",
   "execution_count": 2,
   "outputs": [],
   "source": [
    "prompt = \"What is the name of the school?\""
   ],
   "metadata": {
    "collapsed": false,
    "ExecuteTime": {
     "end_time": "2023-10-29T15:22:12.336877Z",
     "start_time": "2023-10-29T15:22:12.328335Z"
    }
   },
   "id": "f324d84cb56b2437"
  },
  {
   "cell_type": "code",
   "execution_count": 3,
   "outputs": [
    {
     "data": {
      "text/plain": "[Document(page_content=\"TÍTOL\\nVI\\n–\\nNOF\\nDIGIT AL\\nde\\nla\\n(EDC)\\n1.\\nIntroducció\\n..........................................................................................................................\\n1\\n2.\\nÚs\\ndels\\ndispositius:\\nordinadors,\\nmòbils\\ni\\ntauletes\\n.........................................................\\n1\\n2.1.\\nDispositius\\nde\\nl’alumnat\\n...............................................................................................\\n2\\n2.1.1.\\nChromebooks\\na\\nl’ESO\\n........................................................................................\\n2\\n2.1.2.\\nDispositius\\nal\\nBatxillerat\\n(Chromebooks,\\nportàtils\\no\\ntauletes).\\n...........................\\n5\\n2.1.3.\\nMòbils\\n.................................................................................................................\\n5\\n2.2.\\nDispositius\\npropietat\\ndel\\nCol·legi\\n.................................................................................\\n6\\n3.\\nComptes\\ncorporatius\\n.........................................................................................................\\n7\\n3.1.\\nComptes\\nper\\na\\nl’alumnat.\\n............................................................................................\\n7\\n3.2.\\nComptes\\nper\\nal\\nprofessorat\\ni\\npels\\nmembres\\ndel\\nPAS\\n..................................................\\n8\\n4.\\nPlataforma\\nde\\ngestió\\ni\\nserveis\\ndigitals\\n.............................................................................\\n8\\n4.1\\nClickedu\\n........................................................................................................................\\n8\\n4.2\\nMoodle\\n........................................................................................................................\\n11\\n4.3.\\nClassroom\\n.................................................................................................................\\n12\\n4.4.\\nOffice\\n365\\n..................................................................................................................\\n12\\n5.\\nAccés\\na\\nInternet\\ni\\na\\nles\\nxarxes\\nsocials\\n...........................................................................\\n12\\n1.\\nIntroducció\\nL'estratègia\\ndigital\\nde\\ncentre\\n(EDC)\\ndefineix\\ni\\nconcreta\\nles\\nlínies\\nd'actuació\\nd'un\\ncentre\\nque\\nfan\\npossible\\nque\\ndocents,\\nalumnat\\ni\\ncentre\\nassoleixin\\nla\\ncompetència\\ndigital.\\nPer\\naconseguir\\naquesta\\ncompetència\\ndigital,\\nl'EDC\\ncomprèn\\ntots\\nels\\nàmbits\\ndel\\ncentre:\\norganitzatius,\\nmetodològics,\\ncurriculars\\ni\\ncomunicatius,\\nels\\nquals\\ns'han\\nde\\nveure\\nnecessàriament\\nimplicats\\ni,\\nsi\\nescau,\\ntransformats,\\ndes\\nd’una\\nperspectiva\\nd'innovació\\ni\\nde\\nmillora\\ncontínua.\\nAquesta\\nnormativa\\nes\\npodrà\\nrevisar\\nal\\nprincipi\\nde\\ncada\\ncurs\\nescolar.\\n2.\\nÚs\\ndels\\ndispositius:\\nordinadors,\\nmòbils\\ni\\ntauletes\\nEn\\naquest\\napartat\\nes\\ndefiniran\\nles\\nnormes\\ni\\nprotocols\\nestablertes\\nper\\na\\nl’ús\\ndels\\ndispositius\\ndigitals\\nde\\ntots\\nels\\nmembres\\nde\\nla\\ncomunitat\\neducativa:\\nalumnat,\\nprofessorat\\ni\\npersonal\\ndel\\ncentre\\ni\\nles\\nfamílies.\\n\", metadata={'source': '../docs/NOF_digital.pdf', 'page': 0}),\n Document(page_content='2.1.\\nDispositius\\nde\\nl’alumnat\\nEs\\nfa\\nreferència\\na\\ntots\\nels\\ndispositius\\nque\\nsón\\npropietat\\nde\\nl’alumnat\\ni\\nque\\nes\\ntroben\\ndins\\nde\\nles\\ninstal·lacions\\ndel\\ncentre\\na\\nqualsevol\\nactivitat\\neducativa\\nen\\nl’horari\\nescolar.\\n2.1.1.\\nChromebooks\\na\\nl’ESO\\nA\\nl’etapa\\nde\\nl’ESO\\nels\\nalumnes\\ndisposen\\nd’un\\nordinador\\ntipus\\nChromebook\\nque\\ncompren\\nles\\nfamílies\\na\\n1r\\nd’ESO,\\no\\nen\\nel\\ncurs\\nque\\ns’incorporen\\nal\\ncentre,\\ni\\nel\\nfan\\nservir\\nfins\\na\\nfinalitzar\\nl’ESO.\\nLliurament\\ni\\ninformació\\na\\nles\\nfamílies\\nA\\nprincipis\\nde\\nsetembre,\\ndins\\nla\\nreunió\\ninicial\\nde\\nfamílies,\\nes\\npresenta\\nla\\nnormativa\\nd’ús\\ni\\nes\\nlliura\\nel\\ndispositiu\\nque\\nha\\nadquirit\\ncada\\nfamília.\\nEn\\naquesta\\nreunió\\nes\\nfarà\\nl’obertura\\ndels\\nequips\\ninformàtics\\nper\\npart\\nde\\nles\\nfamílies\\nassistents.\\nEls\\nequips\\nde\\nles\\nfamílies\\nque\\nno\\npuguin\\nassistir\\na\\nla\\nreunió\\nseran\\noberts\\nper\\nals\\nmembres\\ndel\\nSAT\\ndel\\nCol·legi,\\nabans\\nde\\nl’inici\\nde\\nles\\nclasses.\\nLes\\nfamílies\\npodran\\nestablir\\nsi\\nel\\ndispositiu\\nes\\nqueda\\ncada\\ntarda\\nal\\nCol·legi\\no\\nsi\\nl’alumnat\\nse\\nl’emporta\\na\\ncasa\\nseva.\\nEn\\naquest\\ncas,\\nels\\nrequisits\\no\\ncondicions\\nper\\nretirar\\nel\\nchromebook\\nseran\\nels\\nsegüents:\\n●\\nEl\\ndispositiu\\namb\\nel\\ncarregador\\ncorresponent\\nes\\npodrà\\nretirar\\namb\\nla\\nsignatura\\nd’una\\ncarta\\nde\\ncompromís\\nper\\npart\\ndel\\npare\\no\\nde\\nla\\nmare\\nresponsable.\\nAquesta\\nretirada\\nserà\\nefectiva\\nper\\na\\nla\\nresta\\nde\\ncurs.\\nNo\\nes\\npodrà\\nretirar\\nde\\nforma\\npuntual.\\n●\\nL’alumne/a\\nhaurà\\nde\\nportar\\nal\\nCol·legi\\ndiàriament\\nel\\ndispositiu\\ntotalment\\ncarregat\\nper\\nevitar\\npossibles\\ndistorsions\\nen\\nel\\nfuncionament\\nde\\nla\\nclasse\\ni\\nse\\nl’haurà\\nd’emportar\\na\\ncasa\\ncada\\ndia.\\nEl\\ncarregador\\nes\\nquedarà\\na\\ncasa\\ni\\nels\\ndispositius,\\nen\\ncap\\ncas,\\nno\\nes\\npodran\\ncarregar\\nen\\nel\\nCol·legi.\\n●\\nLa\\nfamília\\nes\\nresponsabilitza\\ndel\\ndispositiu\\ndavant\\nde\\npossibles\\nrobatoris\\ni\\ndesperfectes\\nper\\nvandalisme\\no\\nús\\nindegut,\\nno\\ninclosos\\nen\\nl’assegurança\\nque\\ntenen\\ncontractada.\\nEn\\naquests\\ncasos,\\nel\\ncost\\nserà\\nassumit\\nper\\nla\\nfamília\\nde\\nl’alumne/a.\\nSi\\ns’ha\\nde\\ncomprar\\nun\\nnou\\ndispositiu,\\nes\\nfarà\\nmitjançant\\nel\\ncol·legi\\nper\\ngarantir\\nla\\ngestió\\npedagògica\\nde\\nl’eina\\ni\\nevitar\\nincidències\\nen\\nel\\nfuncionament\\nde\\nles\\nclasses.\\n2', metadata={'source': '../docs/NOF_digital.pdf', 'page': 1}),\n Document(page_content='●\\nEn\\nel\\ncas\\nde\\ntenir\\nuna\\navaria\\nen\\nel\\ndispositiu\\nfora\\nde\\nl’horari\\nescolar,\\npodran\\ntramitar\\nla\\nincidència\\ndirectament\\ndes\\nde\\ncasa\\namb\\nel\\nservei\\ntècnic\\no\\nesperar\\nal\\nsegüent\\ndia\\nlectiu\\ni\\nportar-lo\\nal\\nCol·legi\\nper\\nfer\\nles\\ngestions\\npertinents\\ndes\\ndel\\ncentre.\\nEl\\ndispositiu\\ncontinuarà\\nsent\\nadministrat\\nal\\nllarg\\ndel\\ncurs\\ndes\\nde\\nla\\nconsola\\ndel\\nnostre\\nentorn\\neducatiu\\nper\\ngarantir\\nel\\nbon\\nús\\nde\\nl’eina\\ndes\\ndel\\npunt\\nde\\nvista\\npedagògic.\\nA\\nfinal\\nde\\ncurs,\\nper\\na\\nles\\nvacances\\nd’estiu,\\nles\\nfamílies\\npodran\\ntriar\\nsi\\nvolen\\nemportar-se\\nel\\nchromebook,\\ni\\ns’alliberarà\\nel\\ndispositiu\\nfins\\na\\nl’inici\\ndel\\ncurs\\nsegüent.\\nEn\\nel\\ncas\\ndels\\nalumnes\\nque\\nacabin\\n4t\\nd’ESO\\no\\nque\\nsiguin\\nbaixa\\ndel\\nCol·legi,\\ns’alliberarà\\nel\\nchromebook\\nde\\nforma\\ndefinitiva.\\nNormativa\\nd’ús\\ni\\naspectes\\npràctics\\nLa\\nnormativa\\nper\\na\\nl’ús\\ndels\\ndispositius\\nestà\\nestablerta\\nper\\nla\\ncomissió\\ndigital\\ni\\npresentada\\na\\ntot\\nel\\nclaustre\\nde\\nl’ESO.\\nEstarà\\ntambé\\npublicada\\nal\\nweb\\nde\\nl’EDC\\ndel\\ncentre.\\nAlguns\\ndels\\npunts\\na\\ndestacar\\nsón:\\n●\\nEl\\nprofessorat\\nde\\nl’escola\\npot\\ninhabilitar\\nles\\naplicacions\\ni\\neines\\ndel\\ndispositiu\\nque\\nconsideri\\ninnecessàries\\nper\\nal\\ndesenvolupament\\nde\\nla\\ntasca\\neducativa.\\nNo\\nestà\\npermesa\\nla\\ninstal·lació\\nde\\njocs\\nni\\nxarxes\\nsocials\\nni\\nel\\nseu\\nús\\nsi\\nno\\nha\\nestat\\nautoritzat\\nper\\nun\\ndocent\\no\\nper\\nla\\ncomissió\\ndigital.\\n●\\nNo\\ns’hi\\npot\\ninstal·lar\\nprogramari\\nno\\nautoritzat\\npel\\ncentre\\neducatiu,\\nni\\naccedir\\na\\nentorns\\no\\nxarxes\\nsocials\\nque\\npuguin\\nrepresentar\\nun\\nrisc\\nper\\na\\nles\\ndades\\ncontingudes.\\n●\\nEstà\\nprohibit\\nmanipular\\nles\\npeces\\no\\naccessoris\\nfísics\\ndel\\ndispositiu.\\n●\\nEn\\ncap\\ncas\\nes\\npot\\nretirar\\ncap\\ndels\\netiquetatges\\nidentificatius\\ndels\\ndispositius.\\n●\\nL’alumnat\\npodrà\\nportar\\nuns\\nauriculars\\ni\\nun\\nratolí\\nper\\na\\nconnectar\\nal\\nseu\\ndispositiu,\\nperò\\nsi\\nes\\nfan\\nmalbé\\no\\nes\\nperden\\nserà\\nresponsabilitat\\nseva.\\n●\\nSobre\\nl’horari\\nde\\nrecollida\\nde\\ndispositius,\\na\\ncada\\ncarro\\nquedarà\\nconstància\\nde\\nla/les\\npersones\\nque\\nhaurien\\nde\\nrecollir-los\\n(per\\nexemple,\\ndes\\nde\\ntecnologia,\\naula\\nde\\nplàstica…).\\n●\\nAl\\nNadal\\nno\\ns’alliberarà\\ndel\\ndomini.\\nA\\nl’estiu,\\nsí,\\ns’establirà\\nun\\ndia\\nconcret\\n(l’anterior\\na\\nacabar\\nel\\ntrimestre\\ncorresponent)\\non\\nes\\nlliurarà\\nel\\ndispositiu\\na\\nl’alumnat\\nprèvia\\nautorització\\nsignada.\\nLa\\nfamília\\npodrà\\ndeixar-lo\\nal\\nCol·legi\\nsi\\nho\\ndesitja\\ni\\nho\\ncomunica.\\nAquest\\ndia\\nes\\ncomunicarà\\nper\\nendavant\\na\\nles\\nfamílies\\nperquè\\nes\\npuguin\\norganitzar.\\n●\\nL’ús\\nindegut\\ndel\\npropi\\nordinador,\\ni\\nper\\ndescomptat,\\nla\\nmanipulació\\ndels\\nordinadors\\ndels\\naltres\\ncompanys,\\ncomportarà\\nuna\\nfalta\\ngreu.\\nL’ha\\nd’utilitzar\\nl’alumne/a\\nque\\nn’és\\n3', metadata={'source': '../docs/NOF_digital.pdf', 'page': 2}),\n Document(page_content='usuari/ària\\ni\\nha\\nd’estar\\ndisponible\\nquan\\ndes\\ndel\\ncentre\\neducatiu\\nse’n\\nrequereix\\nla\\nutilització.\\nS’utilitzaran\\nnomés\\nquan\\nel\\nprofessorat\\nho\\nautoritzi.\\nEs\\npodrà\\nsortir\\nde\\nl’aula\\namb\\nl’ordinador\\nen\\naquelles\\nocasions\\nque\\nindiqui\\nel\\nprofessorat.\\nAl\\nfinal\\nde\\nla\\njornada,\\ncada\\nalumne\\nque\\nno\\ns’endugui\\nel\\ndispositiu\\nel\\ndesarà\\na\\nl’armari\\ncorresponent.\\nL’alumne/a\\nés\\nl’únic\\nresponsable\\ndels\\nfitxers\\nque\\nté\\na\\nl’ordinador.\\nNomés\\npodrà\\nconnectar-se\\na\\naquelles\\nwebs\\nque\\nel\\no\\nla\\nmestra\\nindiqui.\\nEn\\nel\\ncas\\nde\\nla\\ncessió\\nd’un\\ndispositiu\\ns’adjuntarà\\nun\\ndocument\\non\\nqueden\\nrecollides\\nles\\nnormes\\nd’ús\\nen\\nla\\ncessió\\ndels\\ndispositius.\\nLa\\nsignatura\\nd’aquest\\ndocument,\\nimplicarà\\nque\\nla\\npersona\\nsignant\\ndeclara\\nhaver\\nllegit\\ni\\nentès\\nles\\ncondicions\\nd’ús\\ndel\\ndispositiu\\nlliurat.\\nQualsevol\\nactuació\\ncontrària\\na\\nl’establerta\\nen\\naquestes\\nnormes\\nes\\nconsiderarà\\nfalta.\\nGestió\\nde\\nles\\nincidències\\nJuntament\\namb\\nel\\nchromebook\\nles\\nfamílies\\nadquireixen\\nun\\nservei\\nde\\ngarantia.\\nÉs\\nresponsabilitat\\nde\\nl’escola\\nla\\ngestió\\ndel\\nmanteniment\\ni\\nla\\ntramitació\\nde\\nles\\nreparacions\\nde\\nl’ordinador\\nen\\ncas\\nque\\naquest\\nno\\nfuncioni\\ncorrectament,\\nsempre\\ni\\nquan\\nl’alumne\\nno\\nn’hagi\\nfet\\nun\\nmal\\nús.\\nEn\\naquest\\ncas,\\nel\\ncost\\nde\\nla\\nreparació\\nanirà\\na\\ncàrrec\\nde\\nla\\nfamília.\\nS’establirà\\nun\\nhorari\\nper\\nl’atenció\\na\\nl’alumnat\\nque\\ntingui\\nalguna\\nincidència\\namb\\nel\\nseu\\nchromebook.\\nL’alumne/a\\nportarà\\nels\\ndispositiu\\na\\nmaterial\\ni\\nel\\npersonal\\ndel\\nSAT\\nrebrà\\nl’aparell,\\nvalorarà\\nla\\nreparació\\ni\\nla\\nnotificarà\\nal\\nServei\\ntècnic\\ncorresponent.\\nEs\\ncrearà\\nun\\nticket\\nde\\nseguiment\\namb\\nl’identificador\\nde\\nl’equip\\ni\\nla\\nincidència\\nper\\nal\\nseguiment.\\nSi\\ncal\\nes\\nmantindrà\\ninformada\\na\\nles\\nfamílies\\namb\\nla\\nincidència\\nproduïda.\\nSi\\nla\\nincidència\\nafecta\\nal\\nfuncionament\\nde\\nl’equip,\\nper\\nexemple\\nel\\ntrencament\\nde\\nla\\npantalla,\\nel\\ncol·legi\\nposarà\\na\\ndisposició\\ndel\\nl’alumnat\\nun\\ndispositiu\\nde\\nsubstitució\\nfins\\nque\\nel\\nchromebook\\nestigui\\nreparat.\\nEl\\ncoordinador\\ndigital\\ndecidirà\\nla\\nprioritat\\nen\\nels\\nequips\\nde\\nsubstitució.\\nNormes\\nde\\nconvivència.\\n4', metadata={'source': '../docs/NOF_digital.pdf', 'page': 3}),\n Document(page_content=\"A\\ncontinuació\\nes\\ntroben\\nles\\nesmenes\\nintroduïdes\\nen\\nles\\nfaltes\\nde\\nles\\nnormes\\nde\\nconvivència\\nde\\nl’ESO\\nrelacionades\\namb\\nel\\nprojecte\\nChromebook.\\nFalta\\nlleu:\\n7\\n.\\nEl\\ntrencament\\naccidental\\ndel\\nChromebook\\nd’un\\naltre\\ncompany\\no\\ndel\\ncol·legi.\\nFalta\\ngreu:\\n3\\n.\\nLa\\nsuplantació\\nde\\npersonalitat\\n(falsificació\\nde\\nsignatures,\\nusurpació\\nde\\nla\\nidentitat\\ndigital...),\\nen\\nactes\\nde\\nla\\nvida\\ndocent\\ni\\nla\\nduplicació,\\nfalsificació\\no\\nsostracció\\nde\\ndocuments\\ni\\nmaterial\\nacadèmic,\\naixí\\ncom\\napropiar-se\\nde\\nmaterial\\ni\\nobjectes\\naliens.\\n8\\n.\\nL’ús\\nno\\nautoritzat\\nd’un\\nChromebook\\nd’un\\naltre\\nalumne,\\nel\\nfurt\\no\\nel\\ntrencament\\nvoluntari\\nde\\nqualsevol\\ndispositiu.\\n2.1.2.\\nDispositius\\nal\\nBatxillerat\\n(Chromebooks,\\nportàtils\\no\\ntauletes).\\nL’alumnat\\ndel\\nBatxillerat\\npodrà\\nportar\\nels\\nseus\\ndispositius\\nper\\nal\\nseguiment\\nde\\nles\\nclasses.\\nSerà\\nel\\nprofessor\\nde\\ncada\\nmatèria\\nqui\\nregularà\\nsi\\npoden\\nfer\\nservir\\no\\nno\\nels\\ndispositius.\\nEl\\ncol·legi\\nfacilitarà\\nla\\nconnexió\\nwifi\\nper\\naccedir\\na\\ninternet.\\nEls\\nalumnes\\nsón\\nels\\nresponsables\\nde\\nportar\\ncarregats\\nels\\ndispositius,\\nno\\nes\\ndisposarà\\na\\nles\\naules\\nd’endolls\\nper\\na\\nla\\nrecàrrega\\nde\\nbateries.\\n2.1.3.\\nMòbils\\nAquesta\\nnormativa\\nafecta\\na\\ntotes\\nles\\netapes,\\ndins\\nde\\nl’horari\\nlectiu\\ni\\ndel\\nrecinte\\nescolar.\\nEl\\nque\\nes\\nrecomana\\nés\\nno\\nportar\\naquests\\naparells\\nelectrònics\\nal\\ncentre.\\nEn\\ntot\\ncas,\\nel\\ncentre\\nno\\nes\\nfa\\nresponsable\\nde\\nla\\npèrdua,\\nrobatori\\no\\ndeteriorament\\nintencionat\\nd'aquests\\naparells;\\nla\\nresponsabilitat\\nés\\nde\\nl'alumne\\npropietari\\ni\\nde\\nla\\nfamília\\nque\\ndona\\nel\\npermís\\nper\\nportar-lo.\\nQueda\\nprohibit\\nfer\\nús\\ndel\\nmòbil\\ndins\\nde\\nl'aula\\ni\\ndins\\nles\\ninstal·lacions\\ndel\\ncentre,\\nexcepte\\nquan\\nel\\nprofessor\\nho\\nsol·liciti.\\nEls\\nalumnes\\nque\\nen\\nportin\\nl'hauran\\nd'apagar\\nabans\\nd'entrar-hi.\\nL'ús\\nd'aquests\\naparells\\ndins\\ndel\\ncentre\\nes\\nconsiderarà\\nfalta\\ngreu\\ni\\nes\\ncustodiarà\\ndes\\nde\\nl’entrada\\nfins\\na\\nla\\nsortida\\nde\\nl’escola\\nde\\nl’alumne.\\nA\\nles\\naules:\\nús\\ncondicionat.\\nEl\\ndispositiu\\nes\\npodrà\\nfer\\nservir\\namb\\nautorització\\ndel\\nprofessorat\\ni\\nsota\\nla\\nseva\\nsupervisió.\\nEn\\nqualsevol\\ncas,\\nen\\naplicació\\nde\\nla\\nllei\\nque\\nregula\\nel\\ndret\\na\\nla\\npròpia\\nimatge\\nestà\\nprohibit\\nterminantment\\n5\", metadata={'source': '../docs/NOF_digital.pdf', 'page': 4}),\n Document(page_content=\"enregistrar\\nla\\nimatge\\ni/o\\nveu\\nsense\\nautorització\\nescrita\\nde\\ncap\\npersona\\ndel\\ncentre\\nper\\ncap\\nmitjà\\nde\\ncaptació\\nd'imatge\\nja\\nque\\nconstitueix\\nun\\ndelicte\\ntipificat\\nal\\ncodi\\npenal.\\n2.2.\\nDispositius\\npropietat\\ndel\\nCol·legi\\nEls\\ndispositius\\nde\\nles\\naules,\\nde\\nles\\nsales\\nde\\nprofessors\\ni\\ndels\\nespais\\nde\\ntreball\\nsón\\npropietat\\ndel\\ncol·legi.\\nEl/la\\ndocent\\nes\\nfa\\nresponsable\\nde\\nfer\\nun\\nús\\nprofessional\\nal\\nllarg\\nde\\ntot\\nel\\ncurs\\nescolar.\\nUn\\ncop\\na\\nl’any\\nes\\nfarà\\nneteja\\nde\\nles\\ndades\\nemmagatzemades\\nen\\nels\\nordinadors.\\nEls\\nalumnes\\nnomés\\npodran\\nfer\\nservir\\nels\\ndispositius\\nde\\nles\\naules\\namb\\nel\\npermís\\nd’un\\ndocent\\ni\\nsota\\nla\\nseva\\nsupervisió,\\nassumint\\ntota\\nresponsabilitat\\nel\\ndocent.\\nEls\\nequips\\ntindran\\nun\\ncontrol\\nd’accés,\\namb\\nun\\ncompte\\nprotegit\\nper\\ncontrasenya\\nsegura,\\nque\\nels\\nfacilitarà\\nel\\ncoordinador\\ndigital.\\nCada\\nprofessor\\no\\nmembre\\ndel\\nPAS\\ndisposa\\nd’un\\ncompte\\nd’usuari\\npersonal\\ndel\\ndomini\\nde\\nla\\nxarxa\\ndel\\nCol·legi\\nque\\nli\\nproporciona\\naccés\\nals\\nequips\\ndel\\ncentre\\ni\\na\\nla\\nconnexió\\nwifi\\ni\\na\\nles\\nimpressores\\nde\\nla\\nxarxa.\\nEls\\nordinadors\\nde\\nles\\naules\\nd’informàtica,\\nbiblioteca,\\naula\\nde\\nprojectes\\ni\\nespais\\nde\\ntreball\\nper\\nals\\nalumnes,\\ntambé\\ntindran\\nun\\ncontrol\\nd’accés\\namb\\nun\\nusuari\\ngenèric\\nper\\ngrup/classe\\no\\namb\\nel\\ncompte\\ncorporatiu\\nde\\nGoogle.\\nL’alumnat\\nd’infantil\\ni\\ncicle\\ninicial\\nde\\nprimària\\ndisposarà\\nd’iPads\\nper\\nal\\ntreball\\namb\\naplicacions\\neducatives.\\nLa\\ngestió\\nde\\nla\\nconfiguració\\ni\\nde\\nles\\naplicacions\\nserà\\ngestionada\\nen\\nun\\nentorn\\n(MDM)\\ni\\nel\\nresponsable\\nés\\nla\\ncomissió\\ndigital.\\nAl\\ncicle\\nmitjà\\ni\\ncicle\\nsuperior\\nde\\nprimària\\nl’alumnat\\ntindran\\na\\nla\\nseva\\ndisposició\\nchromebooks\\ncompartits\\nd’aula,\\norganitzats\\nen\\nun\\ncarro\\nde\\ncàrrega.\\nS’hauran\\nde\\nreservar\\nen\\nun\\ncalendari\\ncompartit.\\nEls\\nalumnes\\naccediran\\namb\\nl’usuari\\nde\\nGoogle.\\nEls\\nresponsables\\nde\\nla\\ngestió\\ni\\ndistribució\\ndels\\ndispositius\\nals\\nalumnes\\nseran\\nels\\nmestres\\nde\\ncada\\nclasse\\nque\\nha\\nreservat\\nel\\ncarro.\\nEn\\ncas\\nde\\nqualsevol\\nincidència\\ns’ha\\nde\\ncomunicar\\nal\\npersonal\\ndel\\nSAT\\nfent\\nservir\\nel\\ncompte\\nsat@pas.csm.cat\\n6\", metadata={'source': '../docs/NOF_digital.pdf', 'page': 5}),\n Document(page_content='3.\\nComptes\\ncorporatius\\n3.1.\\nComptes\\nper\\na\\nl’alumnat.\\nEs\\ncrearan\\ncomptes\\nper\\na\\nl’alumnat\\n(de\\n4t\\nde\\nprimària\\na\\nBatxillerat).\\nS’informarà\\nles\\nfamílies\\nque\\nno\\nsón\\ncomptes\\nprivats,\\nsinó\\nque\\nsón\\nadministrats\\nper\\nl’escola.\\nEls\\ncomptes\\ntindran\\nel\\nformat\\nnom.cognom1.cognom2@alumnes.csm.cat\\n.\\nEl\\ncompte\\ns’utilitzarà\\nper\\na\\nles\\nactivitats\\ni\\ncomunicacions\\nrelacionades\\namb\\nel\\ncentre.\\nL’administrador\\nde\\nla\\nconsola\\nserà\\nel\\ncoordinador\\ndigita,\\ni\\naquest\\nfacilitarà\\nles\\ncontrasenyes\\nque\\nl’alumnat\\npodrà\\ncanviar.\\nEls\\nalumnes\\ni\\nles\\nfamílies\\nseran\\ninformats\\nde\\nque\\nno\\nsón\\ncomptes\\nprivats,\\nsón\\ncomptes\\neducatius\\nde\\nGoogle\\ni\\nestaran\\nadministrats\\nper\\nl’escola.\\nEs\\ntreballarà\\namb\\nels\\nnous\\nusuaris\\nque:\\n●\\nAquest\\ncompte\\nés\\nindividual\\ni\\nintransferible\\ni\\nnomés\\nes\\npot\\nusar\\nper\\nfinalitats\\neducatives.\\nNomés\\nes\\npot\\ninteractuar\\namb\\naltres\\nusuaris\\ndel\\nmateix\\ndomini\\ni\\nles\\nexcepcions\\nque\\nhagin\\nestat\\naprovades\\npels\\nadministradors/es.\\n●\\nCal\\nuna\\nconducta\\ncorrecta\\nen\\nl’ús\\nde\\nles\\naplicacions\\nassociades\\nal\\ncompte.\\n●\\nCada\\nusuari\\nés\\nresponsable\\ndel\\nseu\\ncompte,\\ni\\ncal\\nque\\nvetlli\\nper\\nmantenir\\nel\\nsecret\\nde\\nla\\nseva\\ncontrasenya\\ni\\nper\\nsortir\\ndel\\nseu\\nperfil\\nuna\\nvegada\\nacabada\\nla\\nsessió.\\nEs\\nrecomanarà\\nals\\nalumnes\\nde\\nprimària\\nque\\nfacin\\nsaber\\nla\\nseva\\ncontrasenya\\nals\\nseus\\nresponsables\\n(mare\\n/\\npare).\\n●\\nQualsevol\\nincidència\\namb\\nels\\ncomptes\\no\\namb\\nel\\nseu\\nús,\\ns’haurà\\nde\\ncomunicar\\nal\\ncoordinador\\ndigital\\no\\nals\\nmembres\\nde\\nla\\ncomissió\\ndigital,\\ntan\\naviat\\ncom\\nsigui\\npossible.\\n●\\nEs\\nfacilitarà\\ninformació\\ni\\nconsells\\na\\nles\\nfamílies\\nsobre\\nl’ús\\nd’e-mail\\ni\\nxarxes\\nsocials,\\namb\\nl’objectiu\\nque\\najudin\\ni\\nvetllin\\nper\\nl’ús\\nque\\nen\\nfan\\nels\\nseus\\nfills.\\n●\\nAl\\nllarg\\ndel\\ncurs\\ns’oferiran\\nformacions,\\nadreçades\\na\\nl’alumnat\\nsobre\\nresponsabilitat\\ni\\nprivacitat\\na\\nla\\nxarxa.\\n●\\nAl\\nfinalitzar\\ncada\\ncurs\\nescolar\\nno\\nes\\ntancaran\\nles\\nsessions.\\nEl\\ncompte\\ns’assigna\\na\\npartir\\nde\\n4t\\nd’EP\\ni\\nel\\nmantenen\\nfins\\na\\nfinalitzar\\nels\\nseus\\nestudis\\nal\\nnostre\\ncentre.\\nEls\\ncomptes\\ns’eliminaran\\nal\\ncap\\nde\\n5\\ndies\\nd’haver\\ndeixat\\nel\\ncentre,\\nprevi\\navís.\\n●\\nLes\\nfamílies\\nhan\\nde\\nvetllar\\nperquè\\nels\\nseus\\nfills\\ni\\nfilles\\nfacin\\nun\\nbon\\nús\\ndel\\ncompte,\\nquan\\nestiguin\\nfora\\nde\\nl’horari\\nescolar.\\n●\\nLes\\nfamílies\\nno\\npoden\\nusar\\nel\\ncompte\\ndels\\nseus\\nfills\\ni\\nfilles.\\nQualsevol\\nincidència\\nocorreguda\\ns’haurà\\nde\\ncomunicar\\nal\\ntutor\\no\\ntutora\\nde\\nl’aula\\ntan\\naviat\\ncom\\nsigui\\npossible.\\n7', metadata={'source': '../docs/NOF_digital.pdf', 'page': 6}),\n Document(page_content=\"3.2.\\nComptes\\nper\\nal\\nprofessorat\\ni\\npels\\nmembres\\ndel\\nPAS\\nCada\\nmestre\\no\\nprofessor,\\ncàrrec\\norganitzatiu,\\ncoordinadors/es\\ndel\\ncentre\\ndisposa\\ntambé\\nd’un\\ncompte\\nde\\ncorreu\\namb\\nel\\nformat\\ninicialnomcognom@profe.csm.cat\\no\\n@pas.csm.cat\\nEs\\ncrearà\\nun\\ncompte\\nper\\na\\ntot\\nel\\nprofessorat\\nassignat\\nal\\ncentre\\ndurant\\nel\\ncurs\\nescolar:\\nAquest\\ncompte\\nés\\nindividual\\ni\\nno\\npot\\nser\\nutilitzat\\nper\\nmés\\nd’un\\ndocent\\nen\\ncap\\ncas.\\nNomés\\nes\\npot\\nusar\\nper\\nfinalitats\\neducatives.\\nCada\\nusuari\\nés\\nresponsable\\ndel\\nseu\\ncompte,\\ni\\ncal\\nque\\nvetlli\\nper\\nmantenir\\nel\\nsecret\\nde\\nla\\nseva\\ncontrasenya\\ni\\nper\\nsortir\\ndel\\nseu\\nperfil\\nuna\\nvegada\\nacabada\\nla\\nsessió.\\nEl\\ncompte\\ns’utilitzarà\\nper\\na\\nles\\nactivitats\\ni\\ncomunicacions\\nrelacionades\\namb\\nel\\ncentre.\\nA\\nser\\npossible,\\nels\\ni\\nles\\nmestres\\nusaran\\nun\\navatar\\ndigital\\npropi\\ncom\\na\\nimatge\\nde\\nperfil\\non\\nse’ls\\nreconegui.\\nDes\\ndel\\ncompte\\ndel\\nprofessorat\\nes\\npodrà\\naccedir\\nal\\nDrive\\ndel\\ncentre.\\nEl\\ncompte\\ncorporatiu\\nha\\nde\\nser\\nl’eina\\nde\\ncomunicació\\npreferencial\\namb\\nels\\nalumnes.\\nCal\\ncomunicar\\nqualsevol\\nincidència\\nde\\nfuncionament\\nal\\ncoordinador\\ndigital.\\n.\\nNo\\nes\\npoden\\nenviar,\\nreenviar\\no\\nrespondre\\nmissatges\\nde\\ncorreu\\no\\ncompartir\\ndocuments\\nque\\ncontinguin\\ndades\\nconfidencials,\\nsense\\nl’autorització\\nconvenient\\ndel\\ncoordinador\\ndigital\\ni,\\nsi\\nescau,\\nla\\nDirecció\\ndel\\ncentre.\\nEls\\ndocents\\nhan\\nde\\nconscienciar\\na\\nl’alumnat\\nen\\nel\\nbon\\nús\\ndel\\ncompte\\ni\\nde\\nles\\naplicacions\\nassociades\\ni\\ninformar\\nl’alumnat\\ndel\\nreglament\\ni\\nde\\nles\\nsancions.\\nEls\\ncomptes\\ns’eliminaran\\nal\\ncap\\nde\\n15\\ndies\\nd’haver\\ndeixat\\nel\\ncentre,\\nprevi\\navís.\\nEs\\nfacilitarà\\ntambé\\nun\\ncompte\\neducatiu\\nde\\nla\\nGeneralitat,\\n@xtec.cat,\\na\\ntots\\nels\\ndocents\\ndel\\ncentre\\ni\\nun\\nusuari\\nGICAR\\nper\\na\\nla\\ngestió\\namb\\naplicacions\\ndel\\nDepartament\\nd’Educació.\\n4.\\nPlataforma\\nde\\ngestió\\ni\\nserveis\\ndigitals\\n4.1\\nClickedu\\nEn\\nel\\nnostre\\ncentre\\nutilitzem\\nClickedu\\ncom\\nel\\nnostre\\nprograma\\nde\\ngestió\\nescolar\\nal\\nservei\\nde\\nla\\ncomunitat\\neducativa.\\nEn\\naquest\\nsentit,\\nés\\nsemblant\\na\\naltres\\nprogrames\\nd'ús\\nhabitual,\\ncom\\nMicrosoft\\nWord,\\nExcel\\no\\nPowerPoint.\\nA\\ndiferència\\nd’aquests,\\nperò,\\nClickedu\\nno\\nprecisa\\ninstal·lació\\na\\nl’ordinador,\\nja\\n8\", metadata={'source': '../docs/NOF_digital.pdf', 'page': 7}),\n Document(page_content=\"que\\nes\\ntroba\\nallotjat\\na\\nun\\nservidor\\non\\ns'emmagatzema\\ntota\\nla\\ninformació\\nrelativa\\nal\\nseu\\nfuncionament.\\nPer\\naccedir\\nal\\nprograma\\nnomés\\ncal\\nun\\nnavegador\\nd’Internet\\ni\\nl'adreça\\nweb\\nque\\nfacilitarà\\nel\\nCol·legi.\\nD’aquesta\\nmanera\\nes\\npot\\nfer\\nservir\\nClickedu\\ndes\\nde\\nqualsevol\\nlloc\\nsense\\nnecessitat\\nd’instal·lar\\nres:\\ndes\\nde\\nla\\nmateixa\\nescola,\\ncasa\\nvostra\\no\\nl’ordinador\\nde\\nla\\nbiblioteca..\\nClickedu\\npermet\\nfer\\ntota\\nuna\\nsèrie\\nde\\ntasques\\nque\\ns’han\\norganitzat\\nen\\ngrans\\napartats\\nanomenats\\nblocs,\\nals\\nquals\\nes\\npot\\naccedir\\na\\ntravés\\nd’unes\\npestanyes\\nsempre\\ndisponibles\\na\\nla\\npart\\nsuperior\\nde\\nla\\npantalla.\\nPoden\\nser\\nels\\nsegüents,\\ndepenent\\ndels\\npermisos\\nque\\nes\\ndisposin:\\n●\\nSumari:\\nEn\\naquest\\nbloc,\\nClickedu\\nresumeix\\nla\\ninformació\\nmés\\nimportant\\nde\\nla\\nresta\\nde\\nblocs.\\n●\\nMatèries:\\nS’hi\\ntroben\\ntasques\\nrelacionades\\namb\\nla\\ngestió\\nacadèmica:\\nles\\nmatèries,\\nels\\nalumnes\\ni\\nles\\nnotes,\\ndades\\nd’assistència,\\nla\\nplanificació\\nde\\nles\\nclasses,\\nles\\navaluacions,\\netc.\\n●\\nContinguts:\\nEs\\nté\\naccés\\ntant\\na\\nrecursos\\nde\\nla\\npròpia\\nescola\\ncom\\nd'altres\\nexterns.\\nTambé\\nes\\npoden\\ngestionar\\nels\\nllibres\\ndigitals.\\n●\\nComunicació:\\nS’hi\\ntroben\\ndiverses\\nmaneres\\nde\\ncomunicar-se\\namb\\nla\\nresta\\nde\\nla\\ncomunitat\\neducativa:\\nenviar\\ncorreus\\nelectrònics,\\nrebre\\nnotícies,\\nveure\\nfotografies\\nrelacionades\\namb\\nels\\nalumnes,\\netc.\\n●\\nCalendari:\\nEs\\npoden\\nfer\\ntasques\\nrelacionades\\namb\\nla\\ngestió\\ndel\\ntemps:\\nassenyalar\\nquan\\nhi\\nha\\nuna\\nreunió,\\nquan\\nhi\\nha\\nun\\nexamen,\\nveure\\nels\\ndies\\nen\\nquè\\nl’escola\\nfa\\nfesta,\\netc.\\n●\\nArxius:\\nAquest\\nbloc\\npermet,\\nentre\\nd'altres\\ncoses,\\ncol·laborar\\nentre\\nprofessors\\nen\\ndocuments\\nd’interès\\nper\\na\\nl’escola,\\namb\\nla\\nfinalitat\\nde\\ndesar-los\\nen\\nun\\nsol\\nlloc\\nen\\nversió\\noficial.\\nAixò\\nrequereix\\nestablir\\nfluxos\\nde\\ntreball\\nperquè\\nels\\ndocuments\\nsiguin\\nrevisats\\nper\\nles\\npersones\\nadequades\\ni\\ndisposar\\nd’un\\nsistema\\nde\\npermisos\\nque\\nreguli\\nla\\ninformació\\nvisible\\nper\\ncada\\npersona.\\n●\\nGestió:\\nAquest\\nbloc\\npermet\\nfer\\nuna\\ngestió\\ninterna\\nde\\nl’escola.\\nInclou\\ndiversos\\nmòduls,\\nentre\\nd'altres:\\n9\", metadata={'source': '../docs/NOF_digital.pdf', 'page': 8}),\n Document(page_content=\"○\\nAvisos\\nde\\nla\\nporteria:\\nEn\\naquesta\\nsecció\\nes\\nregistren\\nels\\navisos\\nde\\ntrucades\\nde\\npares\\nque\\nvolen\\ninformar,\\nper\\nexemple,\\nd'una\\nabsència\\nper\\nmalaltia\\no\\nun\\nretard;\\no\\nsol·licitar\\nuna\\nentrevista\\namb\\nun\\ntutor.\\nTambé\\nes\\nmostren\\nels\\navisos\\ni\\nsol·licituds\\nenviats\\nper\\naltres\\nusuaris\\nde\\nClickedu.\\n○\\nRebuts:\\nPermet\\nl’elaboració\\ni\\nel\\ncontrol\\nde\\nrebuts\\ndes\\nde\\nla\\nmateixa\\nplataforma.\\n○\\nActivitats\\nextraescolars:\\nPermet\\ndonar\\nd'alta\\nactivitats\\nextraescolars,\\npublicar\\nla\\ninformació\\na\\nla\\nplataforma\\nperquè\\nels\\nalumnes\\ns'hi\\ninscriguin\\ni\\nfer-ne\\nla\\ngestió\\n(pagament,\\nmonitoratge,\\nassistència,\\naltes\\ni\\nbaixes,\\netc.).\\n○\\nAcollida:\\nAmb\\nuna\\nestructura\\nsimilar\\na\\nla\\nde\\nles\\nactivitats\\nextraescolars,\\npermet\\ndonar\\naltes\\nal\\nservei\\nd'acollida,\\npublicar-ne\\nles\\ndades\\na\\nClickedu\\ni\\ngestionar-ne\\nel\\nprocés:\\npagament,\\nmonitoratge,\\nparametritzacions,\\nassistència,\\naltes\\ni\\nbaixes,\\netc.\\n○\\nValidar\\nmodificacions:\\nValidació\\nde\\nles\\nmodificacions\\nde\\nles\\ndades\\npersonals\\nque\\nhan\\nfet\\nels\\npares/mares\\ndels\\nalumnes.\\n○\\nMenjador:\\nGestió\\nde\\nmenús,\\npreus\\ni\\nassistència;\\npermet\\nestablir\\nparàmetres,\\npenjar\\nels\\nmenús\\nper\\na\\nles\\nfamílies,\\netc.\\n○\\nIncidències\\ni\\nindicadors:\\nA\\ntravés\\nd’aquest\\nmòdul\\nl’escola\\nagilita\\nla\\nresolució\\nd’incidències\\nque\\nafecten\\nel\\nseu\\ncorrecte\\nfuncionament.\\nAixò\\ns’aconsegueix\\nfacilitant\\nla\\ncomunicació\\nentre\\nles\\npersones\\nque\\ntreballen\\nal\\ncentre\\ni\\nadreçant\\ncada\\nincidència\\nal\\ndestinatari\\ncorresponent,\\nde\\nforma\\nautomàtica.\\n○\\nEnquestes:\\nL’escola\\npot\\ncrear\\nenquestes\\nper\\nrecollir\\nl’opinió\\nde\\nla\\ncomunitat\\neducativa\\nsobre\\nqualsevol\\ntema\\ni\\nprocessar-ne\\nels\\nresultats\\nautomàticament.\\nDes\\nd’aquest\\nmòdul\\nés\\npossible\\ntant\\ndissenyar\\nuna\\nenquesta\\ncom\\nrespondre-la.\\n○\\nReunions\\nde\\npares\\ni\\nmares:\\nDona\\nd’alta\\nles\\nreunions\\ndels\\npares\\ni\\nmares\\nper\\nclasses;\\ntambé\\npermet\\npenjar\\nl'acta\\ni\\nla\\ndocumentació\\nque\\ns’ha\\nentregat\\no\\nes\\nvol\\nlliurar.\\n10\", metadata={'source': '../docs/NOF_digital.pdf', 'page': 9})]"
     },
     "execution_count": 3,
     "metadata": {},
     "output_type": "execute_result"
    }
   ],
   "source": [
    "# Load the PDF data\n",
    "loader = PyPDFLoader(\"../docs/DM_Dir_NOF_CSM_14_set_2023.pdf\")\n",
    "docs = loader.load()\n",
    "docs[:10]"
   ],
   "metadata": {
    "collapsed": false,
    "ExecuteTime": {
     "end_time": "2023-10-29T15:22:29.304025Z",
     "start_time": "2023-10-29T15:22:28.674920Z"
    }
   },
   "id": "229a60f0a088c198"
  },
  {
   "cell_type": "code",
   "execution_count": 4,
   "outputs": [
    {
     "data": {
      "text/plain": "[Document(page_content='TÍTOL\\nVI\\n–\\nNOF\\nDIGIT AL\\nde\\nla\\n(EDC)\\n1.\\nIntroducció\\n..........................................................................................................................\\n1\\n2.\\nÚs\\ndels\\ndispositius:\\nordinadors,\\nmòbils\\ni\\ntauletes\\n.........................................................\\n1\\n2.1.\\nDispositius\\nde\\nl’alumnat\\n...............................................................................................\\n2\\n2.1.1.\\nChromebooks\\na\\nl’ESO\\n........................................................................................\\n2\\n2.1.2.\\nDispositius\\nal\\nBatxillerat\\n(Chromebooks,\\nportàtils\\no\\ntauletes).\\n...........................\\n5\\n2.1.3.\\nMòbils\\n.................................................................................................................\\n5\\n2.2.\\nDispositius\\npropietat\\ndel', metadata={'source': '../docs/NOF_digital.pdf', 'page': 0}),\n Document(page_content='5\\n2.2.\\nDispositius\\npropietat\\ndel\\nCol·legi\\n.................................................................................\\n6\\n3.\\nComptes\\ncorporatius\\n.........................................................................................................\\n7\\n3.1.\\nComptes\\nper\\na\\nl’alumnat.\\n............................................................................................\\n7\\n3.2.\\nComptes\\nper\\nal\\nprofessorat\\ni\\npels\\nmembres\\ndel\\nPAS\\n..................................................\\n8\\n4.\\nPlataforma\\nde\\ngestió\\ni\\nserveis\\ndigitals\\n.............................................................................\\n8\\n4.1\\nClickedu\\n........................................................................................................................\\n8\\n4.2\\nMoodle', metadata={'source': '../docs/NOF_digital.pdf', 'page': 0}),\n Document(page_content=\"8\\n4.2\\nMoodle\\n........................................................................................................................\\n11\\n4.3.\\nClassroom\\n.................................................................................................................\\n12\\n4.4.\\nOffice\\n365\\n..................................................................................................................\\n12\\n5.\\nAccés\\na\\nInternet\\ni\\na\\nles\\nxarxes\\nsocials\\n...........................................................................\\n12\\n1.\\nIntroducció\\nL'estratègia\\ndigital\\nde\\ncentre\\n(EDC)\\ndefineix\\ni\\nconcreta\\nles\\nlínies\\nd'actuació\\nd'un\\ncentre\\nque\\nfan\\npossible\\nque\\ndocents,\\nalumnat\\ni\\ncentre\\nassoleixin\\nla\\ncompetència\\ndigital.\\nPer\\naconseguir\\naquesta\\ncompetència\\ndigital,\\nl'EDC\\ncomprèn\\ntots\\nels\\nàmbits\\ndel\\ncentre:\", metadata={'source': '../docs/NOF_digital.pdf', 'page': 0}),\n Document(page_content=\"aquesta\\ncompetència\\ndigital,\\nl'EDC\\ncomprèn\\ntots\\nels\\nàmbits\\ndel\\ncentre:\\norganitzatius,\\nmetodològics,\\ncurriculars\\ni\\ncomunicatius,\\nels\\nquals\\ns'han\\nde\\nveure\\nnecessàriament\\nimplicats\\ni,\\nsi\\nescau,\\ntransformats,\\ndes\\nd’una\\nperspectiva\\nd'innovació\\ni\\nde\\nmillora\\ncontínua.\\nAquesta\\nnormativa\\nes\\npodrà\\nrevisar\\nal\\nprincipi\\nde\\ncada\\ncurs\\nescolar.\\n2.\\nÚs\\ndels\\ndispositius:\\nordinadors,\\nmòbils\\ni\\ntauletes\\nEn\\naquest\\napartat\\nes\\ndefiniran\\nles\\nnormes\\ni\\nprotocols\\nestablertes\\nper\\na\\nl’ús\\ndels\\ndispositius\\ndigitals\\nde\\ntots\\nels\\nmembres\\nde\\nla\\ncomunitat\\neducativa:\\nalumnat,\\nprofessorat\\ni\\npersonal\\ndel\\ncentre\\ni\\nles\\nfamílies.\", metadata={'source': '../docs/NOF_digital.pdf', 'page': 0}),\n Document(page_content='2.1.\\nDispositius\\nde\\nl’alumnat\\nEs\\nfa\\nreferència\\na\\ntots\\nels\\ndispositius\\nque\\nsón\\npropietat\\nde\\nl’alumnat\\ni\\nque\\nes\\ntroben\\ndins\\nde\\nles\\ninstal·lacions\\ndel\\ncentre\\na\\nqualsevol\\nactivitat\\neducativa\\nen\\nl’horari\\nescolar.\\n2.1.1.\\nChromebooks\\na\\nl’ESO\\nA\\nl’etapa\\nde\\nl’ESO\\nels\\nalumnes\\ndisposen\\nd’un\\nordinador\\ntipus\\nChromebook\\nque\\ncompren\\nles\\nfamílies\\na\\n1r\\nd’ESO,\\no\\nen\\nel\\ncurs\\nque\\ns’incorporen\\nal\\ncentre,\\ni\\nel\\nfan\\nservir\\nfins\\na\\nfinalitzar\\nl’ESO.\\nLliurament\\ni\\ninformació\\na\\nles\\nfamílies\\nA\\nprincipis\\nde\\nsetembre,\\ndins\\nla\\nreunió\\ninicial\\nde\\nfamílies,\\nes\\npresenta\\nla\\nnormativa\\nd’ús\\ni\\nes\\nlliura\\nel\\ndispositiu\\nque\\nha\\nadquirit\\ncada\\nfamília.\\nEn\\naquesta\\nreunió\\nes\\nfarà\\nl’obertura\\ndels\\nequips\\ninformàtics\\nper\\npart\\nde\\nles\\nfamílies\\nassistents.\\nEls\\nequips\\nde\\nles\\nfamílies\\nque\\nno\\npuguin\\nassistir\\na\\nla\\nreunió\\nseran\\noberts\\nper\\nals\\nmembres', metadata={'source': '../docs/NOF_digital.pdf', 'page': 1}),\n Document(page_content='de\\nles\\nfamílies\\nque\\nno\\npuguin\\nassistir\\na\\nla\\nreunió\\nseran\\noberts\\nper\\nals\\nmembres\\ndel\\nSAT\\ndel\\nCol·legi,\\nabans\\nde\\nl’inici\\nde\\nles\\nclasses.\\nLes\\nfamílies\\npodran\\nestablir\\nsi\\nel\\ndispositiu\\nes\\nqueda\\ncada\\ntarda\\nal\\nCol·legi\\no\\nsi\\nl’alumnat\\nse\\nl’emporta\\na\\ncasa\\nseva.\\nEn\\naquest\\ncas,\\nels\\nrequisits\\no\\ncondicions\\nper\\nretirar\\nel\\nchromebook\\nseran\\nels\\nsegüents:\\n●\\nEl\\ndispositiu\\namb\\nel\\ncarregador\\ncorresponent\\nes\\npodrà\\nretirar\\namb\\nla\\nsignatura\\nd’una\\ncarta\\nde\\ncompromís\\nper\\npart\\ndel\\npare\\no\\nde\\nla\\nmare\\nresponsable.\\nAquesta\\nretirada\\nserà\\nefectiva\\nper\\na\\nla\\nresta\\nde\\ncurs.\\nNo\\nes\\npodrà\\nretirar\\nde\\nforma\\npuntual.\\n●\\nL’alumne/a\\nhaurà\\nde\\nportar\\nal\\nCol·legi\\ndiàriament\\nel\\ndispositiu\\ntotalment\\ncarregat\\nper\\nevitar\\npossibles\\ndistorsions\\nen\\nel\\nfuncionament\\nde\\nla\\nclasse\\ni\\nse\\nl’haurà\\nd’emportar\\na\\ncasa\\ncada\\ndia.\\nEl\\ncarregador\\nes', metadata={'source': '../docs/NOF_digital.pdf', 'page': 1}),\n Document(page_content='de\\nla\\nclasse\\ni\\nse\\nl’haurà\\nd’emportar\\na\\ncasa\\ncada\\ndia.\\nEl\\ncarregador\\nes\\nquedarà\\na\\ncasa\\ni\\nels\\ndispositius,\\nen\\ncap\\ncas,\\nno\\nes\\npodran\\ncarregar\\nen\\nel\\nCol·legi.\\n●\\nLa\\nfamília\\nes\\nresponsabilitza\\ndel\\ndispositiu\\ndavant\\nde\\npossibles\\nrobatoris\\ni\\ndesperfectes\\nper\\nvandalisme\\no\\nús\\nindegut,\\nno\\ninclosos\\nen\\nl’assegurança\\nque\\ntenen\\ncontractada.\\nEn\\naquests\\ncasos,\\nel\\ncost\\nserà\\nassumit\\nper\\nla\\nfamília\\nde\\nl’alumne/a.\\nSi\\ns’ha\\nde\\ncomprar\\nun\\nnou\\ndispositiu,\\nes\\nfarà\\nmitjançant\\nel\\ncol·legi\\nper\\ngarantir\\nla\\ngestió\\npedagògica\\nde\\nl’eina\\ni\\nevitar\\nincidències\\nen\\nel\\nfuncionament\\nde\\nles\\nclasses.\\n2', metadata={'source': '../docs/NOF_digital.pdf', 'page': 1}),\n Document(page_content='●\\nEn\\nel\\ncas\\nde\\ntenir\\nuna\\navaria\\nen\\nel\\ndispositiu\\nfora\\nde\\nl’horari\\nescolar,\\npodran\\ntramitar\\nla\\nincidència\\ndirectament\\ndes\\nde\\ncasa\\namb\\nel\\nservei\\ntècnic\\no\\nesperar\\nal\\nsegüent\\ndia\\nlectiu\\ni\\nportar-lo\\nal\\nCol·legi\\nper\\nfer\\nles\\ngestions\\npertinents\\ndes\\ndel\\ncentre.\\nEl\\ndispositiu\\ncontinuarà\\nsent\\nadministrat\\nal\\nllarg\\ndel\\ncurs\\ndes\\nde\\nla\\nconsola\\ndel\\nnostre\\nentorn\\neducatiu\\nper\\ngarantir\\nel\\nbon\\nús\\nde\\nl’eina\\ndes\\ndel\\npunt\\nde\\nvista\\npedagògic.\\nA\\nfinal\\nde\\ncurs,\\nper\\na\\nles\\nvacances\\nd’estiu,\\nles\\nfamílies\\npodran\\ntriar\\nsi\\nvolen\\nemportar-se\\nel\\nchromebook,\\ni\\ns’alliberarà\\nel\\ndispositiu\\nfins\\na\\nl’inici\\ndel\\ncurs\\nsegüent.\\nEn\\nel\\ncas\\ndels\\nalumnes\\nque\\nacabin\\n4t\\nd’ESO\\no\\nque\\nsiguin\\nbaixa\\ndel\\nCol·legi,\\ns’alliberarà\\nel\\nchromebook\\nde\\nforma\\ndefinitiva.\\nNormativa\\nd’ús\\ni\\naspectes\\npràctics\\nLa\\nnormativa\\nper\\na\\nl’ús\\ndels\\ndispositius\\nestà', metadata={'source': '../docs/NOF_digital.pdf', 'page': 2}),\n Document(page_content='d’ús\\ni\\naspectes\\npràctics\\nLa\\nnormativa\\nper\\na\\nl’ús\\ndels\\ndispositius\\nestà\\nestablerta\\nper\\nla\\ncomissió\\ndigital\\ni\\npresentada\\na\\ntot\\nel\\nclaustre\\nde\\nl’ESO.\\nEstarà\\ntambé\\npublicada\\nal\\nweb\\nde\\nl’EDC\\ndel\\ncentre.\\nAlguns\\ndels\\npunts\\na\\ndestacar\\nsón:\\n●\\nEl\\nprofessorat\\nde\\nl’escola\\npot\\ninhabilitar\\nles\\naplicacions\\ni\\neines\\ndel\\ndispositiu\\nque\\nconsideri\\ninnecessàries\\nper\\nal\\ndesenvolupament\\nde\\nla\\ntasca\\neducativa.\\nNo\\nestà\\npermesa\\nla\\ninstal·lació\\nde\\njocs\\nni\\nxarxes\\nsocials\\nni\\nel\\nseu\\nús\\nsi\\nno\\nha\\nestat\\nautoritzat\\nper\\nun\\ndocent\\no\\nper\\nla\\ncomissió\\ndigital.\\n●\\nNo\\ns’hi\\npot\\ninstal·lar\\nprogramari\\nno\\nautoritzat\\npel\\ncentre\\neducatiu,\\nni\\naccedir\\na\\nentorns\\no\\nxarxes\\nsocials\\nque\\npuguin\\nrepresentar\\nun\\nrisc\\nper\\na\\nles\\ndades\\ncontingudes.\\n●\\nEstà\\nprohibit\\nmanipular\\nles\\npeces\\no\\naccessoris\\nfísics\\ndel\\ndispositiu.\\n●\\nEn\\ncap\\ncas\\nes\\npot\\nretirar', metadata={'source': '../docs/NOF_digital.pdf', 'page': 2}),\n Document(page_content='les\\npeces\\no\\naccessoris\\nfísics\\ndel\\ndispositiu.\\n●\\nEn\\ncap\\ncas\\nes\\npot\\nretirar\\ncap\\ndels\\netiquetatges\\nidentificatius\\ndels\\ndispositius.\\n●\\nL’alumnat\\npodrà\\nportar\\nuns\\nauriculars\\ni\\nun\\nratolí\\nper\\na\\nconnectar\\nal\\nseu\\ndispositiu,\\nperò\\nsi\\nes\\nfan\\nmalbé\\no\\nes\\nperden\\nserà\\nresponsabilitat\\nseva.\\n●\\nSobre\\nl’horari\\nde\\nrecollida\\nde\\ndispositius,\\na\\ncada\\ncarro\\nquedarà\\nconstància\\nde\\nla/les\\npersones\\nque\\nhaurien\\nde\\nrecollir-los\\n(per\\nexemple,\\ndes\\nde\\ntecnologia,\\naula\\nde\\nplàstica…).\\n●\\nAl\\nNadal\\nno\\ns’alliberarà\\ndel\\ndomini.\\nA\\nl’estiu,\\nsí,\\ns’establirà\\nun\\ndia\\nconcret\\n(l’anterior\\na\\nacabar\\nel\\ntrimestre\\ncorresponent)\\non\\nes\\nlliurarà\\nel\\ndispositiu\\na\\nl’alumnat\\nprèvia\\nautorització\\nsignada.\\nLa\\nfamília\\npodrà\\ndeixar-lo\\nal\\nCol·legi\\nsi\\nho\\ndesitja\\ni\\nho\\ncomunica.\\nAquest\\ndia\\nes\\ncomunicarà\\nper\\nendavant\\na\\nles\\nfamílies\\nperquè\\nes\\npuguin', metadata={'source': '../docs/NOF_digital.pdf', 'page': 2})]"
     },
     "execution_count": 4,
     "metadata": {},
     "output_type": "execute_result"
    }
   ],
   "source": [
    "# Split the data into smaller documents\n",
    "text_splitter = RecursiveCharacterTextSplitter(chunk_size=800, chunk_overlap=80)\n",
    "chunks = text_splitter.split_documents(docs)\n",
    "chunks[:10]"
   ],
   "metadata": {
    "collapsed": false,
    "ExecuteTime": {
     "end_time": "2023-10-29T15:22:34.272484Z",
     "start_time": "2023-10-29T15:22:34.266984Z"
    }
   },
   "id": "d0557064d840de5f"
  },
  {
   "cell_type": "markdown",
   "source": [
    "## Embeddings and Upload"
   ],
   "metadata": {
    "collapsed": false
   },
   "id": "6fa62ee37767925"
  },
  {
   "cell_type": "code",
   "execution_count": 5,
   "outputs": [],
   "source": [
    "# Create embeddings\n",
    "embeddings = OpenAIEmbeddings(openai_api_key=OPENAI_API_KEY)\n",
    "\n",
    "# Create a Pinecone index and add the documents to it\n",
    "#pinecone.create_index(\"python-index\", dimension=1536, metric=\"cosine\")\n",
    "pinecone.init(api_key=PINECONE_API_KEY, environment=PINECONE_API_ENV)\n",
    "index_name = \"python-index\"\n",
    "docsearch = Pinecone.from_texts([t.page_content for t in chunks], embeddings, index_name=index_name)"
   ],
   "metadata": {
    "collapsed": false,
    "ExecuteTime": {
     "end_time": "2023-10-29T15:22:57.574373Z",
     "start_time": "2023-10-29T15:22:42.179065Z"
    }
   },
   "id": "70b7787782d91071"
  },
  {
   "cell_type": "markdown",
   "source": [
    "## Docsearch with Pinecone"
   ],
   "metadata": {
    "collapsed": false
   },
   "id": "514b88b27e06439c"
  },
  {
   "cell_type": "code",
   "execution_count": 10,
   "outputs": [
    {
     "name": "stdout",
     "output_type": "stream",
     "text": [
      "\n",
      "The name of the school is \"El Col·legi Sant Miquel\""
     ]
    },
    {
     "data": {
      "text/plain": "'\\nThe name of the school is \"El Col·legi Sant Miquel\"'"
     },
     "execution_count": 10,
     "metadata": {},
     "output_type": "execute_result"
    }
   ],
   "source": [
    "# Perform similarity search\n",
    "docs = docsearch.similarity_search(prompt)\n",
    "\n",
    "# Load the question answering chain\n",
    "llm = Ollama(model=\"mistral\", callback_manager=CallbackManager([StreamingStdOutCallbackHandler()]))\n",
    "chain = load_qa_chain(llm, chain_type=\"stuff\")\n",
    "\n",
    "# Query the documents and get the answer\n",
    "answer = chain.run(input_documents=docs, question=prompt)\n",
    "answer"
   ],
   "metadata": {
    "collapsed": false,
    "ExecuteTime": {
     "end_time": "2023-10-27T22:09:09.323816Z",
     "start_time": "2023-10-27T22:09:02.682451Z"
    }
   },
   "id": "605a135a5a96e54"
  },
  {
   "cell_type": "markdown",
   "source": [
    "## Connecting to Pinecone directly"
   ],
   "metadata": {
    "collapsed": false
   },
   "id": "b9e7a7e114e59686"
  },
  {
   "cell_type": "code",
   "execution_count": 11,
   "outputs": [
    {
     "data": {
      "text/plain": "['python-index']"
     },
     "execution_count": 11,
     "metadata": {},
     "output_type": "execute_result"
    }
   ],
   "source": [
    "# Listing the existing indexes\n",
    "pinecone.list_indexes()"
   ],
   "metadata": {
    "collapsed": false,
    "ExecuteTime": {
     "end_time": "2023-10-27T22:10:19.691725Z",
     "start_time": "2023-10-27T22:10:17.397496Z"
    }
   },
   "id": "6e095d6645a9b93a"
  },
  {
   "cell_type": "code",
   "execution_count": 12,
   "outputs": [],
   "source": [
    "# Connecting to an existing index\n",
    "index = pinecone.Index(\"python-index\")"
   ],
   "metadata": {
    "collapsed": false,
    "ExecuteTime": {
     "end_time": "2023-10-27T22:10:22.099280Z",
     "start_time": "2023-10-27T22:10:22.091924Z"
    }
   },
   "id": "2990f31d66adfbe6"
  },
  {
   "cell_type": "code",
   "execution_count": 13,
   "outputs": [
    {
     "data": {
      "text/plain": "IndexDescription(name='python-index', metric='cosine', replicas=1, dimension=1536.0, shards=1, pods=1, pod_type='p1', status={'ready': True, 'state': 'Ready'}, metadata_config=None, source_collection='')"
     },
     "execution_count": 13,
     "metadata": {},
     "output_type": "execute_result"
    }
   ],
   "source": [
    "# Get information about the index\n",
    "pinecone.describe_index(\"python-index\")"
   ],
   "metadata": {
    "collapsed": false,
    "ExecuteTime": {
     "end_time": "2023-10-27T22:10:31.631848Z",
     "start_time": "2023-10-27T22:10:30.999330Z"
    }
   },
   "id": "b4a54f683f137dfd"
  },
  {
   "cell_type": "markdown",
   "source": [
    "## Upserting documents"
   ],
   "metadata": {
    "collapsed": false
   },
   "id": "63ea55ece7643536"
  },
  {
   "cell_type": "code",
   "execution_count": 39,
   "outputs": [
    {
     "data": {
      "text/plain": "[Document(page_content='  \\n Col·legi Sant Miquel  \\nUna institució centenària que mira al futur  \\n \\n \\n \\nEL COR DEL NOSTRE PROJECTE EDUCATIU  \\n \\nCOL·LEGI SANT MIQUEL \\n \\n \\nUna institució centenària que mira al futur  \\n \\nMés de cent anys d’història  \\n \\nL’any 1898 els Missioners del Sagrat Cor van crear el  Col·legi Sant \\nMiquel amb la finalitat de realitzar la seva missió e vangelitzadora \\nmitjançant l’acció educativa al servei dels habitants de Barcelona i els seus voltants.  \\nDes de llavors i de manera ininterrompuda, milers d’alumnes han passat per les nostres aules i és a ells justament que hem tractat de \\nservir , tot oferint -los una educació de qualitat que, més enllà de la \\nsimple instrucció acadèmica, els ha inculcat  uns valors  humans i \\ncristians  que els han ajudat  a ser, a més de bons professionals, \\nhomes i dones per als altres, ciutadans honrats  i transmissors dels \\nvalors evangèlics.  \\nL’any 1998 vam celebrar el Centenari i vam aprofitar per recordar les nostres senyes d’identitat, en coherència amb les quals pretenem continuar servint totes les persones que decideixin apostar pel nostre \\nestil educatiu, que continua essent l’ estil MSC , encarnat avui  \\nmajoritàriament en un equip de seglars  compromesos.  \\n \\n \\nQui som  \\n \\n• El Col·legi Sant Miquel, situat al carrer Rosselló, 175, a l’Eixample de Barcelona, és un centre edu catiu catòlic, que té com a titular  la \\ncongregació  dels Missioners d el Sagrat Cor de Jesús. ', metadata={'source': '../docs/DM_DIR_PEC_JUNY_23.pdf', 'page': 0}),\n Document(page_content='• Som un centre educatiu privat d’iniciativa social i concertat pel \\nDepartament d’Educació de la Generalitat des de I 3 d’educació \\ninfantil fins el final de l’educació  secundària obligatòria.  \\n• El nostre batxillerat ofere ix les modalitats de Tecnologia i  Ciències \\nde la Salut, Humanitats i Ciències Socials.  \\n• Entre els serveis, disposem de mitja pensió amb cuina pròpia, de \\nbiblioteca, piscina,  departament d’ orientació,  guarderia de matí i \\nde tarda , i casal d’estiu . \\n• Oferim, juntament amb l’ APMA, moltes activitats extraescolars i \\ncomplementàries.  \\n• Disposem de la certificació de qualitat ISO 9001:20 15 i apostem \\ndecididament per la potenciació de l’ensenyament dels idiomes i la innovació pedagògica constant . \\n ', metadata={'source': '../docs/DM_DIR_PEC_JUNY_23.pdf', 'page': 1})]"
     },
     "execution_count": 39,
     "metadata": {},
     "output_type": "execute_result"
    }
   ],
   "source": [
    "# Test docs\n",
    "test_docs = docs[:2]\n",
    "test_docs"
   ],
   "metadata": {
    "collapsed": false,
    "ExecuteTime": {
     "end_time": "2023-10-26T15:26:23.436105Z",
     "start_time": "2023-10-26T15:26:23.426576Z"
    }
   },
   "id": "cd92fea9137773d7"
  },
  {
   "cell_type": "code",
   "execution_count": 44,
   "outputs": [
    {
     "data": {
      "text/plain": "['  \\n Col·legi Sant Miquel  \\nUna institució centenària que mira al futur  \\n \\n \\n \\nEL COR DEL NOSTRE PROJECTE EDUCATIU  \\n \\nCOL·LEGI SANT MIQUEL \\n \\n \\nUna institució centenària que mira al futur  \\n \\nMés de cent anys d’història  \\n \\nL’any 1898 els Missioners del Sagrat Cor van crear el  Col·legi Sant \\nMiquel amb la finalitat de realitzar la seva missió e vangelitzadora \\nmitjançant l’acció educativa al servei dels habitants de Barcelona i els seus voltants.  \\nDes de llavors i de manera ininterrompuda, milers d’alumnes han passat per les nostres aules i és a ells justament que hem tractat de \\nservir , tot oferint -los una educació de qualitat que, més enllà de la \\nsimple instrucció acadèmica, els ha inculcat  uns valors  humans i \\ncristians  que els han ajudat  a ser, a més de bons professionals, \\nhomes i dones per als altres, ciutadans honrats  i transmissors dels \\nvalors evangèlics.  \\nL’any 1998 vam celebrar el Centenari i vam aprofitar per recordar les nostres senyes d’identitat, en coherència amb les quals pretenem continuar servint totes les persones que decideixin apostar pel nostre \\nestil educatiu, que continua essent l’ estil MSC , encarnat avui  \\nmajoritàriament en un equip de seglars  compromesos.  \\n \\n \\nQui som  \\n \\n• El Col·legi Sant Miquel, situat al carrer Rosselló, 175, a l’Eixample de Barcelona, és un centre edu catiu catòlic, que té com a titular  la \\ncongregació  dels Missioners d el Sagrat Cor de Jesús. ',\n '• Som un centre educatiu privat d’iniciativa social i concertat pel \\nDepartament d’Educació de la Generalitat des de I 3 d’educació \\ninfantil fins el final de l’educació  secundària obligatòria.  \\n• El nostre batxillerat ofere ix les modalitats de Tecnologia i  Ciències \\nde la Salut, Humanitats i Ciències Socials.  \\n• Entre els serveis, disposem de mitja pensió amb cuina pròpia, de \\nbiblioteca, piscina,  departament d’ orientació,  guarderia de matí i \\nde tarda , i casal d’estiu . \\n• Oferim, juntament amb l’ APMA, moltes activitats extraescolars i \\ncomplementàries.  \\n• Disposem de la certificació de qualitat ISO 9001:20 15 i apostem \\ndecididament per la potenciació de l’ensenyament dels idiomes i la innovació pedagògica constant . \\n ']"
     },
     "execution_count": 44,
     "metadata": {},
     "output_type": "execute_result"
    }
   ],
   "source": [
    "# Extract chunks\n",
    "chunks = [t.page_content for t in test_docs]\n",
    "chunks"
   ],
   "metadata": {
    "collapsed": false,
    "ExecuteTime": {
     "end_time": "2023-10-26T15:35:34.065983Z",
     "start_time": "2023-10-26T15:35:34.054912Z"
    }
   },
   "id": "7b6765072bea56c5"
  },
  {
   "cell_type": "code",
   "execution_count": null,
   "outputs": [],
   "source": [],
   "metadata": {
    "collapsed": false
   },
   "id": "e8578a36c7e18235"
  }
 ],
 "metadata": {
  "kernelspec": {
   "display_name": "Python 3",
   "language": "python",
   "name": "python3"
  },
  "language_info": {
   "codemirror_mode": {
    "name": "ipython",
    "version": 2
   },
   "file_extension": ".py",
   "mimetype": "text/x-python",
   "name": "python",
   "nbconvert_exporter": "python",
   "pygments_lexer": "ipython2",
   "version": "2.7.6"
  }
 },
 "nbformat": 4,
 "nbformat_minor": 5
}
