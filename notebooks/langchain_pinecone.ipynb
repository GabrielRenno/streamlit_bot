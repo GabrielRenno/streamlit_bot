{
 "cells": [
  {
   "cell_type": "markdown",
   "source": [
    "# Pinecone + Langchain Demo\n",
    "\n",
    "In this notebook i will show you how to easily create a semantic search engine for your documents using Pinecone and Langchain. The goal is to be able to search through your documents and find the most relevant ones to your query. We will also be able to ask questions about the documents and get answers back.\n",
    "\n",
    "[Pinecone signup](https://www.pinecone.io/)\n",
    "After logging in you can see your porjects, indexes and collections\n",
    "\n",
    "\n",
    "[Pinecone documentation](https://docs.pinecone.io/docs/python-client)\n",
    "\n",
    "[Pinecone Langchain documentation](https://www.pinecone.io/learn/series/langchain/langchain-intro/)\n",
    "\n",
    "[Langchain documentation](https://python.langchain.com/docs/get_started/introduction.html)\n"
   ],
   "metadata": {
    "collapsed": false
   },
   "id": "45a8053baf528836"
  },
  {
   "cell_type": "markdown",
   "source": [
    "### Install the packages"
   ],
   "metadata": {
    "collapsed": false
   },
   "id": "bf32b1d972e0e1c2"
  },
  {
   "cell_type": "code",
   "execution_count": null,
   "outputs": [],
   "source": [
    "!pip install langchain --upgrade\n",
    "!pip install pypdf"
   ],
   "metadata": {
    "collapsed": false,
    "ExecuteTime": {
     "end_time": "2023-10-10T19:45:06.879123Z",
     "start_time": "2023-10-10T19:45:06.876654Z"
    }
   },
   "id": "af8adc668081983d"
  },
  {
   "cell_type": "code",
   "execution_count": 27,
   "id": "2d3e92ed",
   "metadata": {
    "ExecuteTime": {
     "end_time": "2023-10-10T19:53:00.231798Z",
     "start_time": "2023-10-10T19:53:00.225456Z"
    }
   },
   "outputs": [],
   "source": [
    "# PDF Loaders. If unstructured gives you a hard time, try PyPDFLoader\n",
    "from langchain.document_loaders import UnstructuredPDFLoader, OnlinePDFLoader, PyPDFLoader\n",
    "from langchain.text_splitter import RecursiveCharacterTextSplitter\n",
    "import os"
   ]
  },
  {
   "cell_type": "markdown",
   "id": "5166d759",
   "metadata": {
    "ExecuteTime": {
     "end_time": "2023-07-11T20:38:08.852519Z",
     "start_time": "2023-07-11T20:38:08.848491Z"
    }
   },
   "source": [
    "### Load your data\n",
    "\n",
    "The PDF file that I will use is a summary of one of my courses on strategy that i had in my bacholar.\n",
    "\n",
    "The PDF discusses various perspectives in the field of strategy, including the ideas of Clausewitz, Jomini, Marx, Tolstoy, Weber, Taylor, Follett, Rockefeller, Sloan, Ansoff, and game theory. It highlights the relevance of these perspectives in today's business environment and their impact on strategic thinking. The passage also mentions the different schools of thought in strategy, including the prescriptive and descriptive schools, and raises questions about their relationship to each other in the strategic process. Overall, it provides a comprehensive overview of different strategic perspectives and their implications."
   ]
  },
  {
   "cell_type": "code",
   "execution_count": 28,
   "outputs": [],
   "source": [
    "# create a loader\n",
    "loader = PyPDFLoader(\"DM_Dir_NOF_CSM_14_set_2023.pdf\")"
   ],
   "metadata": {
    "collapsed": false,
    "ExecuteTime": {
     "end_time": "2023-10-10T19:53:01.248501Z",
     "start_time": "2023-10-10T19:53:01.242827Z"
    }
   },
   "id": "469312a1bc1a12fa"
  },
  {
   "cell_type": "markdown",
   "source": [
    "### Other options for loaders"
   ],
   "metadata": {
    "collapsed": false
   },
   "id": "361fd031fd4eda62"
  },
  {
   "cell_type": "code",
   "execution_count": 29,
   "outputs": [],
   "source": [
    "# loader = UnstructuredPDFLoader(\"../data/summary_strategy.pdf\")\n",
    "# loader = OnlinePDFLoader(\"...\")"
   ],
   "metadata": {
    "collapsed": false,
    "ExecuteTime": {
     "end_time": "2023-10-10T19:53:04.346561Z",
     "start_time": "2023-10-10T19:53:04.344399Z"
    }
   },
   "id": "9dc975356d7006be"
  },
  {
   "cell_type": "code",
   "execution_count": 30,
   "id": "bcdac23c",
   "metadata": {
    "ExecuteTime": {
     "end_time": "2023-10-10T19:53:09.453028Z",
     "start_time": "2023-10-10T19:53:04.694056Z"
    }
   },
   "outputs": [],
   "source": [
    "# load your data\n",
    "data = loader.load()"
   ]
  },
  {
   "cell_type": "markdown",
   "source": [
    "Note: If you're using PyPDFLoader, the text will be split by page for you already"
   ],
   "metadata": {
    "collapsed": false
   },
   "id": "32d7658fb742c073"
  },
  {
   "cell_type": "code",
   "execution_count": 31,
   "id": "b4fd7c9e",
   "metadata": {
    "ExecuteTime": {
     "end_time": "2023-10-10T19:53:10.906326Z",
     "start_time": "2023-10-10T19:53:10.899623Z"
    }
   },
   "outputs": [
    {
     "name": "stdout",
     "output_type": "stream",
     "text": [
      "You have 88 document(s) in your data\n",
      "There are 148 characters in your document\n"
     ]
    }
   ],
   "source": [
    "print (f'You have {len(data)} document(s) in your data')\n",
    "print (f'There are {len(data[0].page_content)} characters in your document')"
   ]
  },
  {
   "cell_type": "markdown",
   "id": "8af9b604",
   "metadata": {
    "ExecuteTime": {
     "end_time": "2023-07-11T20:38:12.194260Z",
     "start_time": "2023-07-11T20:38:12.191771Z"
    }
   },
   "source": [
    "### Split your data up into smaller documents with Chunks\n",
    "\n",
    "The chunksize should be chosen according to the length of your documents. If you have very long documents, you should choose a smaller chunksize. If you have very short documents, you should choose a smaller chunksize.\n",
    "\n",
    "The chunk overlap is the number of characters that will be shared between each chunk. This is useful if you want to make sure that your chunks are not too small.\n",
    "\n",
    "Play around with these parameters to see what works best for your data.\n",
    "\n",
    "Note: If you're using PyPDFLoader then we'll be splitting for the 2nd time."
   ]
  },
  {
   "cell_type": "code",
   "execution_count": 32,
   "id": "fb3c6f02",
   "metadata": {
    "ExecuteTime": {
     "end_time": "2023-10-10T19:53:12.342519Z",
     "start_time": "2023-10-10T19:53:12.340805Z"
    }
   },
   "outputs": [],
   "source": [
    "text_splitter = RecursiveCharacterTextSplitter(chunk_size=1000, chunk_overlap=0)\n",
    "texts = text_splitter.split_documents(data)"
   ]
  },
  {
   "cell_type": "code",
   "execution_count": 33,
   "id": "879873a4",
   "metadata": {
    "ExecuteTime": {
     "end_time": "2023-10-10T19:53:13.095345Z",
     "start_time": "2023-10-10T19:53:13.085184Z"
    }
   },
   "outputs": [
    {
     "name": "stdout",
     "output_type": "stream",
     "text": [
      "Now you have 303 documents\n"
     ]
    }
   ],
   "source": [
    "print (f'Now you have {len(texts)} documents')"
   ]
  },
  {
   "cell_type": "markdown",
   "id": "838b2843",
   "metadata": {
    "ExecuteTime": {
     "end_time": "2023-07-11T20:38:19.825374Z",
     "start_time": "2023-07-11T20:38:19.820981Z"
    }
   },
   "source": [
    "### Create embeddings of your documents\n",
    "\n",
    "Here we import the LangChain and Pinecone libraries. We will use the OpenAIEmbeddings class to create embeddings of our documents. We will then use the Pinecone library to create a Pinecone index and add our documents to it. Finally, we will use the Pinecone library to query our index and get back the most similar documents to our query."
   ]
  },
  {
   "cell_type": "code",
   "execution_count": 34,
   "outputs": [],
   "source": [
    "# import libraries\n",
    "from langchain.vectorstores import  Pinecone\n",
    "from langchain.embeddings.openai import OpenAIEmbeddings\n",
    "import pinecone"
   ],
   "metadata": {
    "collapsed": false,
    "ExecuteTime": {
     "end_time": "2023-10-10T19:53:22.486301Z",
     "start_time": "2023-10-10T19:53:22.479983Z"
    }
   },
   "id": "7e0c8c0a0cdb94"
  },
  {
   "cell_type": "markdown",
   "source": [
    "I chose to store my api keys in a file called credentials.py. You can also store them in your environment variables. You can find your api keys in the pinecone console."
   ],
   "metadata": {
    "collapsed": false
   },
   "id": "3e2ed8751279bb2d"
  },
  {
   "cell_type": "code",
   "execution_count": 35,
   "outputs": [],
   "source": [
    "# import your API keys from a file called credentials.py\n",
    "from credentials import OPENAI_API_KEY, PINECONE_API_KEY, PINECONE_API_ENV"
   ],
   "metadata": {
    "collapsed": false,
    "ExecuteTime": {
     "end_time": "2023-10-10T19:53:24.917222Z",
     "start_time": "2023-10-10T19:53:24.908896Z"
    }
   },
   "id": "5fd0fc5a10960ab9"
  },
  {
   "cell_type": "code",
   "execution_count": 36,
   "id": "0e093ef3",
   "metadata": {
    "hide_input": false,
    "ExecuteTime": {
     "end_time": "2023-10-10T19:53:25.440321Z",
     "start_time": "2023-10-10T19:53:25.431760Z"
    }
   },
   "outputs": [],
   "source": [
    "# you can also store the keys in your environment variables\n",
    "# OPENAI_API_KEY = os.environ.get('OPENAI_API_KEY', 'sk-...')\n",
    "#\n",
    "# PINECONE_API_KEY = os.environ.get('PINECONE_API_KEY', '...')\n",
    "# PINECONE_API_ENV = os.environ.get('PINECONE_API_ENV', '...')"
   ]
  },
  {
   "cell_type": "markdown",
   "source": [
    "I will use the OpenAI embeddings model to create embeddings of my documents. You can use any of the models that are available in the OpenAIEmbeddings class. You can also use any of the other embeddings models that are available in the langchain library."
   ],
   "metadata": {
    "collapsed": false
   },
   "id": "42239b867b9ed4f7"
  },
  {
   "cell_type": "code",
   "execution_count": 37,
   "id": "4e0d1c6a",
   "metadata": {
    "ExecuteTime": {
     "end_time": "2023-10-10T19:53:27.586570Z",
     "start_time": "2023-10-10T19:53:27.571692Z"
    }
   },
   "outputs": [],
   "source": [
    "# create embeddings\n",
    "embeddings = OpenAIEmbeddings(openai_api_key=OPENAI_API_KEY)"
   ]
  },
  {
   "cell_type": "markdown",
   "source": [
    "## Create a Pinecone index and add your documents to it\n",
    "\n",
    "Here we create a Pinecone index and add our documents to it. We will then use the Pinecone library to query our index and get back the most similar documents to our query. I chose a dimension of 1536 and a metric of cosine. You can play around with these parameters to see what works best for your data.\n",
    "\n",
    "For the OpenAI text-embedding-ada-002 embeddings, the output dimension is 1536, hence the dimension parameter.\n",
    "\n",
    "\n",
    "The metric can be cosine, euclidean, or l2, depending on the type of data you have.\n",
    "\n",
    "#### Cosine Distance\n",
    "Description: Measures the cosine of the angle between two vectors, often used when working with normalized or convex sets.\n",
    "Use Cases: Document classification, semantic search, recommendation systems, and any other task involving high-dimensional and normalized data.\n",
    "\n",
    "#### Euclidean Distance (L2)\n",
    "Description: Calculates the straight-line distance between two vectors in a multidimensional space.\n",
    "Use Cases: Image recognition, speech recognition, handwriting analysis.\n",
    "\n",
    "#### Inner Product (Dot Product)\n",
    "Description: Computes the sum of the products of the vectors' corresponding components.\n",
    "Use Cases: Recommendation systems, collaborative filtering, matrix factorization.\n",
    "\n",
    "[source](https://www.imaurer.com/which-vector-similarity-metric-should-i-use/)\n",
    "\n",
    "In the free trial of pinecone you van only create one index. If you want to create more, you can upgrade to a paid plan."
   ],
   "metadata": {
    "collapsed": false
   },
   "id": "fbf7f613063b114b"
  },
  {
   "cell_type": "code",
   "execution_count": 38,
   "outputs": [
    {
     "ename": "ApiException",
     "evalue": "(400)\nReason: Bad Request\nHTTP response headers: HTTPHeaderDict({'content-type': 'text/plain; charset=UTF-8', 'date': 'Tue, 10 Oct 2023 19:53:29 GMT', 'x-envoy-upstream-service-time': '779', 'content-length': '131', 'server': 'envoy'})\nHTTP response body: The index exceeds the project quota of 1 pods by 1 pods. Upgrade your account or change the project settings to increase the quota.\n",
     "output_type": "error",
     "traceback": [
      "\u001B[0;31m---------------------------------------------------------------------------\u001B[0m",
      "\u001B[0;31mApiException\u001B[0m                              Traceback (most recent call last)",
      "Cell \u001B[0;32mIn[38], line 2\u001B[0m\n\u001B[1;32m      1\u001B[0m \u001B[38;5;66;03m# create a pinecone index\u001B[39;00m\n\u001B[0;32m----> 2\u001B[0m \u001B[43mpinecone\u001B[49m\u001B[38;5;241;43m.\u001B[39;49m\u001B[43mcreate_index\u001B[49m\u001B[43m(\u001B[49m\u001B[38;5;124;43m\"\u001B[39;49m\u001B[38;5;124;43mpython-index\u001B[39;49m\u001B[38;5;124;43m\"\u001B[39;49m\u001B[43m,\u001B[49m\u001B[43m \u001B[49m\u001B[43mdimension\u001B[49m\u001B[38;5;241;43m=\u001B[39;49m\u001B[38;5;241;43m1536\u001B[39;49m\u001B[43m,\u001B[49m\u001B[43m \u001B[49m\u001B[43mmetric\u001B[49m\u001B[38;5;241;43m=\u001B[39;49m\u001B[38;5;124;43m\"\u001B[39;49m\u001B[38;5;124;43mcosine\u001B[39;49m\u001B[38;5;124;43m\"\u001B[39;49m\u001B[43m)\u001B[49m\n",
      "File \u001B[0;32m~/PycharmProjects/Spotify_2/streamlit_bot/lib/python3.10/site-packages/pinecone/manage.py:118\u001B[0m, in \u001B[0;36mcreate_index\u001B[0;34m(name, dimension, timeout, index_type, metric, replicas, shards, pods, pod_type, index_config, metadata_config, source_collection)\u001B[0m\n\u001B[1;32m     82\u001B[0m \u001B[38;5;250m\u001B[39m\u001B[38;5;124;03m\"\"\"Creates a Pinecone index.\u001B[39;00m\n\u001B[1;32m     83\u001B[0m \n\u001B[1;32m     84\u001B[0m \u001B[38;5;124;03m:param name: the name of the index.\u001B[39;00m\n\u001B[0;32m   (...)\u001B[0m\n\u001B[1;32m    114\u001B[0m \u001B[38;5;124;03m:param timeout: Timeout for wait until index gets ready. If None, wait indefinitely; if >=0, time out after this many seconds; if -1, return immediately and do not wait. Default: None\u001B[39;00m\n\u001B[1;32m    115\u001B[0m \u001B[38;5;124;03m\"\"\"\u001B[39;00m\n\u001B[1;32m    116\u001B[0m api_instance \u001B[38;5;241m=\u001B[39m _get_api_instance()\n\u001B[0;32m--> 118\u001B[0m \u001B[43mapi_instance\u001B[49m\u001B[38;5;241;43m.\u001B[39;49m\u001B[43mcreate_index\u001B[49m\u001B[43m(\u001B[49m\u001B[43mcreate_request\u001B[49m\u001B[38;5;241;43m=\u001B[39;49m\u001B[43mCreateRequest\u001B[49m\u001B[43m(\u001B[49m\n\u001B[1;32m    119\u001B[0m \u001B[43m    \u001B[49m\u001B[43mname\u001B[49m\u001B[38;5;241;43m=\u001B[39;49m\u001B[43mname\u001B[49m\u001B[43m,\u001B[49m\n\u001B[1;32m    120\u001B[0m \u001B[43m    \u001B[49m\u001B[43mdimension\u001B[49m\u001B[38;5;241;43m=\u001B[39;49m\u001B[43mdimension\u001B[49m\u001B[43m,\u001B[49m\n\u001B[1;32m    121\u001B[0m \u001B[43m    \u001B[49m\u001B[43mindex_type\u001B[49m\u001B[38;5;241;43m=\u001B[39;49m\u001B[43mindex_type\u001B[49m\u001B[43m,\u001B[49m\n\u001B[1;32m    122\u001B[0m \u001B[43m    \u001B[49m\u001B[43mmetric\u001B[49m\u001B[38;5;241;43m=\u001B[39;49m\u001B[43mmetric\u001B[49m\u001B[43m,\u001B[49m\n\u001B[1;32m    123\u001B[0m \u001B[43m    \u001B[49m\u001B[43mreplicas\u001B[49m\u001B[38;5;241;43m=\u001B[39;49m\u001B[43mreplicas\u001B[49m\u001B[43m,\u001B[49m\n\u001B[1;32m    124\u001B[0m \u001B[43m    \u001B[49m\u001B[43mshards\u001B[49m\u001B[38;5;241;43m=\u001B[39;49m\u001B[43mshards\u001B[49m\u001B[43m,\u001B[49m\n\u001B[1;32m    125\u001B[0m \u001B[43m    \u001B[49m\u001B[43mpods\u001B[49m\u001B[38;5;241;43m=\u001B[39;49m\u001B[43mpods\u001B[49m\u001B[43m,\u001B[49m\n\u001B[1;32m    126\u001B[0m \u001B[43m    \u001B[49m\u001B[43mpod_type\u001B[49m\u001B[38;5;241;43m=\u001B[39;49m\u001B[43mpod_type\u001B[49m\u001B[43m,\u001B[49m\n\u001B[1;32m    127\u001B[0m \u001B[43m    \u001B[49m\u001B[43mindex_config\u001B[49m\u001B[38;5;241;43m=\u001B[39;49m\u001B[43mindex_config\u001B[49m\u001B[43m \u001B[49m\u001B[38;5;129;43;01mor\u001B[39;49;00m\u001B[43m \u001B[49m\u001B[43m{\u001B[49m\u001B[43m}\u001B[49m\u001B[43m,\u001B[49m\n\u001B[1;32m    128\u001B[0m \u001B[43m    \u001B[49m\u001B[43mmetadata_config\u001B[49m\u001B[38;5;241;43m=\u001B[39;49m\u001B[43mmetadata_config\u001B[49m\u001B[43m,\u001B[49m\n\u001B[1;32m    129\u001B[0m \u001B[43m    \u001B[49m\u001B[43msource_collection\u001B[49m\u001B[38;5;241;43m=\u001B[39;49m\u001B[43msource_collection\u001B[49m\n\u001B[1;32m    130\u001B[0m \u001B[43m\u001B[49m\u001B[43m)\u001B[49m\u001B[43m)\u001B[49m\n\u001B[1;32m    132\u001B[0m \u001B[38;5;28;01mdef\u001B[39;00m \u001B[38;5;21mis_ready\u001B[39m():\n\u001B[1;32m    133\u001B[0m     status \u001B[38;5;241m=\u001B[39m _get_status(name)\n",
      "File \u001B[0;32m~/PycharmProjects/Spotify_2/streamlit_bot/lib/python3.10/site-packages/pinecone/core/client/api_client.py:776\u001B[0m, in \u001B[0;36mEndpoint.__call__\u001B[0;34m(self, *args, **kwargs)\u001B[0m\n\u001B[1;32m    765\u001B[0m \u001B[38;5;28;01mdef\u001B[39;00m \u001B[38;5;21m__call__\u001B[39m(\u001B[38;5;28mself\u001B[39m, \u001B[38;5;241m*\u001B[39margs, \u001B[38;5;241m*\u001B[39m\u001B[38;5;241m*\u001B[39mkwargs):\n\u001B[1;32m    766\u001B[0m \u001B[38;5;250m    \u001B[39m\u001B[38;5;124;03m\"\"\" This method is invoked when endpoints are called\u001B[39;00m\n\u001B[1;32m    767\u001B[0m \u001B[38;5;124;03m    Example:\u001B[39;00m\n\u001B[1;32m    768\u001B[0m \n\u001B[0;32m   (...)\u001B[0m\n\u001B[1;32m    774\u001B[0m \n\u001B[1;32m    775\u001B[0m \u001B[38;5;124;03m    \"\"\"\u001B[39;00m\n\u001B[0;32m--> 776\u001B[0m     \u001B[38;5;28;01mreturn\u001B[39;00m \u001B[38;5;28;43mself\u001B[39;49m\u001B[38;5;241;43m.\u001B[39;49m\u001B[43mcallable\u001B[49m\u001B[43m(\u001B[49m\u001B[38;5;28;43mself\u001B[39;49m\u001B[43m,\u001B[49m\u001B[43m \u001B[49m\u001B[38;5;241;43m*\u001B[39;49m\u001B[43margs\u001B[49m\u001B[43m,\u001B[49m\u001B[43m \u001B[49m\u001B[38;5;241;43m*\u001B[39;49m\u001B[38;5;241;43m*\u001B[39;49m\u001B[43mkwargs\u001B[49m\u001B[43m)\u001B[49m\n",
      "File \u001B[0;32m~/PycharmProjects/Spotify_2/streamlit_bot/lib/python3.10/site-packages/pinecone/core/client/api/index_operations_api.py:368\u001B[0m, in \u001B[0;36mIndexOperationsApi.__init__.<locals>.__create_index\u001B[0;34m(self, **kwargs)\u001B[0m\n\u001B[1;32m    364\u001B[0m kwargs[\u001B[38;5;124m'\u001B[39m\u001B[38;5;124m_check_return_type\u001B[39m\u001B[38;5;124m'\u001B[39m] \u001B[38;5;241m=\u001B[39m kwargs\u001B[38;5;241m.\u001B[39mget(\n\u001B[1;32m    365\u001B[0m     \u001B[38;5;124m'\u001B[39m\u001B[38;5;124m_check_return_type\u001B[39m\u001B[38;5;124m'\u001B[39m, \u001B[38;5;28;01mTrue\u001B[39;00m\n\u001B[1;32m    366\u001B[0m )\n\u001B[1;32m    367\u001B[0m kwargs[\u001B[38;5;124m'\u001B[39m\u001B[38;5;124m_host_index\u001B[39m\u001B[38;5;124m'\u001B[39m] \u001B[38;5;241m=\u001B[39m kwargs\u001B[38;5;241m.\u001B[39mget(\u001B[38;5;124m'\u001B[39m\u001B[38;5;124m_host_index\u001B[39m\u001B[38;5;124m'\u001B[39m)\n\u001B[0;32m--> 368\u001B[0m \u001B[38;5;28;01mreturn\u001B[39;00m \u001B[38;5;28;43mself\u001B[39;49m\u001B[38;5;241;43m.\u001B[39;49m\u001B[43mcall_with_http_info\u001B[49m\u001B[43m(\u001B[49m\u001B[38;5;241;43m*\u001B[39;49m\u001B[38;5;241;43m*\u001B[39;49m\u001B[43mkwargs\u001B[49m\u001B[43m)\u001B[49m\n",
      "File \u001B[0;32m~/PycharmProjects/Spotify_2/streamlit_bot/lib/python3.10/site-packages/pinecone/core/client/api_client.py:838\u001B[0m, in \u001B[0;36mEndpoint.call_with_http_info\u001B[0;34m(self, **kwargs)\u001B[0m\n\u001B[1;32m    834\u001B[0m     header_list \u001B[38;5;241m=\u001B[39m \u001B[38;5;28mself\u001B[39m\u001B[38;5;241m.\u001B[39mapi_client\u001B[38;5;241m.\u001B[39mselect_header_content_type(\n\u001B[1;32m    835\u001B[0m         content_type_headers_list)\n\u001B[1;32m    836\u001B[0m     params[\u001B[38;5;124m'\u001B[39m\u001B[38;5;124mheader\u001B[39m\u001B[38;5;124m'\u001B[39m][\u001B[38;5;124m'\u001B[39m\u001B[38;5;124mContent-Type\u001B[39m\u001B[38;5;124m'\u001B[39m] \u001B[38;5;241m=\u001B[39m header_list\n\u001B[0;32m--> 838\u001B[0m \u001B[38;5;28;01mreturn\u001B[39;00m \u001B[38;5;28;43mself\u001B[39;49m\u001B[38;5;241;43m.\u001B[39;49m\u001B[43mapi_client\u001B[49m\u001B[38;5;241;43m.\u001B[39;49m\u001B[43mcall_api\u001B[49m\u001B[43m(\u001B[49m\n\u001B[1;32m    839\u001B[0m \u001B[43m    \u001B[49m\u001B[38;5;28;43mself\u001B[39;49m\u001B[38;5;241;43m.\u001B[39;49m\u001B[43msettings\u001B[49m\u001B[43m[\u001B[49m\u001B[38;5;124;43m'\u001B[39;49m\u001B[38;5;124;43mendpoint_path\u001B[39;49m\u001B[38;5;124;43m'\u001B[39;49m\u001B[43m]\u001B[49m\u001B[43m,\u001B[49m\u001B[43m \u001B[49m\u001B[38;5;28;43mself\u001B[39;49m\u001B[38;5;241;43m.\u001B[39;49m\u001B[43msettings\u001B[49m\u001B[43m[\u001B[49m\u001B[38;5;124;43m'\u001B[39;49m\u001B[38;5;124;43mhttp_method\u001B[39;49m\u001B[38;5;124;43m'\u001B[39;49m\u001B[43m]\u001B[49m\u001B[43m,\u001B[49m\n\u001B[1;32m    840\u001B[0m \u001B[43m    \u001B[49m\u001B[43mparams\u001B[49m\u001B[43m[\u001B[49m\u001B[38;5;124;43m'\u001B[39;49m\u001B[38;5;124;43mpath\u001B[39;49m\u001B[38;5;124;43m'\u001B[39;49m\u001B[43m]\u001B[49m\u001B[43m,\u001B[49m\n\u001B[1;32m    841\u001B[0m \u001B[43m    \u001B[49m\u001B[43mparams\u001B[49m\u001B[43m[\u001B[49m\u001B[38;5;124;43m'\u001B[39;49m\u001B[38;5;124;43mquery\u001B[39;49m\u001B[38;5;124;43m'\u001B[39;49m\u001B[43m]\u001B[49m\u001B[43m,\u001B[49m\n\u001B[1;32m    842\u001B[0m \u001B[43m    \u001B[49m\u001B[43mparams\u001B[49m\u001B[43m[\u001B[49m\u001B[38;5;124;43m'\u001B[39;49m\u001B[38;5;124;43mheader\u001B[39;49m\u001B[38;5;124;43m'\u001B[39;49m\u001B[43m]\u001B[49m\u001B[43m,\u001B[49m\n\u001B[1;32m    843\u001B[0m \u001B[43m    \u001B[49m\u001B[43mbody\u001B[49m\u001B[38;5;241;43m=\u001B[39;49m\u001B[43mparams\u001B[49m\u001B[43m[\u001B[49m\u001B[38;5;124;43m'\u001B[39;49m\u001B[38;5;124;43mbody\u001B[39;49m\u001B[38;5;124;43m'\u001B[39;49m\u001B[43m]\u001B[49m\u001B[43m,\u001B[49m\n\u001B[1;32m    844\u001B[0m \u001B[43m    \u001B[49m\u001B[43mpost_params\u001B[49m\u001B[38;5;241;43m=\u001B[39;49m\u001B[43mparams\u001B[49m\u001B[43m[\u001B[49m\u001B[38;5;124;43m'\u001B[39;49m\u001B[38;5;124;43mform\u001B[39;49m\u001B[38;5;124;43m'\u001B[39;49m\u001B[43m]\u001B[49m\u001B[43m,\u001B[49m\n\u001B[1;32m    845\u001B[0m \u001B[43m    \u001B[49m\u001B[43mfiles\u001B[49m\u001B[38;5;241;43m=\u001B[39;49m\u001B[43mparams\u001B[49m\u001B[43m[\u001B[49m\u001B[38;5;124;43m'\u001B[39;49m\u001B[38;5;124;43mfile\u001B[39;49m\u001B[38;5;124;43m'\u001B[39;49m\u001B[43m]\u001B[49m\u001B[43m,\u001B[49m\n\u001B[1;32m    846\u001B[0m \u001B[43m    \u001B[49m\u001B[43mresponse_type\u001B[49m\u001B[38;5;241;43m=\u001B[39;49m\u001B[38;5;28;43mself\u001B[39;49m\u001B[38;5;241;43m.\u001B[39;49m\u001B[43msettings\u001B[49m\u001B[43m[\u001B[49m\u001B[38;5;124;43m'\u001B[39;49m\u001B[38;5;124;43mresponse_type\u001B[39;49m\u001B[38;5;124;43m'\u001B[39;49m\u001B[43m]\u001B[49m\u001B[43m,\u001B[49m\n\u001B[1;32m    847\u001B[0m \u001B[43m    \u001B[49m\u001B[43mauth_settings\u001B[49m\u001B[38;5;241;43m=\u001B[39;49m\u001B[38;5;28;43mself\u001B[39;49m\u001B[38;5;241;43m.\u001B[39;49m\u001B[43msettings\u001B[49m\u001B[43m[\u001B[49m\u001B[38;5;124;43m'\u001B[39;49m\u001B[38;5;124;43mauth\u001B[39;49m\u001B[38;5;124;43m'\u001B[39;49m\u001B[43m]\u001B[49m\u001B[43m,\u001B[49m\n\u001B[1;32m    848\u001B[0m \u001B[43m    \u001B[49m\u001B[43masync_req\u001B[49m\u001B[38;5;241;43m=\u001B[39;49m\u001B[43mkwargs\u001B[49m\u001B[43m[\u001B[49m\u001B[38;5;124;43m'\u001B[39;49m\u001B[38;5;124;43masync_req\u001B[39;49m\u001B[38;5;124;43m'\u001B[39;49m\u001B[43m]\u001B[49m\u001B[43m,\u001B[49m\n\u001B[1;32m    849\u001B[0m \u001B[43m    \u001B[49m\u001B[43m_check_type\u001B[49m\u001B[38;5;241;43m=\u001B[39;49m\u001B[43mkwargs\u001B[49m\u001B[43m[\u001B[49m\u001B[38;5;124;43m'\u001B[39;49m\u001B[38;5;124;43m_check_return_type\u001B[39;49m\u001B[38;5;124;43m'\u001B[39;49m\u001B[43m]\u001B[49m\u001B[43m,\u001B[49m\n\u001B[1;32m    850\u001B[0m \u001B[43m    \u001B[49m\u001B[43m_return_http_data_only\u001B[49m\u001B[38;5;241;43m=\u001B[39;49m\u001B[43mkwargs\u001B[49m\u001B[43m[\u001B[49m\u001B[38;5;124;43m'\u001B[39;49m\u001B[38;5;124;43m_return_http_data_only\u001B[39;49m\u001B[38;5;124;43m'\u001B[39;49m\u001B[43m]\u001B[49m\u001B[43m,\u001B[49m\n\u001B[1;32m    851\u001B[0m \u001B[43m    \u001B[49m\u001B[43m_preload_content\u001B[49m\u001B[38;5;241;43m=\u001B[39;49m\u001B[43mkwargs\u001B[49m\u001B[43m[\u001B[49m\u001B[38;5;124;43m'\u001B[39;49m\u001B[38;5;124;43m_preload_content\u001B[39;49m\u001B[38;5;124;43m'\u001B[39;49m\u001B[43m]\u001B[49m\u001B[43m,\u001B[49m\n\u001B[1;32m    852\u001B[0m \u001B[43m    \u001B[49m\u001B[43m_request_timeout\u001B[49m\u001B[38;5;241;43m=\u001B[39;49m\u001B[43mkwargs\u001B[49m\u001B[43m[\u001B[49m\u001B[38;5;124;43m'\u001B[39;49m\u001B[38;5;124;43m_request_timeout\u001B[39;49m\u001B[38;5;124;43m'\u001B[39;49m\u001B[43m]\u001B[49m\u001B[43m,\u001B[49m\n\u001B[1;32m    853\u001B[0m \u001B[43m    \u001B[49m\u001B[43m_host\u001B[49m\u001B[38;5;241;43m=\u001B[39;49m\u001B[43m_host\u001B[49m\u001B[43m,\u001B[49m\n\u001B[1;32m    854\u001B[0m \u001B[43m    \u001B[49m\u001B[43mcollection_formats\u001B[49m\u001B[38;5;241;43m=\u001B[39;49m\u001B[43mparams\u001B[49m\u001B[43m[\u001B[49m\u001B[38;5;124;43m'\u001B[39;49m\u001B[38;5;124;43mcollection_format\u001B[39;49m\u001B[38;5;124;43m'\u001B[39;49m\u001B[43m]\u001B[49m\u001B[43m)\u001B[49m\n",
      "File \u001B[0;32m~/PycharmProjects/Spotify_2/streamlit_bot/lib/python3.10/site-packages/pinecone/core/client/api_client.py:413\u001B[0m, in \u001B[0;36mApiClient.call_api\u001B[0;34m(self, resource_path, method, path_params, query_params, header_params, body, post_params, files, response_type, auth_settings, async_req, _return_http_data_only, collection_formats, _preload_content, _request_timeout, _host, _check_type)\u001B[0m\n\u001B[1;32m    359\u001B[0m \u001B[38;5;250m\u001B[39m\u001B[38;5;124;03m\"\"\"Makes the HTTP request (synchronous) and returns deserialized data.\u001B[39;00m\n\u001B[1;32m    360\u001B[0m \n\u001B[1;32m    361\u001B[0m \u001B[38;5;124;03mTo make an async_req request, set the async_req parameter.\u001B[39;00m\n\u001B[0;32m   (...)\u001B[0m\n\u001B[1;32m    410\u001B[0m \u001B[38;5;124;03m    then the method will return the response directly.\u001B[39;00m\n\u001B[1;32m    411\u001B[0m \u001B[38;5;124;03m\"\"\"\u001B[39;00m\n\u001B[1;32m    412\u001B[0m \u001B[38;5;28;01mif\u001B[39;00m \u001B[38;5;129;01mnot\u001B[39;00m async_req:\n\u001B[0;32m--> 413\u001B[0m     \u001B[38;5;28;01mreturn\u001B[39;00m \u001B[38;5;28;43mself\u001B[39;49m\u001B[38;5;241;43m.\u001B[39;49m\u001B[43m__call_api\u001B[49m\u001B[43m(\u001B[49m\u001B[43mresource_path\u001B[49m\u001B[43m,\u001B[49m\u001B[43m \u001B[49m\u001B[43mmethod\u001B[49m\u001B[43m,\u001B[49m\n\u001B[1;32m    414\u001B[0m \u001B[43m                           \u001B[49m\u001B[43mpath_params\u001B[49m\u001B[43m,\u001B[49m\u001B[43m \u001B[49m\u001B[43mquery_params\u001B[49m\u001B[43m,\u001B[49m\u001B[43m \u001B[49m\u001B[43mheader_params\u001B[49m\u001B[43m,\u001B[49m\n\u001B[1;32m    415\u001B[0m \u001B[43m                           \u001B[49m\u001B[43mbody\u001B[49m\u001B[43m,\u001B[49m\u001B[43m \u001B[49m\u001B[43mpost_params\u001B[49m\u001B[43m,\u001B[49m\u001B[43m \u001B[49m\u001B[43mfiles\u001B[49m\u001B[43m,\u001B[49m\n\u001B[1;32m    416\u001B[0m \u001B[43m                           \u001B[49m\u001B[43mresponse_type\u001B[49m\u001B[43m,\u001B[49m\u001B[43m \u001B[49m\u001B[43mauth_settings\u001B[49m\u001B[43m,\u001B[49m\n\u001B[1;32m    417\u001B[0m \u001B[43m                           \u001B[49m\u001B[43m_return_http_data_only\u001B[49m\u001B[43m,\u001B[49m\u001B[43m \u001B[49m\u001B[43mcollection_formats\u001B[49m\u001B[43m,\u001B[49m\n\u001B[1;32m    418\u001B[0m \u001B[43m                           \u001B[49m\u001B[43m_preload_content\u001B[49m\u001B[43m,\u001B[49m\u001B[43m \u001B[49m\u001B[43m_request_timeout\u001B[49m\u001B[43m,\u001B[49m\u001B[43m \u001B[49m\u001B[43m_host\u001B[49m\u001B[43m,\u001B[49m\n\u001B[1;32m    419\u001B[0m \u001B[43m                           \u001B[49m\u001B[43m_check_type\u001B[49m\u001B[43m)\u001B[49m\n\u001B[1;32m    421\u001B[0m \u001B[38;5;28;01mreturn\u001B[39;00m \u001B[38;5;28mself\u001B[39m\u001B[38;5;241m.\u001B[39mpool\u001B[38;5;241m.\u001B[39mapply_async(\u001B[38;5;28mself\u001B[39m\u001B[38;5;241m.\u001B[39m__call_api, (resource_path,\n\u001B[1;32m    422\u001B[0m                                                method, path_params,\n\u001B[1;32m    423\u001B[0m                                                query_params,\n\u001B[0;32m   (...)\u001B[0m\n\u001B[1;32m    431\u001B[0m                                                _request_timeout,\n\u001B[1;32m    432\u001B[0m                                                _host, _check_type))\n",
      "File \u001B[0;32m~/PycharmProjects/Spotify_2/streamlit_bot/lib/python3.10/site-packages/pinecone/core/client/api_client.py:207\u001B[0m, in \u001B[0;36mApiClient.__call_api\u001B[0;34m(self, resource_path, method, path_params, query_params, header_params, body, post_params, files, response_type, auth_settings, _return_http_data_only, collection_formats, _preload_content, _request_timeout, _host, _check_type)\u001B[0m\n\u001B[1;32m    205\u001B[0m \u001B[38;5;28;01mexcept\u001B[39;00m ApiException \u001B[38;5;28;01mas\u001B[39;00m e:\n\u001B[1;32m    206\u001B[0m     e\u001B[38;5;241m.\u001B[39mbody \u001B[38;5;241m=\u001B[39m e\u001B[38;5;241m.\u001B[39mbody\u001B[38;5;241m.\u001B[39mdecode(\u001B[38;5;124m'\u001B[39m\u001B[38;5;124mutf-8\u001B[39m\u001B[38;5;124m'\u001B[39m)\n\u001B[0;32m--> 207\u001B[0m     \u001B[38;5;28;01mraise\u001B[39;00m e\n\u001B[1;32m    209\u001B[0m \u001B[38;5;28mself\u001B[39m\u001B[38;5;241m.\u001B[39mlast_response \u001B[38;5;241m=\u001B[39m response_data\n\u001B[1;32m    211\u001B[0m return_data \u001B[38;5;241m=\u001B[39m response_data\n",
      "File \u001B[0;32m~/PycharmProjects/Spotify_2/streamlit_bot/lib/python3.10/site-packages/pinecone/core/client/api_client.py:200\u001B[0m, in \u001B[0;36mApiClient.__call_api\u001B[0;34m(self, resource_path, method, path_params, query_params, header_params, body, post_params, files, response_type, auth_settings, _return_http_data_only, collection_formats, _preload_content, _request_timeout, _host, _check_type)\u001B[0m\n\u001B[1;32m    196\u001B[0m     url \u001B[38;5;241m=\u001B[39m _host \u001B[38;5;241m+\u001B[39m resource_path\n\u001B[1;32m    198\u001B[0m \u001B[38;5;28;01mtry\u001B[39;00m:\n\u001B[1;32m    199\u001B[0m     \u001B[38;5;66;03m# perform request and return response\u001B[39;00m\n\u001B[0;32m--> 200\u001B[0m     response_data \u001B[38;5;241m=\u001B[39m \u001B[38;5;28;43mself\u001B[39;49m\u001B[38;5;241;43m.\u001B[39;49m\u001B[43mrequest\u001B[49m\u001B[43m(\u001B[49m\n\u001B[1;32m    201\u001B[0m \u001B[43m        \u001B[49m\u001B[43mmethod\u001B[49m\u001B[43m,\u001B[49m\u001B[43m \u001B[49m\u001B[43murl\u001B[49m\u001B[43m,\u001B[49m\u001B[43m \u001B[49m\u001B[43mquery_params\u001B[49m\u001B[38;5;241;43m=\u001B[39;49m\u001B[43mquery_params\u001B[49m\u001B[43m,\u001B[49m\u001B[43m \u001B[49m\u001B[43mheaders\u001B[49m\u001B[38;5;241;43m=\u001B[39;49m\u001B[43mheader_params\u001B[49m\u001B[43m,\u001B[49m\n\u001B[1;32m    202\u001B[0m \u001B[43m        \u001B[49m\u001B[43mpost_params\u001B[49m\u001B[38;5;241;43m=\u001B[39;49m\u001B[43mpost_params\u001B[49m\u001B[43m,\u001B[49m\u001B[43m \u001B[49m\u001B[43mbody\u001B[49m\u001B[38;5;241;43m=\u001B[39;49m\u001B[43mbody\u001B[49m\u001B[43m,\u001B[49m\n\u001B[1;32m    203\u001B[0m \u001B[43m        \u001B[49m\u001B[43m_preload_content\u001B[49m\u001B[38;5;241;43m=\u001B[39;49m\u001B[43m_preload_content\u001B[49m\u001B[43m,\u001B[49m\n\u001B[1;32m    204\u001B[0m \u001B[43m        \u001B[49m\u001B[43m_request_timeout\u001B[49m\u001B[38;5;241;43m=\u001B[39;49m\u001B[43m_request_timeout\u001B[49m\u001B[43m)\u001B[49m\n\u001B[1;32m    205\u001B[0m \u001B[38;5;28;01mexcept\u001B[39;00m ApiException \u001B[38;5;28;01mas\u001B[39;00m e:\n\u001B[1;32m    206\u001B[0m     e\u001B[38;5;241m.\u001B[39mbody \u001B[38;5;241m=\u001B[39m e\u001B[38;5;241m.\u001B[39mbody\u001B[38;5;241m.\u001B[39mdecode(\u001B[38;5;124m'\u001B[39m\u001B[38;5;124mutf-8\u001B[39m\u001B[38;5;124m'\u001B[39m)\n",
      "File \u001B[0;32m~/PycharmProjects/Spotify_2/streamlit_bot/lib/python3.10/site-packages/pinecone/core/client/api_client.py:459\u001B[0m, in \u001B[0;36mApiClient.request\u001B[0;34m(self, method, url, query_params, headers, post_params, body, _preload_content, _request_timeout)\u001B[0m\n\u001B[1;32m    451\u001B[0m     \u001B[38;5;28;01mreturn\u001B[39;00m \u001B[38;5;28mself\u001B[39m\u001B[38;5;241m.\u001B[39mrest_client\u001B[38;5;241m.\u001B[39mOPTIONS(url,\n\u001B[1;32m    452\u001B[0m                                     query_params\u001B[38;5;241m=\u001B[39mquery_params,\n\u001B[1;32m    453\u001B[0m                                     headers\u001B[38;5;241m=\u001B[39mheaders,\n\u001B[0;32m   (...)\u001B[0m\n\u001B[1;32m    456\u001B[0m                                     _request_timeout\u001B[38;5;241m=\u001B[39m_request_timeout,\n\u001B[1;32m    457\u001B[0m                                     body\u001B[38;5;241m=\u001B[39mbody)\n\u001B[1;32m    458\u001B[0m \u001B[38;5;28;01melif\u001B[39;00m method \u001B[38;5;241m==\u001B[39m \u001B[38;5;124m\"\u001B[39m\u001B[38;5;124mPOST\u001B[39m\u001B[38;5;124m\"\u001B[39m:\n\u001B[0;32m--> 459\u001B[0m     \u001B[38;5;28;01mreturn\u001B[39;00m \u001B[38;5;28;43mself\u001B[39;49m\u001B[38;5;241;43m.\u001B[39;49m\u001B[43mrest_client\u001B[49m\u001B[38;5;241;43m.\u001B[39;49m\u001B[43mPOST\u001B[49m\u001B[43m(\u001B[49m\u001B[43murl\u001B[49m\u001B[43m,\u001B[49m\n\u001B[1;32m    460\u001B[0m \u001B[43m                                 \u001B[49m\u001B[43mquery_params\u001B[49m\u001B[38;5;241;43m=\u001B[39;49m\u001B[43mquery_params\u001B[49m\u001B[43m,\u001B[49m\n\u001B[1;32m    461\u001B[0m \u001B[43m                                 \u001B[49m\u001B[43mheaders\u001B[49m\u001B[38;5;241;43m=\u001B[39;49m\u001B[43mheaders\u001B[49m\u001B[43m,\u001B[49m\n\u001B[1;32m    462\u001B[0m \u001B[43m                                 \u001B[49m\u001B[43mpost_params\u001B[49m\u001B[38;5;241;43m=\u001B[39;49m\u001B[43mpost_params\u001B[49m\u001B[43m,\u001B[49m\n\u001B[1;32m    463\u001B[0m \u001B[43m                                 \u001B[49m\u001B[43m_preload_content\u001B[49m\u001B[38;5;241;43m=\u001B[39;49m\u001B[43m_preload_content\u001B[49m\u001B[43m,\u001B[49m\n\u001B[1;32m    464\u001B[0m \u001B[43m                                 \u001B[49m\u001B[43m_request_timeout\u001B[49m\u001B[38;5;241;43m=\u001B[39;49m\u001B[43m_request_timeout\u001B[49m\u001B[43m,\u001B[49m\n\u001B[1;32m    465\u001B[0m \u001B[43m                                 \u001B[49m\u001B[43mbody\u001B[49m\u001B[38;5;241;43m=\u001B[39;49m\u001B[43mbody\u001B[49m\u001B[43m)\u001B[49m\n\u001B[1;32m    466\u001B[0m \u001B[38;5;28;01melif\u001B[39;00m method \u001B[38;5;241m==\u001B[39m \u001B[38;5;124m\"\u001B[39m\u001B[38;5;124mPUT\u001B[39m\u001B[38;5;124m\"\u001B[39m:\n\u001B[1;32m    467\u001B[0m     \u001B[38;5;28;01mreturn\u001B[39;00m \u001B[38;5;28mself\u001B[39m\u001B[38;5;241m.\u001B[39mrest_client\u001B[38;5;241m.\u001B[39mPUT(url,\n\u001B[1;32m    468\u001B[0m                                 query_params\u001B[38;5;241m=\u001B[39mquery_params,\n\u001B[1;32m    469\u001B[0m                                 headers\u001B[38;5;241m=\u001B[39mheaders,\n\u001B[0;32m   (...)\u001B[0m\n\u001B[1;32m    472\u001B[0m                                 _request_timeout\u001B[38;5;241m=\u001B[39m_request_timeout,\n\u001B[1;32m    473\u001B[0m                                 body\u001B[38;5;241m=\u001B[39mbody)\n",
      "File \u001B[0;32m~/PycharmProjects/Spotify_2/streamlit_bot/lib/python3.10/site-packages/pinecone/core/client/rest.py:271\u001B[0m, in \u001B[0;36mRESTClientObject.POST\u001B[0;34m(self, url, headers, query_params, post_params, body, _preload_content, _request_timeout)\u001B[0m\n\u001B[1;32m    269\u001B[0m \u001B[38;5;28;01mdef\u001B[39;00m \u001B[38;5;21mPOST\u001B[39m(\u001B[38;5;28mself\u001B[39m, url, headers\u001B[38;5;241m=\u001B[39m\u001B[38;5;28;01mNone\u001B[39;00m, query_params\u001B[38;5;241m=\u001B[39m\u001B[38;5;28;01mNone\u001B[39;00m, post_params\u001B[38;5;241m=\u001B[39m\u001B[38;5;28;01mNone\u001B[39;00m,\n\u001B[1;32m    270\u001B[0m          body\u001B[38;5;241m=\u001B[39m\u001B[38;5;28;01mNone\u001B[39;00m, _preload_content\u001B[38;5;241m=\u001B[39m\u001B[38;5;28;01mTrue\u001B[39;00m, _request_timeout\u001B[38;5;241m=\u001B[39m\u001B[38;5;28;01mNone\u001B[39;00m):\n\u001B[0;32m--> 271\u001B[0m     \u001B[38;5;28;01mreturn\u001B[39;00m \u001B[38;5;28;43mself\u001B[39;49m\u001B[38;5;241;43m.\u001B[39;49m\u001B[43mrequest\u001B[49m\u001B[43m(\u001B[49m\u001B[38;5;124;43m\"\u001B[39;49m\u001B[38;5;124;43mPOST\u001B[39;49m\u001B[38;5;124;43m\"\u001B[39;49m\u001B[43m,\u001B[49m\u001B[43m \u001B[49m\u001B[43murl\u001B[49m\u001B[43m,\u001B[49m\n\u001B[1;32m    272\u001B[0m \u001B[43m                        \u001B[49m\u001B[43mheaders\u001B[49m\u001B[38;5;241;43m=\u001B[39;49m\u001B[43mheaders\u001B[49m\u001B[43m,\u001B[49m\n\u001B[1;32m    273\u001B[0m \u001B[43m                        \u001B[49m\u001B[43mquery_params\u001B[49m\u001B[38;5;241;43m=\u001B[39;49m\u001B[43mquery_params\u001B[49m\u001B[43m,\u001B[49m\n\u001B[1;32m    274\u001B[0m \u001B[43m                        \u001B[49m\u001B[43mpost_params\u001B[49m\u001B[38;5;241;43m=\u001B[39;49m\u001B[43mpost_params\u001B[49m\u001B[43m,\u001B[49m\n\u001B[1;32m    275\u001B[0m \u001B[43m                        \u001B[49m\u001B[43m_preload_content\u001B[49m\u001B[38;5;241;43m=\u001B[39;49m\u001B[43m_preload_content\u001B[49m\u001B[43m,\u001B[49m\n\u001B[1;32m    276\u001B[0m \u001B[43m                        \u001B[49m\u001B[43m_request_timeout\u001B[49m\u001B[38;5;241;43m=\u001B[39;49m\u001B[43m_request_timeout\u001B[49m\u001B[43m,\u001B[49m\n\u001B[1;32m    277\u001B[0m \u001B[43m                        \u001B[49m\u001B[43mbody\u001B[49m\u001B[38;5;241;43m=\u001B[39;49m\u001B[43mbody\u001B[49m\u001B[43m)\u001B[49m\n",
      "File \u001B[0;32m~/PycharmProjects/Spotify_2/streamlit_bot/lib/python3.10/site-packages/pinecone/core/client/rest.py:230\u001B[0m, in \u001B[0;36mRESTClientObject.request\u001B[0;34m(self, method, url, query_params, headers, body, post_params, _preload_content, _request_timeout)\u001B[0m\n\u001B[1;32m    227\u001B[0m     \u001B[38;5;28;01mif\u001B[39;00m \u001B[38;5;241m500\u001B[39m \u001B[38;5;241m<\u001B[39m\u001B[38;5;241m=\u001B[39m r\u001B[38;5;241m.\u001B[39mstatus \u001B[38;5;241m<\u001B[39m\u001B[38;5;241m=\u001B[39m \u001B[38;5;241m599\u001B[39m:\n\u001B[1;32m    228\u001B[0m         \u001B[38;5;28;01mraise\u001B[39;00m ServiceException(http_resp\u001B[38;5;241m=\u001B[39mr)\n\u001B[0;32m--> 230\u001B[0m     \u001B[38;5;28;01mraise\u001B[39;00m ApiException(http_resp\u001B[38;5;241m=\u001B[39mr)\n\u001B[1;32m    232\u001B[0m \u001B[38;5;28;01mreturn\u001B[39;00m r\n",
      "\u001B[0;31mApiException\u001B[0m: (400)\nReason: Bad Request\nHTTP response headers: HTTPHeaderDict({'content-type': 'text/plain; charset=UTF-8', 'date': 'Tue, 10 Oct 2023 19:53:29 GMT', 'x-envoy-upstream-service-time': '779', 'content-length': '131', 'server': 'envoy'})\nHTTP response body: The index exceeds the project quota of 1 pods by 1 pods. Upgrade your account or change the project settings to increase the quota.\n"
     ]
    }
   ],
   "source": [
    "# create a pinecone index\n",
    "pinecone.create_index(\"python-index\", dimension=1536, metric=\"cosine\")"
   ],
   "metadata": {
    "collapsed": false,
    "ExecuteTime": {
     "end_time": "2023-10-10T19:53:30.044399Z",
     "start_time": "2023-10-10T19:53:28.558088Z"
    }
   },
   "id": "a416ab938d53caa"
  },
  {
   "cell_type": "code",
   "execution_count": 39,
   "id": "0deb2f6a",
   "metadata": {
    "ExecuteTime": {
     "end_time": "2023-10-10T19:53:32.588717Z",
     "start_time": "2023-10-10T19:53:31.840174Z"
    }
   },
   "outputs": [],
   "source": [
    "# initialize pinecone\n",
    "pinecone.init(\n",
    "    api_key=PINECONE_API_KEY,  # find at app.pinecone.io\n",
    "    environment=PINECONE_API_ENV  # next to API key in console\n",
    ")\n",
    "\n",
    "index_name = \"python-index\" # put in the name of your pinecone index here"
   ]
  },
  {
   "cell_type": "code",
   "execution_count": 40,
   "outputs": [],
   "source": [
    "docsearch = Pinecone.from_texts([t.page_content for t in texts], embeddings, index_name=index_name)"
   ],
   "metadata": {
    "collapsed": false,
    "ExecuteTime": {
     "end_time": "2023-10-10T19:53:44.558039Z",
     "start_time": "2023-10-10T19:53:34.047609Z"
    }
   },
   "id": "1d5fe7bfef4edb7f"
  },
  {
   "cell_type": "code",
   "execution_count": 23,
   "outputs": [],
   "source": [
    "# if you already have an index, you can load it like this\n",
    "#docsearch = Pinecone.from_existing_index(index_name, embeddings)"
   ],
   "metadata": {
    "collapsed": false,
    "ExecuteTime": {
     "end_time": "2023-10-10T19:50:04.106412Z",
     "start_time": "2023-10-10T19:50:02.574168Z"
    }
   },
   "id": "4b390bf8ee6b513b"
  },
  {
   "cell_type": "code",
   "execution_count": 41,
   "id": "34929595",
   "metadata": {
    "ExecuteTime": {
     "end_time": "2023-10-10T19:53:49.048853Z",
     "start_time": "2023-10-10T19:53:48.091987Z"
    }
   },
   "outputs": [],
   "source": [
    "query = \"What is article 1 about?\"\n",
    "docs = docsearch.similarity_search(query)"
   ]
  },
  {
   "cell_type": "markdown",
   "source": [
    "the function of similarity_search is defined as follows:\n",
    "\n",
    "\n",
    "def similarity_search(\n",
    "    self,\n",
    "    query: str,\n",
    "    k: int = 4,\n",
    "    filter: dict | None = None,\n",
    "    namespace: str | None = None,\n",
    "    **kwargs: Any) -> list[Document]\n",
    "\n",
    "\n",
    "The Query is the text that you want to search for. The k is the number of documents that you want to return. The filter is a dictionary of filters that you can use to filter your results. The namespace is the namespace of your index. The **kwargs are any other arguments that you want to pass to the pinecone library.\n",
    "\n",
    "By default, it will return the top 4 documents that are most similar to your query. You can change this by changing the k parameter.\n"
   ],
   "metadata": {
    "collapsed": false
   },
   "id": "5937579e86312da5"
  },
  {
   "cell_type": "code",
   "execution_count": 42,
   "outputs": [
    {
     "data": {
      "text/plain": "[Document(page_content='ÍNDEX\\nI\\nPART:\\nREGLAMENT\\nDE\\nRÈGIM\\nINTERN\\n...........................................................................................\\n6\\nPREÀMBUL\\n.......................................................................................................................................\\n6\\nTítol\\npreliminar \\nNATURALESA\\nI\\nFINALITAT\\nDEL\\nCOL·LEGI\\n.........................................................................................\\n7\\nCapítol\\n1r:\\nDEFINICIÓ\\nDEL\\nCOL·LEGI\\n.............................................................................................\\n8\\nCapítol\\n2n:\\nEL\\nMODEL\\nEDUCATIU\\nDE\\nL’ESCOLA\\n..........................................................................\\n8\\nCapítol\\n3r:\\nLA\\nCOMUNITAT\\nEDUCATIVA\\nDE\\nL’ESCOLA\\n.................................................................\\n9\\nTítol\\nprimer \\nÒRGANS\\nDE\\nGOVERN\\nI\\nGESTIÓ\\nDEL\\nCOL·LEGI\\n..............................................................................\\n11\\nCapítol\\n1r:\\nL’ENTITAT\\nTITULAR\\nDEL\\nCENTRE'),\n Document(page_content='Títol\\nprimer\\nÒRGANS\\nDE\\nGOVERN\\nI\\nGESTIÓ\\nDEL\\nCOL·LEGI\\n11'),\n Document(page_content='.\\n2'),\n Document(page_content=\"Capítol\\n2n:\\nÒRGANS\\nDE\\nGOVERN\\nI\\nDE\\nDIRECCIÓ\\nUNIPERSONALS\\nArtícle\\n20\\nEls\\ncàrrecs\\nde\\ndirecció\\ni\\nde\\ncoordinació\\nunipersonals\\nno\\npodran\\nser\\nmembres\\ndel\\ncomitè \\nd’empresa\\ndel\\ncol·legi.\\n1.\\nEl\\ntitular\\ndel\\ncentre\\nArtícle\\n21\\n1.\\nEl\\ntitular\\ndel\\ncentre\\nés\\nel\\nrepresentant\\nordinari\\nde\\nl’entitat\\ntitular\\nen\\nla\\ncomunitat\\neducativa\\ni \\ndavant\\nel\\nDepartament\\nd’Ensenyament\\nde\\nla\\nGeneralitat.\\n2.\\nEl\\ntitular\\ndel\\ncentre\\npresideix\\nl’equip\\ndirectiu\\ni\\nparticipa\\nen\\nles\\nreunions\\ndel\\nconsell\\nescolar.\\nArtícle\\n22\\nLes\\nfuncions\\ndel\\ntitular\\ndel\\ncentre\\nsón\\nles\\nsegüents:\\na)\\nOstentar\\nhabitualment\\nla\\nrepresentació\\nde\\nl’escola\\ndavant\\ntota\\nmena\\nd'instàncies\\ncivils\\ni \\neclesiàstiques\\ni\\ndavant\\nels\\ndiferents\\nsectors\\nde\\nla\\ncomunitat\\neducativa\\nescolar.\\nb)\\nPromoure\\ni\\ncoordinar\\namb\\nel\\ndirector\\nla\\ndifusió,\\nel\\nconeixement\\ni\\nla\\ncorrecta\\naplicació\\ndel \\ncaràcter\\npropi\\ndel\\ncentre,\\naprovar\\nles\\ndirectrius\\npastorals\\nper\\nal\\ncentre\\ni\\nels\\naltres \\ndocuments\\nnormatius\\nde\\nl’entitat\\ntitular\\nper\\nals\\nseus\\ncentres\\neducatius,\\naixí\\ncom\\nel \\nseguiment\\ni\")]"
     },
     "execution_count": 42,
     "metadata": {},
     "output_type": "execute_result"
    }
   ],
   "source": [
    "docs"
   ],
   "metadata": {
    "collapsed": false,
    "ExecuteTime": {
     "end_time": "2023-10-10T19:53:54.288984Z",
     "start_time": "2023-10-10T19:53:54.284832Z"
    }
   },
   "id": "a1da57485da1ea47"
  },
  {
   "cell_type": "code",
   "execution_count": 43,
   "id": "4e0f5b45",
   "metadata": {
    "ExecuteTime": {
     "end_time": "2023-10-10T19:54:07.637353Z",
     "start_time": "2023-10-10T19:54:07.620871Z"
    }
   },
   "outputs": [
    {
     "name": "stdout",
     "output_type": "stream",
     "text": [
      "ÍNDEX\n",
      "I\n",
      "PART:\n",
      "REGLAMENT\n",
      "DE\n",
      "RÈGIM\n",
      "INTERN\n",
      "...........................................................................................\n",
      "6\n",
      "PREÀMBUL\n",
      ".......................................................................................................................................\n",
      "6\n",
      "Títol\n",
      "preliminar \n",
      "NATURALESA\n",
      "I\n",
      "FINALITAT\n",
      "DEL\n",
      "COL·LEGI\n",
      ".........................................................................................\n",
      "7\n",
      "Capítol\n",
      "1r:\n",
      "DEFINICIÓ\n",
      "D\n"
     ]
    }
   ],
   "source": [
    "# Here's an example of the first document that was returned\n",
    "print(docs[0].page_content[:450])"
   ]
  },
  {
   "cell_type": "markdown",
   "id": "3c35dcd9",
   "metadata": {
    "ExecuteTime": {
     "end_time": "2023-07-11T20:23:44.812819Z",
     "start_time": "2023-07-11T20:23:44.807162Z"
    }
   },
   "source": [
    "### Query those docs to get your answer back\n",
    "\n",
    "Here we will use the langchain library to create a question answering chain. We will then use the chain to query our documents and get back the answer to our question.\n",
    "\n",
    "If you want to know more about how to use the question answering chain, I wrote a Medium article about it here: https://medium.com/@rubentak/langchain-using-different-langchain-chains-to-write-a-new-episode-for-the-office-us-7c45d869d895"
   ]
  },
  {
   "cell_type": "code",
   "execution_count": 44,
   "id": "f051337b",
   "metadata": {
    "ExecuteTime": {
     "end_time": "2023-10-10T19:54:15.603703Z",
     "start_time": "2023-10-10T19:54:15.155095Z"
    }
   },
   "outputs": [],
   "source": [
    "from langchain.chains.question_answering import load_qa_chain\n",
    "from langchain.llms import OpenAI\n",
    "from langchain.chat_models import ChatOpenAI"
   ]
  },
  {
   "cell_type": "markdown",
   "source": [
    "Use GPT-4 model to answer questions"
   ],
   "metadata": {
    "collapsed": false
   },
   "id": "2294c263e88fe5a7"
  },
  {
   "cell_type": "code",
   "execution_count": 45,
   "id": "6b9b1c03",
   "metadata": {
    "ExecuteTime": {
     "end_time": "2023-10-10T19:54:17.633717Z",
     "start_time": "2023-10-10T19:54:17.622523Z"
    }
   },
   "outputs": [
    {
     "name": "stderr",
     "output_type": "stream",
     "text": [
      "/Users/erictak/PycharmProjects/Spotify_2/streamlit_bot/lib/python3.10/site-packages/langchain/llms/openai.py:216: UserWarning: You are trying to use a chat model. This way of initializing it is no longer supported. Instead, please use: `from langchain.chat_models import ChatOpenAI`\n",
      "  warnings.warn(\n",
      "/Users/erictak/PycharmProjects/Spotify_2/streamlit_bot/lib/python3.10/site-packages/langchain/llms/openai.py:811: UserWarning: You are trying to use a chat model. This way of initializing it is no longer supported. Instead, please use: `from langchain.chat_models import ChatOpenAI`\n",
      "  warnings.warn(\n"
     ]
    }
   ],
   "source": [
    "llm = OpenAI(temperature=0, openai_api_key=OPENAI_API_KEY, model_name='gpt-4')\n",
    "chain = load_qa_chain(llm, chain_type=\"stuff\")"
   ]
  },
  {
   "cell_type": "code",
   "execution_count": 51,
   "id": "f67ea7c2",
   "metadata": {
    "ExecuteTime": {
     "end_time": "2023-10-10T19:55:38.938432Z",
     "start_time": "2023-10-10T19:55:38.451567Z"
    }
   },
   "outputs": [],
   "source": [
    "query = \"What is El coordinador de pastoral educativa?\"\n",
    "docs = docsearch.similarity_search(query)"
   ]
  },
  {
   "cell_type": "code",
   "execution_count": 52,
   "id": "3dfd2b7d",
   "metadata": {
    "ExecuteTime": {
     "end_time": "2023-10-10T19:55:50.564592Z",
     "start_time": "2023-10-10T19:55:39.569374Z"
    }
   },
   "outputs": [
    {
     "data": {
      "text/plain": "\"El coordinador de pastoral educativa is a role in an educational institution. This person is appointed by the entity that owns the institution and works closely with the owner, the director, and the heads of studies to help achieve the educational objectives of the institution. The coordinator is part of the institution's management team and has various responsibilities, including leading and coordinating the action of the educational pastoral team, promoting the educational pastoral of the entire educational community, facilitating the integration of the school's Christian community and its evangelizing action in the pastoral reality of the diocesan Church, and keeping the management, heads of studies, and tutors informed of all activities that affect the students in their area or the normal development of the course.\""
     },
     "execution_count": 52,
     "metadata": {},
     "output_type": "execute_result"
    }
   ],
   "source": [
    "chain.run(input_documents=docs, question=query)"
   ]
  },
  {
   "cell_type": "code",
   "execution_count": 53,
   "outputs": [
    {
     "data": {
      "text/plain": "[Document(page_content='projecte\\neducatiu.\\n2.\\nEl\\ncoordinador\\nde\\npastoral\\nés\\nnomenat\\ni\\ncessat\\nper\\nl’entitat\\ntitular\\ndel\\ncentre\\ni\\nrealitza\\nles\\nseves \\nfuncions\\nen\\nestreta\\nrelació\\namb\\nel\\ntitular,\\nel\\ndirector\\ni\\nels\\ncaps\\nd’estudis,\\nen\\nordre\\na\\ncol·laborar\\nper \\nfer\\nrealitat\\nels\\nobjectius\\neducatius\\ndel\\ncentre\\nen\\ntotes\\nles\\netapes.\\n3.\\nEl\\nnomenament\\ndel\\ncoordinador\\nde\\npastoral\\nserà\\npel\\ntemps\\nque\\nestipuli\\nl’entitat\\ntitular\\ni\\npodrà\\nser \\nrenovat.\\n4.\\nEl\\ncoordinador\\nde\\npastoral\\neducativa\\nforma\\npart\\nde\\nl’equip\\ndirectiu\\ndel\\ncentre.\\nArtícle\\n33\\nLes\\nfuncions\\ndel\\ncoordinador\\nde\\npastoral\\neducativa\\nsón\\nles\\nsegüents:\\na)\\nAnimar\\ni\\ncoordinar\\nl’acció\\nde\\nl’equip\\nde\\npastoral\\neducativa\\ni\\nde\\ntots\\nels\\nseus\\nmembres,\\ni \\nconvocar\\ni\\npresidir\\nles\\nreunions.\\nb)\\nImpulsar\\nla\\nprogramació\\ni\\nrealització\\nde\\nles\\niniciatives\\ni\\nactivitats\\ntendents\\na\\nl’animació \\npastoral\\nde\\nl’escola\\ni\\nvetllar\\nperquè\\nel\\nconjunt\\nde\\nl’acció\\neducativa\\nes\\ndugui\\na\\nterme \\nd’acord\\namb\\nel\\nprojecte\\neducatiu\\ni\\nels\\nvalors\\nevangèlics\\ni\\nde\\nl’esperit\\ndels\\nMissioners\\ndel \\nSagrat\\nCor\\nde'),\n Document(page_content='Promoure\\nla\\npastoral\\neducativa\\ndel\\nconjunt\\nde\\nla\\ncomunitat\\neducativa,\\namb\\nla\\ncol·laboració \\nde\\nla\\njunta\\nde\\nl’associació\\nde\\npares\\ni\\nmares\\nd’alumnes.\\nd)\\nFacilitar\\nla\\ninserció\\nde\\nla\\ncomunitat\\ncristiana\\ndel\\ncol·legi\\ni\\nla\\nseva\\nacció\\nevangelitzadora\\nen \\nla\\nrealitat\\npastoral\\nde\\nl’Església\\ndiocesana.\\ne)\\nAvaluar\\nperiòdicament\\nla\\ntasca\\nduta\\na\\nterme\\ni\\nel\\ngrau\\nd’assoliment\\ndels\\nobjectius \\nproposats.\\nf)\\nMantenir\\ninformada\\nla\\ndirecció,\\nels\\ncaps\\nd’estudis\\ni\\nels\\ntutors\\nde\\ntotes\\nles\\nactivitats\\nque \\nafectin\\nels\\nalumnes\\ndel\\nseu\\nàmbit\\no\\nel\\nnormal\\ndesenvolupament\\ndel\\ncurs.\\n15.\\nL’equip\\nde\\npastoral\\neducativa\\nes\\nreuneix\\nsetmanalment\\ni\\nsempre\\nque\\nel\\nconvoca\\nel \\ncoordinador\\nde\\npastoral\\nd’acord\\namb\\nel\\ndirector\\ndel\\ncentre.\\n45'),\n Document(page_content=\"relacionen\\ndirectament\\namb\\nla\\nformació,\\nvivència\\ni\\norientació\\ncristiana\\nde \\nl’alumnat,\\ni\\ncol·labora\\nen\\nl’animació\\npastoral\\ndel\\nconjunt\\nde\\nla\\ncomunitat\\neducativa.\\n13.\\nL'equip\\nde\\npastoral\\neducativa\\nestà\\nformat\\npel\\ndirector\\ndel\\ncentre,\\nel\\ncoordinador\\nde\\npastoral\\ni \\nrepresentants\\no\\nvocals\\ndels\\ndiversos\\ncicles\\no\\netapes\\ndel\\ncol·legi.\\nTambé\\nhi\\npot\\nparticipar\\nalgun \\nmembre\\nde\\nla\\ncomunitat\\nde\\nMissioners\\ndel\\nSagrat\\nCor.\\n14.\\nLes\\nfuncions\\npròpies\\nde\\nl’equip\\nde\\npastoral\\neducativa\\nsón\\nles\\nsegüents:\\na)\\nImpulsar\\ni\\nanimar\\niniciatives\\nreferents\\na\\nla\\nmissió\\nevangelitzadora\\nde\\nl’escola\\ncristiana, \\namb\\nla\\ncol·laboració\\ndels\\nprofessors,\\ntutors,\\npares\\nd'alumnes\\ni\\naltres\\ncol·laboradors\\ni\\ntenint \\nen\\ncompte\\nles\\ncaracterístiques\\nde\\nla\\ncomunitat\\neducativa.\\nb)\\nCol·laborar\\nactivament\\nen\\nl’elaboració\\ndel\\nprojecte\\neducatiu\\ni\\nde\\nla\\nprogramació\\ngeneral \\ndel\\ncentre,\\nsobretot\\npel\\nque\\nfa\\na\\nles\\nactivitats\\nrelatives\\nal\\ndiàleg\\nfe-cultura\\ni\\na\\nles\\niniciatives \\nque\\nexpressen\\nla\\ndimensió\\nespecífica\\nde\\nl’escola\\ncristiana.\\nc)\"),\n Document(page_content='Jesús.\\nc)\\nProgramar\\ni\\ncoordinar\\nels\\nensenyaments\\nde\\ncaràcter\\nreligiós,\\nel\\ndiàleg\\nfe-cultura\\ni\\nles \\nactivitats\\ncomplementàries\\ni\\nextraescolars\\nde\\ncaràcter\\nespecíficament\\nevangelitzador, \\ncatequesi\\nextraescolar,\\netc.\\nd)\\nCol·laborar\\nen\\nla\\nprogramació\\ni\\nrealització\\ndel\\nconjunt\\nde\\nles\\nactivitats\\neducatives\\ndel \\ncentre\\ni\\nde\\nla\\ntasca\\norientadora\\ndels\\ntutors.\\ne)\\nOrientar\\nl’acció\\npastoral\\ndel\\ncol·legi\\nvers\\nuna\\nparticipació\\nresponsable\\nen\\nla\\ncomunitat \\ncristiana.\\nf)\\nMantenir\\nrelació\\nhabitual\\namb\\nels\\nresponsables\\nde\\nl’acció\\npastoral\\nde\\nl’Església\\nlocal\\ni \\nestablir\\namb\\nella\\nuna\\ncol·laboració\\neficaç.\\n17')]"
     },
     "execution_count": 53,
     "metadata": {},
     "output_type": "execute_result"
    }
   ],
   "source": [
    "docs"
   ],
   "metadata": {
    "collapsed": false,
    "ExecuteTime": {
     "end_time": "2023-10-10T19:56:00.837485Z",
     "start_time": "2023-10-10T19:56:00.815904Z"
    }
   },
   "id": "d54af84b9de76ac7"
  },
  {
   "cell_type": "code",
   "execution_count": 54,
   "outputs": [],
   "source": [
    "from langchain.document_loaders import PyPDFLoader\n",
    "from langchain.text_splitter import RecursiveCharacterTextSplitter\n",
    "from langchain.vectorstores import Pinecone\n",
    "from langchain.embeddings.openai import OpenAIEmbeddings\n",
    "from langchain.llms import OpenAI\n",
    "from langchain.chains.question_answering import load_qa_chain\n",
    "import pinecone\n",
    "from credentials import OPENAI_API_KEY, PINECONE_API_KEY, PINECONE_API_ENV"
   ],
   "metadata": {
    "collapsed": false,
    "ExecuteTime": {
     "end_time": "2023-10-10T19:56:07.455794Z",
     "start_time": "2023-10-10T19:56:07.447210Z"
    }
   },
   "id": "3f6bf8351492f151"
  },
  {
   "cell_type": "code",
   "execution_count": 63,
   "outputs": [],
   "source": [
    "def create_qa_bot(prompt):\n",
    "    # Load the PDF data\n",
    "    loader = PyPDFLoader(\"DM_DIR_PEC_JUNY_23.pdf\")\n",
    "    data = loader.load()\n",
    "\n",
    "    # Split the data into smaller documents\n",
    "    text_splitter = RecursiveCharacterTextSplitter(chunk_size=1000, chunk_overlap=0)\n",
    "    texts = text_splitter.split_documents(data)\n",
    "\n",
    "    # Create embeddings\n",
    "    embeddings = OpenAIEmbeddings(openai_api_key=OPENAI_API_KEY)\n",
    "\n",
    "    # Create a Pinecone index and add the documents to it\n",
    "    #pinecone.create_index(\"python-index\", dimension=1536, metric=\"cosine\")\n",
    "    pinecone.init(api_key=PINECONE_API_KEY, environment=PINECONE_API_ENV)\n",
    "    index_name = \"python-index\"\n",
    "    docsearch = Pinecone.from_texts([t.page_content for t in texts], embeddings, index_name=index_name)\n",
    "\n",
    "    # Perform similarity search\n",
    "    docs = docsearch.similarity_search(prompt)\n",
    "\n",
    "    # Load the question answering chain\n",
    "    llm = OpenAI(temperature=0, openai_api_key=OPENAI_API_KEY)\n",
    "    chain = load_qa_chain(llm, chain_type=\"stuff\")\n",
    "\n",
    "    # Query the documents and get the answer\n",
    "    answer = chain.run(input_documents=docs, question=prompt)\n",
    "\n",
    "    return answer"
   ],
   "metadata": {
    "collapsed": false,
    "ExecuteTime": {
     "end_time": "2023-10-10T20:30:45.195153Z",
     "start_time": "2023-10-10T20:30:45.186834Z"
    }
   },
   "id": "ea04193821b023bc"
  },
  {
   "cell_type": "code",
   "execution_count": 64,
   "outputs": [
    {
     "name": "stdout",
     "output_type": "stream",
     "text": [
      " The school was founded in 1898 by the Missioners del Sagrat Cor.\n",
      "[Document(page_content='projecte\\neducatiu.\\n2.\\nEl\\ncoordinador\\nde\\npastoral\\nés\\nnomenat\\ni\\ncessat\\nper\\nl’entitat\\ntitular\\ndel\\ncentre\\ni\\nrealitza\\nles\\nseves \\nfuncions\\nen\\nestreta\\nrelació\\namb\\nel\\ntitular,\\nel\\ndirector\\ni\\nels\\ncaps\\nd’estudis,\\nen\\nordre\\na\\ncol·laborar\\nper \\nfer\\nrealitat\\nels\\nobjectius\\neducatius\\ndel\\ncentre\\nen\\ntotes\\nles\\netapes.\\n3.\\nEl\\nnomenament\\ndel\\ncoordinador\\nde\\npastoral\\nserà\\npel\\ntemps\\nque\\nestipuli\\nl’entitat\\ntitular\\ni\\npodrà\\nser \\nrenovat.\\n4.\\nEl\\ncoordinador\\nde\\npastoral\\neducativa\\nforma\\npart\\nde\\nl’equip\\ndirectiu\\ndel\\ncentre.\\nArtícle\\n33\\nLes\\nfuncions\\ndel\\ncoordinador\\nde\\npastoral\\neducativa\\nsón\\nles\\nsegüents:\\na)\\nAnimar\\ni\\ncoordinar\\nl’acció\\nde\\nl’equip\\nde\\npastoral\\neducativa\\ni\\nde\\ntots\\nels\\nseus\\nmembres,\\ni \\nconvocar\\ni\\npresidir\\nles\\nreunions.\\nb)\\nImpulsar\\nla\\nprogramació\\ni\\nrealització\\nde\\nles\\niniciatives\\ni\\nactivitats\\ntendents\\na\\nl’animació \\npastoral\\nde\\nl’escola\\ni\\nvetllar\\nperquè\\nel\\nconjunt\\nde\\nl’acció\\neducativa\\nes\\ndugui\\na\\nterme \\nd’acord\\namb\\nel\\nprojecte\\neducatiu\\ni\\nels\\nvalors\\nevangèlics\\ni\\nde\\nl’esperit\\ndels\\nMissioners\\ndel \\nSagrat\\nCor\\nde'), Document(page_content='Promoure\\nla\\npastoral\\neducativa\\ndel\\nconjunt\\nde\\nla\\ncomunitat\\neducativa,\\namb\\nla\\ncol·laboració \\nde\\nla\\njunta\\nde\\nl’associació\\nde\\npares\\ni\\nmares\\nd’alumnes.\\nd)\\nFacilitar\\nla\\ninserció\\nde\\nla\\ncomunitat\\ncristiana\\ndel\\ncol·legi\\ni\\nla\\nseva\\nacció\\nevangelitzadora\\nen \\nla\\nrealitat\\npastoral\\nde\\nl’Església\\ndiocesana.\\ne)\\nAvaluar\\nperiòdicament\\nla\\ntasca\\nduta\\na\\nterme\\ni\\nel\\ngrau\\nd’assoliment\\ndels\\nobjectius \\nproposats.\\nf)\\nMantenir\\ninformada\\nla\\ndirecció,\\nels\\ncaps\\nd’estudis\\ni\\nels\\ntutors\\nde\\ntotes\\nles\\nactivitats\\nque \\nafectin\\nels\\nalumnes\\ndel\\nseu\\nàmbit\\no\\nel\\nnormal\\ndesenvolupament\\ndel\\ncurs.\\n15.\\nL’equip\\nde\\npastoral\\neducativa\\nes\\nreuneix\\nsetmanalment\\ni\\nsempre\\nque\\nel\\nconvoca\\nel \\ncoordinador\\nde\\npastoral\\nd’acord\\namb\\nel\\ndirector\\ndel\\ncentre.\\n45'), Document(page_content=\"relacionen\\ndirectament\\namb\\nla\\nformació,\\nvivència\\ni\\norientació\\ncristiana\\nde \\nl’alumnat,\\ni\\ncol·labora\\nen\\nl’animació\\npastoral\\ndel\\nconjunt\\nde\\nla\\ncomunitat\\neducativa.\\n13.\\nL'equip\\nde\\npastoral\\neducativa\\nestà\\nformat\\npel\\ndirector\\ndel\\ncentre,\\nel\\ncoordinador\\nde\\npastoral\\ni \\nrepresentants\\no\\nvocals\\ndels\\ndiversos\\ncicles\\no\\netapes\\ndel\\ncol·legi.\\nTambé\\nhi\\npot\\nparticipar\\nalgun \\nmembre\\nde\\nla\\ncomunitat\\nde\\nMissioners\\ndel\\nSagrat\\nCor.\\n14.\\nLes\\nfuncions\\npròpies\\nde\\nl’equip\\nde\\npastoral\\neducativa\\nsón\\nles\\nsegüents:\\na)\\nImpulsar\\ni\\nanimar\\niniciatives\\nreferents\\na\\nla\\nmissió\\nevangelitzadora\\nde\\nl’escola\\ncristiana, \\namb\\nla\\ncol·laboració\\ndels\\nprofessors,\\ntutors,\\npares\\nd'alumnes\\ni\\naltres\\ncol·laboradors\\ni\\ntenint \\nen\\ncompte\\nles\\ncaracterístiques\\nde\\nla\\ncomunitat\\neducativa.\\nb)\\nCol·laborar\\nactivament\\nen\\nl’elaboració\\ndel\\nprojecte\\neducatiu\\ni\\nde\\nla\\nprogramació\\ngeneral \\ndel\\ncentre,\\nsobretot\\npel\\nque\\nfa\\na\\nles\\nactivitats\\nrelatives\\nal\\ndiàleg\\nfe-cultura\\ni\\na\\nles\\niniciatives \\nque\\nexpressen\\nla\\ndimensió\\nespecífica\\nde\\nl’escola\\ncristiana.\\nc)\"), Document(page_content='Jesús.\\nc)\\nProgramar\\ni\\ncoordinar\\nels\\nensenyaments\\nde\\ncaràcter\\nreligiós,\\nel\\ndiàleg\\nfe-cultura\\ni\\nles \\nactivitats\\ncomplementàries\\ni\\nextraescolars\\nde\\ncaràcter\\nespecíficament\\nevangelitzador, \\ncatequesi\\nextraescolar,\\netc.\\nd)\\nCol·laborar\\nen\\nla\\nprogramació\\ni\\nrealització\\ndel\\nconjunt\\nde\\nles\\nactivitats\\neducatives\\ndel \\ncentre\\ni\\nde\\nla\\ntasca\\norientadora\\ndels\\ntutors.\\ne)\\nOrientar\\nl’acció\\npastoral\\ndel\\ncol·legi\\nvers\\nuna\\nparticipació\\nresponsable\\nen\\nla\\ncomunitat \\ncristiana.\\nf)\\nMantenir\\nrelació\\nhabitual\\namb\\nels\\nresponsables\\nde\\nl’acció\\npastoral\\nde\\nl’Església\\nlocal\\ni \\nestablir\\namb\\nella\\nuna\\ncol·laboració\\neficaç.\\n17')]\n"
     ]
    }
   ],
   "source": [
    "# Usage example\n",
    "prompt = \"When was the school founded?\"\n",
    "answer = create_qa_bot(prompt)\n",
    "print(answer)\n",
    "print(docs)"
   ],
   "metadata": {
    "collapsed": false,
    "ExecuteTime": {
     "end_time": "2023-10-10T20:30:53.410678Z",
     "start_time": "2023-10-10T20:30:45.914511Z"
    }
   },
   "id": "1c5ee52ea45343bf"
  },
  {
   "cell_type": "code",
   "execution_count": null,
   "outputs": [],
   "source": [],
   "metadata": {
    "collapsed": false
   },
   "id": "8e710cde61d98230"
  }
 ],
 "metadata": {
  "kernelspec": {
   "display_name": "Python 3 (ipykernel)",
   "language": "python",
   "name": "python3"
  },
  "language_info": {
   "codemirror_mode": {
    "name": "ipython",
    "version": 3
   },
   "file_extension": ".py",
   "mimetype": "text/x-python",
   "name": "python",
   "nbconvert_exporter": "python",
   "pygments_lexer": "ipython3",
   "version": "3.9.13"
  }
 },
 "nbformat": 4,
 "nbformat_minor": 5
}
