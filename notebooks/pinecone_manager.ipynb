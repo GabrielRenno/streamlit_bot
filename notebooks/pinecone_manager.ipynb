{
 "cells": [
  {
   "cell_type": "markdown",
   "source": [
    "# Pinecone Manager"
   ],
   "metadata": {
    "collapsed": false
   },
   "id": "a11fa2464d1343c5"
  },
  {
   "cell_type": "markdown",
   "source": [
    "## Uploading and Querying Documents"
   ],
   "metadata": {
    "collapsed": false
   },
   "id": "e13292bb5c6946a"
  },
  {
   "cell_type": "code",
   "execution_count": 123,
   "id": "initial_id",
   "metadata": {
    "collapsed": true,
    "ExecuteTime": {
     "end_time": "2023-11-02T18:14:55.695105Z",
     "start_time": "2023-11-02T18:14:55.691221Z"
    }
   },
   "outputs": [],
   "source": [
    "from langchain.document_loaders import PyPDFDirectoryLoader\n",
    "from langchain.document_loaders import DirectoryLoader\n",
    "from langchain.document_loaders import TextLoader\n",
    "from langchain.text_splitter import RecursiveCharacterTextSplitter\n",
    "from langchain.callbacks.manager import CallbackManager\n",
    "from langchain.llms import Ollama\n",
    "from langchain.callbacks.manager import CallbackManager\n",
    "from langchain.callbacks.streaming_stdout import StreamingStdOutCallbackHandler\n",
    "from langchain.embeddings import OllamaEmbeddings\n",
    "\n",
    "from langchain.vectorstores import Pinecone\n",
    "from langchain.embeddings.openai import OpenAIEmbeddings\n",
    "from langchain.llms import OpenAI\n",
    "from langchain.chains.question_answering import load_qa_chain\n",
    "import pinecone\n",
    "import random\n",
    "import itertools\n",
    "import glob\n",
    "\n",
    "from credentials import OPENAI_API_KEY, PINECONE_API_KEY, PINECONE_API_ENV"
   ]
  },
  {
   "cell_type": "code",
   "execution_count": 124,
   "outputs": [],
   "source": [
    "prompt = \"What is the name of the school?\""
   ],
   "metadata": {
    "collapsed": false,
    "ExecuteTime": {
     "end_time": "2023-11-02T18:14:56.150548Z",
     "start_time": "2023-11-02T18:14:56.144105Z"
    }
   },
   "id": "387912ed22399c85"
  },
  {
   "cell_type": "code",
   "execution_count": 125,
   "outputs": [],
   "source": [
    "# Load the documents\n",
    "pdf_files = \"../docs/\"\n",
    "txt_files = \"../data/website_content/\""
   ],
   "metadata": {
    "collapsed": false,
    "ExecuteTime": {
     "end_time": "2023-11-02T18:14:56.766332Z",
     "start_time": "2023-11-02T18:14:56.761346Z"
    }
   },
   "id": "df9fa6fe8604d997"
  },
  {
   "cell_type": "code",
   "execution_count": 126,
   "outputs": [
    {
     "data": {
      "text/plain": "111"
     },
     "execution_count": 126,
     "metadata": {},
     "output_type": "execute_result"
    }
   ],
   "source": [
    "loader = DirectoryLoader(txt_files, glob=\"**/*.txt\")\n",
    "docs = loader.load()\n",
    "len(docs)"
   ],
   "metadata": {
    "collapsed": false,
    "ExecuteTime": {
     "end_time": "2023-11-02T18:15:14.923416Z",
     "start_time": "2023-11-02T18:14:57.536071Z"
    }
   },
   "id": "ab16420d7f963e0e"
  },
  {
   "cell_type": "code",
   "execution_count": 127,
   "outputs": [
    {
     "data": {
      "text/plain": "Document(page_content=\"Infantil – Col·legi Sant Miquel\\n\\nSkip to content\\n\\nClickeduMoodleBibliotecaAgendaCSM OnlineMcYadraCorreuEDC93 410 40 05csm@csm.catRosselló 175, BarcelonaMenú principalEscolaQui som?On som?Caràcter propiBreu història del Col·legiInstal·lacionsOferta educativaInfantilPrimàriaESOBatxilleratDepartament d’OrientacióServeisResultatsProjectesProjecte CreixemEscoles + sosteniblesBibliotecaEscola multilingüeBatxillerat Internacional dualDia a diaNotíciesReconeixementsRoba esportiva CSMLlibres i material escolarPastoralBlog de PastoralCampanya QuiloNotíciesLema 2023-24ObjectiusVocals de PastoralActivitatsCatequesi de Primera ComunióCatequesi de ConfirmacióExtraescolarsLlistat d’activitatsCasal d’AnglèsCasal d’InfantilCasal de Primària i d’ESOExalumnesAula de teatreAFA\\n\\nCelebració de la Castanyada\\n\\nGallery\\n\\nCelebració de la Castanyada\\n\\nInfantil, Primària\\n\\nCelebració de la Castanyada\\n\\nEls alumnes d'Infantil i Primària hem celebrat la Castanyada. Els alumnes d'infantil ens hem disfressat de castanyers i castanyeres per assistir a la representació d'una  [...]\\n\\nBy Laura Viñals|2023-10-31T17:39:34+01:0031 octubre, 2023|Infantil, Primària|0 Comentaris\\n\\nLlegeix més\\n\\nI3 d’Educació Infantil: Inici del projecte “Mans”\\n\\nGallery\\n\\nI3 d’Educació Infantil: Inici del projecte “Mans”\\n\\nInfantil\\n\\nI3 d’Educació Infantil: Inici del projecte “Mans”\\n\\nEls alumnes d'I3 d'educació infantil hem començat el nostre projecte sobre les mans. La gallina Fina ha perdut el saquet del blat de moro perquè  [...]\\n\\nBy Laura Viñals|2023-10-18T14:43:34+02:0018 octubre, 2023|Infantil|0 Comentaris\\n\\nLlegeix més\\n\\nI4 d’Educació Infantil: Inici del projecte “Dolents de conte”\\n\\nGallery\\n\\nI4 d’Educació Infantil: Inici del projecte “Dolents de conte”\\n\\nInfantil\\n\\nI4 d’Educació Infantil: Inici del projecte “Dolents de conte”\\n\\nEls alumnes d'I4 hem començat el nostre projecte tot endevinant quins personatges misteriosos han entrat al col·legi per deixar-nos l'esmorzar. Hem vist les seves petjades  [...]\\n\\nBy Laura Viñals|2023-10-06T16:08:29+02:006 octubre, 2023|Infantil|0 Comentaris\\n\\nLlegeix més\\n\\nI5 d’Educació Infantil: Inici del projecte “Bruixes i mags”\\n\\nGallery\\n\\nI5 d’Educació Infantil: Inici del projecte “Bruixes i mags”\\n\\nInfantil\\n\\nI5 d’Educació Infantil: Inici del projecte “Bruixes i mags”\\n\\nAvui ens ha visitat en Ferran Homar, un gran mag! Ens ha delit amb el seu espectacle de màgia. Ens ha demostrat que és un  [...]\\n\\nBy Laura Viñals|2023-10-03T14:06:26+02:003 octubre, 2023|Infantil|0 Comentaris\\n\\nLlegeix més\\n\\nI3 d’Educació Infantil: Adaptació\\n\\nGallery\\n\\nI3 d’Educació Infantil: Adaptació\\n\\nInfantil\\n\\nI3 d’Educació Infantil: Adaptació\\n\\nQuan no fa ni deu dies de l'inici de curs, podem afirmar que els nous alumnes d'I3 ja es troben com a casa. I si  [...]\\n\\nBy Laura Viñals|2023-09-15T13:21:04+02:0015 setembre, 2023|Infantil|0 Comentaris\\n\\nLlegeix més\\n\\nI3 d’Educació Infantil: Colònies a La Llobeta\\n\\nGallery\\n\\nI3 d’Educació Infantil: Colònies a La Llobeta\\n\\nInfantil\\n\\nI3 d’Educació Infantil: Colònies a La Llobeta\\n\\nEls alumnes d'I3 hem estat dos dies de colònies a La Llobeta, al municipi d'Aiguafreda. Allà hem conegut la Noha, una hipopòtam a qui hem  [...]\\n\\nBy Laura Viñals|2023-06-21T16:08:16+02:0021 juny, 2023|Infantil|0 Comentaris\\n\\nLlegeix més\\n\\nI4 d’Educació Infantil: Colònies a Can Miqueló\\n\\nGallery\\n\\nI4 d’Educació Infantil: Colònies a Can Miqueló\\n\\nInfantil\\n\\nI4 d’Educació Infantil: Colònies a Can Miqueló\\n\\nEls alumnes d'I4 d'Educació Infantil hem anat de colònies a Can Miqueló. No hem parat ni un minut! Hem ajudat a en Grugru, un extraterrestre  [...]\\n\\nBy Laura Viñals|2023-06-21T12:13:10+02:0021 juny, 2023|Infantil|0 Comentaris\\n\\nLlegeix més\\n\\nEducació Infantil. Col·laboració de les famílies\\n\\nGallery\\n\\nEducació Infantil. Col·laboració de les famílies\\n\\nInfantil\\n\\nEducació Infantil. Col·laboració de les famílies\\n\\nS'acaba el trimestre i tanquem els projectes: el de les formigues, a I3, el del cavall, a I4, i el dels esports a I5. Durant  [...]\\n\\nBy Laura Viñals|2023-06-19T13:38:54+02:0019 juny, 2023|Infantil|0 Comentaris\\n\\nLlegeix més\\n\\nEducació Infantil: Cloenda I5\\n\\nGallery\\n\\nEducació Infantil: Cloenda I5\\n\\nInfantil\\n\\nEducació Infantil: Cloenda I5\\n\\nJa hem celebrat l'acte de Cloenda de tots els nens i nenes d'I5. Els alumnes, juntament amb els seus mestres, han preparat unes magnífiques actuacions  [...]\\n\\nBy Laura Viñals|2023-06-16T17:47:59+02:0016 juny, 2023|Infantil|0 Comentaris\\n\\nLlegeix més\\n\\nI5 d’Educació Infantil: Colònies a Mas Banyeres\\n\\nGallery\\n\\nI5 d’Educació Infantil: Colònies a Mas Banyeres\\n\\nInfantil\\n\\nI5 d’Educació Infantil: Colònies a Mas Banyeres\\n\\nEls alumnes d'educació infantil 5 hem anat de colònies a Mas Banyeres, Centelles. Hem conegut la granja i descobert el bosc: hem tingut cura d'una  [...]\\n\\nBy Laura Viñals|2023-05-30T12:16:50+02:0030 maig, 2023|Infantil|0 Comentaris\\n\\nLlegeix més\\n\\nCloenda del voluntariat 2BAT-INFANTIL\\n\\nGallery\\n\\nCloenda del voluntariat 2BAT-INFANTIL\\n\\nBatxillerat, Infantil\\n\\nCloenda del voluntariat 2BAT-INFANTIL\\n\\nAvui, dia 29 de maig, hem celebrat un emotiu acte de cloenda del curs de voluntariat dels alumnes de 2n de batxillerat amb alumnes d'infantil. [...]\\n\\nBy Laura Viñals|2023-05-29T16:16:17+02:0029 maig, 2023|Batxillerat, Infantil|0 Comentaris\\n\\nLlegeix més\\n\\nI3 d’Educació Infantil: Projecte sobre les formigues\\n\\nGallery\\n\\nI3 d’Educació Infantil: Projecte sobre les formigues\\n\\nInfantil\\n\\nI3 d’Educació Infantil: Projecte sobre les formigues\\n\\nEls alumnes d'I3 iniciem el projecte del tercer trimestre. Un projecte sobre les formigues, uns animalets petitons que viuen en comunitat, i que estan molt  [...]\\n\\nBy Laura Viñals|2023-04-20T10:39:29+02:0020 abril, 2023|Infantil|0 Comentaris\\n\\nLlegeix més\\n\\nI4 d’Educació Infantil: Projecte sobre el cavall\\n\\nGallery\\n\\nI4 d’Educació Infantil: Projecte sobre el cavall\\n\\nInfantil\\n\\nI4 d’Educació Infantil: Projecte sobre el cavall\\n\\nEls alumnes d'I4 hem començat un nou projecte. La Luci, especialista en cavalls, ens ha deixat una motxilla plena de cartolines, retoladors, tisores... per realitzar  [...]\\n\\nBy Laura Viñals|2023-04-17T14:32:32+02:0017 abril, 2023|Infantil|0 Comentaris\\n\\nLlegeix més\\n\\nI5 d’Educació Infantil: Projecte “L’esport”\\n\\nGallery\\n\\nI5 d’Educació Infantil: Projecte “L’esport”\\n\\nInfantil\\n\\nI5 d’Educació Infantil: Projecte “L’esport”\\n\\nAvui hem anat al gimnàs amb els nostres tutors. Ens han demanat ajuda perquè en Xavi, el professor de Physical Education, ha perdut totes les  [...]\\n\\nBy Laura Viñals|2023-04-13T15:28:34+02:0013 abril, 2023|Infantil|0 Comentaris\\n\\nLlegeix més\\n\\nEducació Infantil: Fem la Mona de Pasqua\\n\\nGallery\\n\\nEducació Infantil: Fem la Mona de Pasqua\\n\\nInfantil\\n\\nEducació Infantil: Fem la Mona de Pasqua\\n\\nAquest matí, els alumnes d'Educació Infantil hem elaborat la mona de Pasqua: l'hem guarnit amb un ou de xocolata i plomes. Totes fan molt goig,  [...]\\n\\nBy Laura Viñals|2023-03-31T13:11:35+02:0031 març, 2023|Infantil|0 Comentaris\\n\\nLlegeix més\\n\\nEducació Infantil: Col·laboració de les famílies\\n\\nGallery\\n\\nEducació Infantil: Col·laboració de les famílies\\n\\nInfantil\\n\\nEducació Infantil: Col·laboració de les famílies\\n\\nS'acaba el trimestre i tanquem el projecte internivells sobre l'hort. Durant aquests mesos hem realitzat diverses activitats, moltes han estat preparades pels nostres pares i  [...]\\n\\nBy Laura Viñals|2023-03-30T13:11:00+02:0030 març, 2023|Infantil|0 Comentaris\\n\\nLlegeix més\\n\\nEducació Infantil: Racons\\n\\nGallery\\n\\nEducació Infantil: Racons\\n\\nInfantil\\n\\nEducació Infantil: Racons\\n\\nPer acabar el projecte de cicle sobre l'hort, els alumnes d'educació infantil hem realitzat racons. Ens hem barrejat alumnes d'I3, I4 i I5 per fer  [...]\\n\\nBy Laura Viñals|2023-03-29T10:25:15+02:0029 març, 2023|Infantil|0 Comentaris\\n\\nLlegeix més\\n\\nEducació Infantil: Cerquem informació a la Biblioteca\\n\\nGallery\\n\\nEducació Infantil: Cerquem informació a la Biblioteca\\n\\nInfantil\\n\\nEducació Infantil: Cerquem informació a la Biblioteca\\n\\nDurant aquest trimestre els alumnes d'infantil hem anat a la biblioteca del col·legi a cercar informació sobre l'hort, el tema del nostre projecte de cicle. [...]\\n\\nBy Laura Viñals|2023-03-27T15:10:52+02:0027 març, 2023|Infantil|0 Comentaris\\n\\nLlegeix més\\n\\nEducació Infantil: Fem hort a Can Montcau\\n\\nGallery\\n\\nEducació Infantil: Fem hort a Can Montcau\\n\\nInfantil\\n\\nEducació Infantil: Fem hort a Can Montcau\\n\\nEls alumnes d'Educació Infantil vam anar a Can Montcau, a fer l'hort. Vam fer la sortida plegats (I3, I4 i I5), i vam poder gaudir  [...]\\n\\nBy Laura Viñals|2023-03-20T15:31:46+01:0020 març, 2023|Infantil|0 Comentaris\\n\\nLlegeix més\\n\\nI3 i I5 d’Educació Infantil: Fem macedònia\\n\\nGallery\\n\\nI3 i I5 d’Educació Infantil: Fem macedònia\\n\\nInfantil\\n\\nI3 i I5 d’Educació Infantil: Fem macedònia\\n\\nEls alumnes d’I3 i I5 ens hem ajuntat per fer una macedònia. Dins el nostre projecte de l’hort va sorgir la idea de preparar una  [...]\\n\\nBy Laura Viñals|2023-03-02T14:36:54+01:002 març, 2023|Infantil|0 Comentaris\\n\\nLlegeix més\\n\\n12Següent\\n\\nCOL·LEGI SANT MIQUEL\\n\\nMissioners del Sagrat Cor\\n\\nRosselló, 175\\n\\n08036 BARCELONA\\n\\nCol·legi Sant Miquel  - Rosselló, 175 08036 Barcelona - Tel. : 934104005 - csm@csm.cat  - Avís legal\\n\\nAlgunes de les fotografies en aquesta web van ser preses abans de la pandèmia COVID, per aquesta raó les persones que es mostren en elles van desproveïdes de mascareta o no mantenen una distància de seguretat.\", metadata={'source': '../data/website_content/55_Infantil_Col_legi.txt'})"
     },
     "execution_count": 127,
     "metadata": {},
     "output_type": "execute_result"
    }
   ],
   "source": [
    "# Show first 10 documents\n",
    "docs[0]"
   ],
   "metadata": {
    "collapsed": false,
    "ExecuteTime": {
     "end_time": "2023-11-02T18:15:16.212007Z",
     "start_time": "2023-11-02T18:15:16.205125Z"
    }
   },
   "id": "51660431cd246"
  },
  {
   "cell_type": "code",
   "execution_count": 140,
   "outputs": [
    {
     "data": {
      "text/plain": "[Document(page_content='Infantil – Col·legi Sant Miquel\\n\\nSkip to content\\n\\nClickeduMoodleBibliotecaAgendaCSM OnlineMcYadraCorreuEDC93 410 40 05csm@csm.catRosselló 175, BarcelonaMenú principalEscolaQui som?On som?Caràcter propiBreu història del Col·legiInstal·lacionsOferta educativaInfantilPrimàriaESOBatxilleratDepartament d’OrientacióServeisResultatsProjectesProjecte CreixemEscoles + sosteniblesBibliotecaEscola multilingüeBatxillerat Internacional dualDia a diaNotíciesReconeixementsRoba esportiva CSMLlibres i material escolarPastoralBlog de PastoralCampanya QuiloNotíciesLema 2023-24ObjectiusVocals de PastoralActivitatsCatequesi de Primera ComunióCatequesi de ConfirmacióExtraescolarsLlistat d’activitatsCasal d’AnglèsCasal d’InfantilCasal de Primària i d’ESOExalumnesAula de teatreAFA\\n\\nCelebració de la Castanyada', metadata={'source': '../data/website_content/55_Infantil_Col_legi.txt'}),\n Document(page_content=\"Celebració de la Castanyada\\n\\nGallery\\n\\nCelebració de la Castanyada\\n\\nInfantil, Primària\\n\\nCelebració de la Castanyada\\n\\nEls alumnes d'Infantil i Primària hem celebrat la Castanyada. Els alumnes d'infantil ens hem disfressat de castanyers i castanyeres per assistir a la representació d'una  [...]\\n\\nBy Laura Viñals|2023-10-31T17:39:34+01:0031 octubre, 2023|Infantil, Primària|0 Comentaris\\n\\nLlegeix més\\n\\nI3 d’Educació Infantil: Inici del projecte “Mans”\\n\\nGallery\\n\\nI3 d’Educació Infantil: Inici del projecte “Mans”\\n\\nInfantil\\n\\nI3 d’Educació Infantil: Inici del projecte “Mans”\\n\\nEls alumnes d'I3 d'educació infantil hem començat el nostre projecte sobre les mans. La gallina Fina ha perdut el saquet del blat de moro perquè  [...]\", metadata={'source': '../data/website_content/55_Infantil_Col_legi.txt'}),\n Document(page_content=\"By Laura Viñals|2023-10-18T14:43:34+02:0018 octubre, 2023|Infantil|0 Comentaris\\n\\nLlegeix més\\n\\nI4 d’Educació Infantil: Inici del projecte “Dolents de conte”\\n\\nGallery\\n\\nI4 d’Educació Infantil: Inici del projecte “Dolents de conte”\\n\\nInfantil\\n\\nI4 d’Educació Infantil: Inici del projecte “Dolents de conte”\\n\\nEls alumnes d'I4 hem començat el nostre projecte tot endevinant quins personatges misteriosos han entrat al col·legi per deixar-nos l'esmorzar. Hem vist les seves petjades  [...]\\n\\nBy Laura Viñals|2023-10-06T16:08:29+02:006 octubre, 2023|Infantil|0 Comentaris\\n\\nLlegeix més\\n\\nI5 d’Educació Infantil: Inici del projecte “Bruixes i mags”\\n\\nGallery\\n\\nI5 d’Educació Infantil: Inici del projecte “Bruixes i mags”\\n\\nInfantil\\n\\nI5 d’Educació Infantil: Inici del projecte “Bruixes i mags”\", metadata={'source': '../data/website_content/55_Infantil_Col_legi.txt'}),\n Document(page_content=\"Infantil\\n\\nI5 d’Educació Infantil: Inici del projecte “Bruixes i mags”\\n\\nAvui ens ha visitat en Ferran Homar, un gran mag! Ens ha delit amb el seu espectacle de màgia. Ens ha demostrat que és un  [...]\\n\\nBy Laura Viñals|2023-10-03T14:06:26+02:003 octubre, 2023|Infantil|0 Comentaris\\n\\nLlegeix més\\n\\nI3 d’Educació Infantil: Adaptació\\n\\nGallery\\n\\nI3 d’Educació Infantil: Adaptació\\n\\nInfantil\\n\\nI3 d’Educació Infantil: Adaptació\\n\\nQuan no fa ni deu dies de l'inici de curs, podem afirmar que els nous alumnes d'I3 ja es troben com a casa. I si  [...]\\n\\nBy Laura Viñals|2023-09-15T13:21:04+02:0015 setembre, 2023|Infantil|0 Comentaris\\n\\nLlegeix més\\n\\nI3 d’Educació Infantil: Colònies a La Llobeta\\n\\nGallery\\n\\nI3 d’Educació Infantil: Colònies a La Llobeta\\n\\nInfantil\\n\\nI3 d’Educació Infantil: Colònies a La Llobeta\", metadata={'source': '../data/website_content/55_Infantil_Col_legi.txt'}),\n Document(page_content=\"Infantil\\n\\nI3 d’Educació Infantil: Colònies a La Llobeta\\n\\nEls alumnes d'I3 hem estat dos dies de colònies a La Llobeta, al municipi d'Aiguafreda. Allà hem conegut la Noha, una hipopòtam a qui hem  [...]\\n\\nBy Laura Viñals|2023-06-21T16:08:16+02:0021 juny, 2023|Infantil|0 Comentaris\\n\\nLlegeix més\\n\\nI4 d’Educació Infantil: Colònies a Can Miqueló\\n\\nGallery\\n\\nI4 d’Educació Infantil: Colònies a Can Miqueló\\n\\nInfantil\\n\\nI4 d’Educació Infantil: Colònies a Can Miqueló\\n\\nEls alumnes d'I4 d'Educació Infantil hem anat de colònies a Can Miqueló. No hem parat ni un minut! Hem ajudat a en Grugru, un extraterrestre  [...]\\n\\nBy Laura Viñals|2023-06-21T12:13:10+02:0021 juny, 2023|Infantil|0 Comentaris\\n\\nLlegeix més\\n\\nEducació Infantil. Col·laboració de les famílies\\n\\nGallery\", metadata={'source': '../data/website_content/55_Infantil_Col_legi.txt'}),\n Document(page_content=\"Llegeix més\\n\\nEducació Infantil. Col·laboració de les famílies\\n\\nGallery\\n\\nEducació Infantil. Col·laboració de les famílies\\n\\nInfantil\\n\\nEducació Infantil. Col·laboració de les famílies\\n\\nS'acaba el trimestre i tanquem els projectes: el de les formigues, a I3, el del cavall, a I4, i el dels esports a I5. Durant  [...]\\n\\nBy Laura Viñals|2023-06-19T13:38:54+02:0019 juny, 2023|Infantil|0 Comentaris\\n\\nLlegeix més\\n\\nEducació Infantil: Cloenda I5\\n\\nGallery\\n\\nEducació Infantil: Cloenda I5\\n\\nInfantil\\n\\nEducació Infantil: Cloenda I5\\n\\nJa hem celebrat l'acte de Cloenda de tots els nens i nenes d'I5. Els alumnes, juntament amb els seus mestres, han preparat unes magnífiques actuacions  [...]\\n\\nBy Laura Viñals|2023-06-16T17:47:59+02:0016 juny, 2023|Infantil|0 Comentaris\\n\\nLlegeix més\", metadata={'source': '../data/website_content/55_Infantil_Col_legi.txt'}),\n Document(page_content=\"Llegeix més\\n\\nI5 d’Educació Infantil: Colònies a Mas Banyeres\\n\\nGallery\\n\\nI5 d’Educació Infantil: Colònies a Mas Banyeres\\n\\nInfantil\\n\\nI5 d’Educació Infantil: Colònies a Mas Banyeres\\n\\nEls alumnes d'educació infantil 5 hem anat de colònies a Mas Banyeres, Centelles. Hem conegut la granja i descobert el bosc: hem tingut cura d'una  [...]\\n\\nBy Laura Viñals|2023-05-30T12:16:50+02:0030 maig, 2023|Infantil|0 Comentaris\\n\\nLlegeix més\\n\\nCloenda del voluntariat 2BAT-INFANTIL\\n\\nGallery\\n\\nCloenda del voluntariat 2BAT-INFANTIL\\n\\nBatxillerat, Infantil\\n\\nCloenda del voluntariat 2BAT-INFANTIL\\n\\nAvui, dia 29 de maig, hem celebrat un emotiu acte de cloenda del curs de voluntariat dels alumnes de 2n de batxillerat amb alumnes d'infantil. [...]\", metadata={'source': '../data/website_content/55_Infantil_Col_legi.txt'}),\n Document(page_content=\"By Laura Viñals|2023-05-29T16:16:17+02:0029 maig, 2023|Batxillerat, Infantil|0 Comentaris\\n\\nLlegeix més\\n\\nI3 d’Educació Infantil: Projecte sobre les formigues\\n\\nGallery\\n\\nI3 d’Educació Infantil: Projecte sobre les formigues\\n\\nInfantil\\n\\nI3 d’Educació Infantil: Projecte sobre les formigues\\n\\nEls alumnes d'I3 iniciem el projecte del tercer trimestre. Un projecte sobre les formigues, uns animalets petitons que viuen en comunitat, i que estan molt  [...]\\n\\nBy Laura Viñals|2023-04-20T10:39:29+02:0020 abril, 2023|Infantil|0 Comentaris\\n\\nLlegeix més\\n\\nI4 d’Educació Infantil: Projecte sobre el cavall\\n\\nGallery\\n\\nI4 d’Educació Infantil: Projecte sobre el cavall\\n\\nInfantil\\n\\nI4 d’Educació Infantil: Projecte sobre el cavall\", metadata={'source': '../data/website_content/55_Infantil_Col_legi.txt'}),\n Document(page_content=\"Infantil\\n\\nI4 d’Educació Infantil: Projecte sobre el cavall\\n\\nEls alumnes d'I4 hem començat un nou projecte. La Luci, especialista en cavalls, ens ha deixat una motxilla plena de cartolines, retoladors, tisores... per realitzar  [...]\\n\\nBy Laura Viñals|2023-04-17T14:32:32+02:0017 abril, 2023|Infantil|0 Comentaris\\n\\nLlegeix més\\n\\nI5 d’Educació Infantil: Projecte “L’esport”\\n\\nGallery\\n\\nI5 d’Educació Infantil: Projecte “L’esport”\\n\\nInfantil\\n\\nI5 d’Educació Infantil: Projecte “L’esport”\\n\\nAvui hem anat al gimnàs amb els nostres tutors. Ens han demanat ajuda perquè en Xavi, el professor de Physical Education, ha perdut totes les  [...]\\n\\nBy Laura Viñals|2023-04-13T15:28:34+02:0013 abril, 2023|Infantil|0 Comentaris\\n\\nLlegeix més\\n\\nEducació Infantil: Fem la Mona de Pasqua\\n\\nGallery\", metadata={'source': '../data/website_content/55_Infantil_Col_legi.txt'}),\n Document(page_content=\"Llegeix més\\n\\nEducació Infantil: Fem la Mona de Pasqua\\n\\nGallery\\n\\nEducació Infantil: Fem la Mona de Pasqua\\n\\nInfantil\\n\\nEducació Infantil: Fem la Mona de Pasqua\\n\\nAquest matí, els alumnes d'Educació Infantil hem elaborat la mona de Pasqua: l'hem guarnit amb un ou de xocolata i plomes. Totes fan molt goig,  [...]\\n\\nBy Laura Viñals|2023-03-31T13:11:35+02:0031 març, 2023|Infantil|0 Comentaris\\n\\nLlegeix més\\n\\nEducació Infantil: Col·laboració de les famílies\\n\\nGallery\\n\\nEducació Infantil: Col·laboració de les famílies\\n\\nInfantil\\n\\nEducació Infantil: Col·laboració de les famílies\\n\\nS'acaba el trimestre i tanquem el projecte internivells sobre l'hort. Durant aquests mesos hem realitzat diverses activitats, moltes han estat preparades pels nostres pares i  [...]\", metadata={'source': '../data/website_content/55_Infantil_Col_legi.txt'})]"
     },
     "execution_count": 140,
     "metadata": {},
     "output_type": "execute_result"
    }
   ],
   "source": [
    "# Split documents into chunks\n",
    "text_splitter = RecursiveCharacterTextSplitter(chunk_size=800, chunk_overlap=80, separators=[\"\\n\\n\", \"\\n\", \"(?<=\\. )\", \" \", \"\"])\n",
    "chunks = text_splitter.split_documents(docs)\n",
    "\n",
    "chunks[:10]"
   ],
   "metadata": {
    "collapsed": false,
    "ExecuteTime": {
     "end_time": "2023-11-02T18:24:21.612721Z",
     "start_time": "2023-11-02T18:24:21.607159Z"
    }
   },
   "id": "d0557064d840de5f"
  },
  {
   "cell_type": "markdown",
   "source": [
    "## Embeddings and Upload"
   ],
   "metadata": {
    "collapsed": false
   },
   "id": "6fa62ee37767925"
  },
  {
   "cell_type": "code",
   "execution_count": 141,
   "outputs": [],
   "source": [
    "# Create embeddings\n",
    "embeddings = OpenAIEmbeddings(openai_api_key=OPENAI_API_KEY)\n",
    "\n",
    "# Create a Pinecone index and add the documents to it\n",
    "#pinecone.create_index(\"python-index\", dimension=1536, metric=\"cosine\")\n",
    "pinecone.init(api_key=PINECONE_API_KEY, environment=PINECONE_API_ENV)\n",
    "index_name = \"python-index\"\n",
    "docsearch = Pinecone.from_texts([t.page_content for t in chunks], embeddings, index_name=index_name)"
   ],
   "metadata": {
    "collapsed": false,
    "ExecuteTime": {
     "end_time": "2023-11-02T18:26:00.155097Z",
     "start_time": "2023-11-02T18:25:20.164074Z"
    }
   },
   "id": "70b7787782d91071"
  },
  {
   "cell_type": "markdown",
   "source": [
    "## Docsearch with Pinecone"
   ],
   "metadata": {
    "collapsed": false
   },
   "id": "514b88b27e06439c"
  },
  {
   "cell_type": "code",
   "execution_count": 10,
   "outputs": [
    {
     "name": "stdout",
     "output_type": "stream",
     "text": [
      "\n",
      "The name of the school is \"El Col·legi Sant Miquel\""
     ]
    },
    {
     "data": {
      "text/plain": "'\\nThe name of the school is \"El Col·legi Sant Miquel\"'"
     },
     "execution_count": 10,
     "metadata": {},
     "output_type": "execute_result"
    }
   ],
   "source": [
    "# Perform similarity search\n",
    "docs = docsearch.similarity_search(prompt)\n",
    "\n",
    "# Load the question answering chain\n",
    "llm = Ollama(model=\"mistral\", callback_manager=CallbackManager([StreamingStdOutCallbackHandler()]))\n",
    "chain = load_qa_chain(llm, chain_type=\"stuff\")\n",
    "\n",
    "# Query the documents and get the answer\n",
    "answer = chain.run(input_documents=docs, question=prompt)\n",
    "answer"
   ],
   "metadata": {
    "collapsed": false,
    "ExecuteTime": {
     "end_time": "2023-10-27T22:09:09.323816Z",
     "start_time": "2023-10-27T22:09:02.682451Z"
    }
   },
   "id": "605a135a5a96e54"
  },
  {
   "cell_type": "markdown",
   "source": [
    "## Connecting to Pinecone directly"
   ],
   "metadata": {
    "collapsed": false
   },
   "id": "b9e7a7e114e59686"
  },
  {
   "cell_type": "code",
   "execution_count": 11,
   "outputs": [
    {
     "data": {
      "text/plain": "['python-index']"
     },
     "execution_count": 11,
     "metadata": {},
     "output_type": "execute_result"
    }
   ],
   "source": [
    "# Listing the existing indexes\n",
    "pinecone.list_indexes()"
   ],
   "metadata": {
    "collapsed": false,
    "ExecuteTime": {
     "end_time": "2023-10-27T22:10:19.691725Z",
     "start_time": "2023-10-27T22:10:17.397496Z"
    }
   },
   "id": "6e095d6645a9b93a"
  },
  {
   "cell_type": "code",
   "execution_count": 12,
   "outputs": [],
   "source": [
    "# Connecting to an existing index\n",
    "index = pinecone.Index(\"python-index\")"
   ],
   "metadata": {
    "collapsed": false,
    "ExecuteTime": {
     "end_time": "2023-10-27T22:10:22.099280Z",
     "start_time": "2023-10-27T22:10:22.091924Z"
    }
   },
   "id": "2990f31d66adfbe6"
  },
  {
   "cell_type": "code",
   "execution_count": 13,
   "outputs": [
    {
     "data": {
      "text/plain": "IndexDescription(name='python-index', metric='cosine', replicas=1, dimension=1536.0, shards=1, pods=1, pod_type='p1', status={'ready': True, 'state': 'Ready'}, metadata_config=None, source_collection='')"
     },
     "execution_count": 13,
     "metadata": {},
     "output_type": "execute_result"
    }
   ],
   "source": [
    "# Get information about the index\n",
    "pinecone.describe_index(\"python-index\")"
   ],
   "metadata": {
    "collapsed": false,
    "ExecuteTime": {
     "end_time": "2023-10-27T22:10:31.631848Z",
     "start_time": "2023-10-27T22:10:30.999330Z"
    }
   },
   "id": "b4a54f683f137dfd"
  },
  {
   "cell_type": "markdown",
   "source": [
    "## Upserting documents"
   ],
   "metadata": {
    "collapsed": false
   },
   "id": "63ea55ece7643536"
  },
  {
   "cell_type": "code",
   "execution_count": 39,
   "outputs": [
    {
     "data": {
      "text/plain": "[Document(page_content='  \\n Col·legi Sant Miquel  \\nUna institució centenària que mira al futur  \\n \\n \\n \\nEL COR DEL NOSTRE PROJECTE EDUCATIU  \\n \\nCOL·LEGI SANT MIQUEL \\n \\n \\nUna institució centenària que mira al futur  \\n \\nMés de cent anys d’història  \\n \\nL’any 1898 els Missioners del Sagrat Cor van crear el  Col·legi Sant \\nMiquel amb la finalitat de realitzar la seva missió e vangelitzadora \\nmitjançant l’acció educativa al servei dels habitants de Barcelona i els seus voltants.  \\nDes de llavors i de manera ininterrompuda, milers d’alumnes han passat per les nostres aules i és a ells justament que hem tractat de \\nservir , tot oferint -los una educació de qualitat que, més enllà de la \\nsimple instrucció acadèmica, els ha inculcat  uns valors  humans i \\ncristians  que els han ajudat  a ser, a més de bons professionals, \\nhomes i dones per als altres, ciutadans honrats  i transmissors dels \\nvalors evangèlics.  \\nL’any 1998 vam celebrar el Centenari i vam aprofitar per recordar les nostres senyes d’identitat, en coherència amb les quals pretenem continuar servint totes les persones que decideixin apostar pel nostre \\nestil educatiu, que continua essent l’ estil MSC , encarnat avui  \\nmajoritàriament en un equip de seglars  compromesos.  \\n \\n \\nQui som  \\n \\n• El Col·legi Sant Miquel, situat al carrer Rosselló, 175, a l’Eixample de Barcelona, és un centre edu catiu catòlic, que té com a titular  la \\ncongregació  dels Missioners d el Sagrat Cor de Jesús. ', metadata={'source': '../docs/DM_DIR_PEC_JUNY_23.pdf', 'page': 0}),\n Document(page_content='• Som un centre educatiu privat d’iniciativa social i concertat pel \\nDepartament d’Educació de la Generalitat des de I 3 d’educació \\ninfantil fins el final de l’educació  secundària obligatòria.  \\n• El nostre batxillerat ofere ix les modalitats de Tecnologia i  Ciències \\nde la Salut, Humanitats i Ciències Socials.  \\n• Entre els serveis, disposem de mitja pensió amb cuina pròpia, de \\nbiblioteca, piscina,  departament d’ orientació,  guarderia de matí i \\nde tarda , i casal d’estiu . \\n• Oferim, juntament amb l’ APMA, moltes activitats extraescolars i \\ncomplementàries.  \\n• Disposem de la certificació de qualitat ISO 9001:20 15 i apostem \\ndecididament per la potenciació de l’ensenyament dels idiomes i la innovació pedagògica constant . \\n ', metadata={'source': '../docs/DM_DIR_PEC_JUNY_23.pdf', 'page': 1})]"
     },
     "execution_count": 39,
     "metadata": {},
     "output_type": "execute_result"
    }
   ],
   "source": [
    "# Test docs\n",
    "test_docs = docs[:2]\n",
    "test_docs"
   ],
   "metadata": {
    "collapsed": false,
    "ExecuteTime": {
     "end_time": "2023-10-26T15:26:23.436105Z",
     "start_time": "2023-10-26T15:26:23.426576Z"
    }
   },
   "id": "cd92fea9137773d7"
  },
  {
   "cell_type": "code",
   "execution_count": 44,
   "outputs": [
    {
     "data": {
      "text/plain": "['  \\n Col·legi Sant Miquel  \\nUna institució centenària que mira al futur  \\n \\n \\n \\nEL COR DEL NOSTRE PROJECTE EDUCATIU  \\n \\nCOL·LEGI SANT MIQUEL \\n \\n \\nUna institució centenària que mira al futur  \\n \\nMés de cent anys d’història  \\n \\nL’any 1898 els Missioners del Sagrat Cor van crear el  Col·legi Sant \\nMiquel amb la finalitat de realitzar la seva missió e vangelitzadora \\nmitjançant l’acció educativa al servei dels habitants de Barcelona i els seus voltants.  \\nDes de llavors i de manera ininterrompuda, milers d’alumnes han passat per les nostres aules i és a ells justament que hem tractat de \\nservir , tot oferint -los una educació de qualitat que, més enllà de la \\nsimple instrucció acadèmica, els ha inculcat  uns valors  humans i \\ncristians  que els han ajudat  a ser, a més de bons professionals, \\nhomes i dones per als altres, ciutadans honrats  i transmissors dels \\nvalors evangèlics.  \\nL’any 1998 vam celebrar el Centenari i vam aprofitar per recordar les nostres senyes d’identitat, en coherència amb les quals pretenem continuar servint totes les persones que decideixin apostar pel nostre \\nestil educatiu, que continua essent l’ estil MSC , encarnat avui  \\nmajoritàriament en un equip de seglars  compromesos.  \\n \\n \\nQui som  \\n \\n• El Col·legi Sant Miquel, situat al carrer Rosselló, 175, a l’Eixample de Barcelona, és un centre edu catiu catòlic, que té com a titular  la \\ncongregació  dels Missioners d el Sagrat Cor de Jesús. ',\n '• Som un centre educatiu privat d’iniciativa social i concertat pel \\nDepartament d’Educació de la Generalitat des de I 3 d’educació \\ninfantil fins el final de l’educació  secundària obligatòria.  \\n• El nostre batxillerat ofere ix les modalitats de Tecnologia i  Ciències \\nde la Salut, Humanitats i Ciències Socials.  \\n• Entre els serveis, disposem de mitja pensió amb cuina pròpia, de \\nbiblioteca, piscina,  departament d’ orientació,  guarderia de matí i \\nde tarda , i casal d’estiu . \\n• Oferim, juntament amb l’ APMA, moltes activitats extraescolars i \\ncomplementàries.  \\n• Disposem de la certificació de qualitat ISO 9001:20 15 i apostem \\ndecididament per la potenciació de l’ensenyament dels idiomes i la innovació pedagògica constant . \\n ']"
     },
     "execution_count": 44,
     "metadata": {},
     "output_type": "execute_result"
    }
   ],
   "source": [
    "# Extract chunks\n",
    "chunks = [t.page_content for t in test_docs]\n",
    "chunks"
   ],
   "metadata": {
    "collapsed": false,
    "ExecuteTime": {
     "end_time": "2023-10-26T15:35:34.065983Z",
     "start_time": "2023-10-26T15:35:34.054912Z"
    }
   },
   "id": "7b6765072bea56c5"
  },
  {
   "cell_type": "code",
   "execution_count": null,
   "outputs": [],
   "source": [],
   "metadata": {
    "collapsed": false
   },
   "id": "e8578a36c7e18235"
  }
 ],
 "metadata": {
  "kernelspec": {
   "display_name": "Python 3",
   "language": "python",
   "name": "python3"
  },
  "language_info": {
   "codemirror_mode": {
    "name": "ipython",
    "version": 2
   },
   "file_extension": ".py",
   "mimetype": "text/x-python",
   "name": "python",
   "nbconvert_exporter": "python",
   "pygments_lexer": "ipython2",
   "version": "2.7.6"
  }
 },
 "nbformat": 4,
 "nbformat_minor": 5
}
